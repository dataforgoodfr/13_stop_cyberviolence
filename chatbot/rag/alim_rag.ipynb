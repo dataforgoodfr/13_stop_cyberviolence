{
 "cells": [
  {
   "cell_type": "code",
   "execution_count": 3,
   "metadata": {},
   "outputs": [],
   "source": [
    "import chromadb\n",
    "import os\n",
    "\n",
    "from langchain.document_loaders import PyPDFLoader\n",
    "from langchain.text_splitter import CharacterTextSplitter\n",
    "from langchain_chroma import Chroma\n",
    "from langchain.embeddings import OpenAIEmbeddings\n",
    "\n",
    "from chromadb.utils import embedding_functions"
   ]
  },
  {
   "cell_type": "code",
   "execution_count": 4,
   "metadata": {},
   "outputs": [],
   "source": [
    "path_client = \"./client\"\n",
    "\n",
    "def get_client():\n",
    "    return chromadb.PersistentClient(path=path_client)"
   ]
  },
  {
   "cell_type": "code",
   "execution_count": 5,
   "metadata": {},
   "outputs": [],
   "source": [
    "chroma_client = get_client()"
   ]
  },
  {
   "cell_type": "code",
   "execution_count": 6,
   "metadata": {},
   "outputs": [],
   "source": [
    "pdf_folder_path = \"./raw_files\"\n",
    "documents = []\n",
    "\n",
    "for file in os.listdir(pdf_folder_path):\n",
    "    if file.endswith('.pdf'):\n",
    "        pdf_path = os.path.join(pdf_folder_path, file)\n",
    "        loader = PyPDFLoader(pdf_path)\n",
    "        documents.extend(loader.load())"
   ]
  },
  {
   "cell_type": "code",
   "execution_count": 7,
   "metadata": {},
   "outputs": [],
   "source": [
    "text_splitter = CharacterTextSplitter(chunk_size=1000, chunk_overlap=10)\n",
    "chunked_documents = text_splitter.split_documents(documents)"
   ]
  },
  {
   "cell_type": "code",
   "execution_count": 9,
   "metadata": {},
   "outputs": [],
   "source": [
    "chroma_client.delete_collection(name=\"sc_collection\")"
   ]
  },
  {
   "cell_type": "code",
   "execution_count": 10,
   "metadata": {},
   "outputs": [],
   "source": [
    "collection = chroma_client.create_collection(\"sc_collection\")"
   ]
  },
  {
   "cell_type": "code",
   "execution_count": 11,
   "metadata": {},
   "outputs": [],
   "source": [
    "embedding_function = embedding_functions.DefaultEmbeddingFunction()"
   ]
  },
  {
   "cell_type": "code",
   "execution_count": 12,
   "metadata": {},
   "outputs": [
    {
     "data": {
      "text/plain": [
       "Document(metadata={'producer': 'LibreOffice 25.2.1.2 (X86_64) / LibreOffice Community', 'creator': 'Writer', 'creationdate': '2025-03-14T13:00:13+01:00', 'source': './raw_files/Cycle 3 - Ateliers Jeunes - Ma place dans le monde numérique.pdf', 'total_pages': 11, 'page': 0, 'page_label': '1'}, page_content='Diapo 1 \\nPas de message\\nDiapo 2 \\nBienvenue,\\nPendant cet atelier, tu vas pouvoir explorer des sujets importants autour de ton \\ncomportement en ligne. Voici trois choses à retenir avant de commencer : \\nPremièrement, tu es anonyme.\\nTes réponses aux questions posées lors de cet atelier resteront confidentielles. Cela veut \\ndire que tu peux répondre librement, sans que personne ne sache ce que tu as dit.\\nDeuxièmement, si un sujet te préoccupe ou si tu rencontres un problème, il est important de \\nsavoir qu’il y a des personnes prêtes à t’aider :\\n○ Le bouton violet te permet d’être contacté par le référent de ton académie.\\n○ Le bouton vert te permet de joindre un conseiller du 30 18 pour obtenir des \\nconseils anonymes d’un agent et supprimer un contenu gênant.\\n○ Le bouton jaune te permet de prendre rendez-vous avec un membre de \\nl’équipe des Centres Relier qui pourra t’écouter et t’accompagnersi tu as \\nsubis des cyberviolences\\nEnfin, si tu veux aller plus loin, à la fin de cet atelier, tu pourras t’inscrire à des sessions \\nd’approfondissement sur les sujets qui t’intéressent, et échanger avec d’autres personnes \\nen groupe.\\nNous sommes là pour t’accompagner et te donner des clés pour mieux comprendre ton \\ncomportement en ligne. Prêt ? C’est parti ! \\nDiapo 3\\nTu passes et passeras une partie importante de ton temps dans le monde numérique. Le monde \\nnumérique comprend tout ce que tu fais en ligne ou  qui se déroulent via des appareils \\nconnectés comme les smartphones, ordinateurs et tablettes. L’objectif de cet atelier est de nous \\ninterroger sur la place que tu y occupes et tes relations avec les autres en ligne.\\nNous aborderons 3 sujets, les groupes en lignes et comment tu gères tes relations avec les \\nautres sur les applis ou jeux vidéo. Les cyberviolences que tu peux rencontrer et comment réagir \\nface à ça, et enfin les amitiés que tu peux te faire en ligne, les avantages et les risques de celles-\\nci.')"
      ]
     },
     "execution_count": 12,
     "metadata": {},
     "output_type": "execute_result"
    }
   ],
   "source": [
    "chunked_documents[0]"
   ]
  },
  {
   "cell_type": "code",
   "execution_count": 36,
   "metadata": {},
   "outputs": [
    {
     "ename": "KeyboardInterrupt",
     "evalue": "",
     "output_type": "error",
     "traceback": [
      "\u001b[0;31m---------------------------------------------------------------------------\u001b[0m",
      "\u001b[0;31mKeyboardInterrupt\u001b[0m                         Traceback (most recent call last)",
      "Cell \u001b[0;32mIn[36], line 4\u001b[0m\n\u001b[1;32m      1\u001b[0m i \u001b[38;5;241m=\u001b[39m \u001b[38;5;241m0\u001b[39m\n\u001b[1;32m      2\u001b[0m \u001b[38;5;28;01mfor\u001b[39;00m doc \u001b[38;5;129;01min\u001b[39;00m chunked_documents:\n\u001b[0;32m----> 4\u001b[0m     embeddings_doc \u001b[38;5;241m=\u001b[39m \u001b[43membedding_function\u001b[49m\u001b[43m(\u001b[49m\u001b[43mdoc\u001b[49m\u001b[38;5;241;43m.\u001b[39;49m\u001b[43mpage_content\u001b[49m\u001b[43m)\u001b[49m\n\u001b[1;32m      5\u001b[0m     collection\u001b[38;5;241m.\u001b[39madd(\n\u001b[1;32m      6\u001b[0m         documents \u001b[38;5;241m=\u001b[39m doc\u001b[38;5;241m.\u001b[39mpage_content,\n\u001b[1;32m      7\u001b[0m         embeddings \u001b[38;5;241m=\u001b[39m [embeddings_doc[\u001b[38;5;241m0\u001b[39m]\u001b[38;5;241m.\u001b[39mtolist()],\n\u001b[1;32m      8\u001b[0m         metadatas \u001b[38;5;241m=\u001b[39m doc\u001b[38;5;241m.\u001b[39mmetadata,\n\u001b[1;32m      9\u001b[0m         ids\u001b[38;5;241m=\u001b[39m[\u001b[38;5;28mstr\u001b[39m(i)]\n\u001b[1;32m     10\u001b[0m     )\n\u001b[1;32m     11\u001b[0m     \u001b[38;5;28mprint\u001b[39m(\u001b[38;5;124mf\u001b[39m\u001b[38;5;124m'\u001b[39m\u001b[38;5;124mdoc \u001b[39m\u001b[38;5;132;01m{\u001b[39;00mi\u001b[38;5;132;01m}\u001b[39;00m\u001b[38;5;124m/\u001b[39m\u001b[38;5;132;01m{\u001b[39;00m\u001b[38;5;28mlen\u001b[39m(chunked_documents)\u001b[38;5;132;01m}\u001b[39;00m\u001b[38;5;124m added\u001b[39m\u001b[38;5;124m'\u001b[39m)\n",
      "File \u001b[0;32m~/Documents/code/d4g/13_stop_cyberviolence/chatbot/.venv/lib/python3.12/site-packages/chromadb/api/types.py:466\u001b[0m, in \u001b[0;36mEmbeddingFunction.__init_subclass__.<locals>.__call__\u001b[0;34m(self, input)\u001b[0m\n\u001b[1;32m    465\u001b[0m \u001b[38;5;28;01mdef\u001b[39;00m\u001b[38;5;250m \u001b[39m\u001b[38;5;21m__call__\u001b[39m(\u001b[38;5;28mself\u001b[39m: EmbeddingFunction[D], \u001b[38;5;28minput\u001b[39m: D) \u001b[38;5;241m-\u001b[39m\u001b[38;5;241m>\u001b[39m Embeddings:\n\u001b[0;32m--> 466\u001b[0m     result \u001b[38;5;241m=\u001b[39m \u001b[43mcall\u001b[49m\u001b[43m(\u001b[49m\u001b[38;5;28;43mself\u001b[39;49m\u001b[43m,\u001b[49m\u001b[43m \u001b[49m\u001b[38;5;28;43minput\u001b[39;49m\u001b[43m)\u001b[49m\n\u001b[1;32m    467\u001b[0m     \u001b[38;5;28;01massert\u001b[39;00m result \u001b[38;5;129;01mis\u001b[39;00m \u001b[38;5;129;01mnot\u001b[39;00m \u001b[38;5;28;01mNone\u001b[39;00m\n\u001b[1;32m    468\u001b[0m     \u001b[38;5;28;01mreturn\u001b[39;00m validate_embeddings(cast(Embeddings, normalize_embeddings(result)))\n",
      "File \u001b[0;32m~/Documents/code/d4g/13_stop_cyberviolence/chatbot/.venv/lib/python3.12/site-packages/chromadb/utils/embedding_functions/onnx_mini_lm_l6_v2.py:200\u001b[0m, in \u001b[0;36mONNXMiniLM_L6_V2.__call__\u001b[0;34m(self, input)\u001b[0m\n\u001b[1;32m    197\u001b[0m \u001b[38;5;28;01mdef\u001b[39;00m\u001b[38;5;250m \u001b[39m\u001b[38;5;21m__call__\u001b[39m(\u001b[38;5;28mself\u001b[39m, \u001b[38;5;28minput\u001b[39m: Documents) \u001b[38;5;241m-\u001b[39m\u001b[38;5;241m>\u001b[39m Embeddings:\n\u001b[1;32m    198\u001b[0m     \u001b[38;5;66;03m# Only download the model when it is actually used\u001b[39;00m\n\u001b[1;32m    199\u001b[0m     \u001b[38;5;28mself\u001b[39m\u001b[38;5;241m.\u001b[39m_download_model_if_not_exists()\n\u001b[0;32m--> 200\u001b[0m     \u001b[38;5;28;01mreturn\u001b[39;00m cast(Embeddings, \u001b[38;5;28;43mself\u001b[39;49m\u001b[38;5;241;43m.\u001b[39;49m\u001b[43m_forward\u001b[49m\u001b[43m(\u001b[49m\u001b[38;5;28;43minput\u001b[39;49m\u001b[43m)\u001b[49m)\n",
      "File \u001b[0;32m~/Documents/code/d4g/13_stop_cyberviolence/chatbot/.venv/lib/python3.12/site-packages/chromadb/utils/embedding_functions/onnx_mini_lm_l6_v2.py:143\u001b[0m, in \u001b[0;36mONNXMiniLM_L6_V2._forward\u001b[0;34m(self, documents, batch_size)\u001b[0m\n\u001b[1;32m    134\u001b[0m attention_mask \u001b[38;5;241m=\u001b[39m np\u001b[38;5;241m.\u001b[39marray([e\u001b[38;5;241m.\u001b[39mattention_mask \u001b[38;5;28;01mfor\u001b[39;00m e \u001b[38;5;129;01min\u001b[39;00m encoded])\n\u001b[1;32m    135\u001b[0m onnx_input \u001b[38;5;241m=\u001b[39m {\n\u001b[1;32m    136\u001b[0m     \u001b[38;5;124m\"\u001b[39m\u001b[38;5;124minput_ids\u001b[39m\u001b[38;5;124m\"\u001b[39m: np\u001b[38;5;241m.\u001b[39marray(input_ids, dtype\u001b[38;5;241m=\u001b[39mnp\u001b[38;5;241m.\u001b[39mint64),\n\u001b[1;32m    137\u001b[0m     \u001b[38;5;124m\"\u001b[39m\u001b[38;5;124mattention_mask\u001b[39m\u001b[38;5;124m\"\u001b[39m: np\u001b[38;5;241m.\u001b[39marray(attention_mask, dtype\u001b[38;5;241m=\u001b[39mnp\u001b[38;5;241m.\u001b[39mint64),\n\u001b[0;32m   (...)\u001b[0m\n\u001b[1;32m    141\u001b[0m     ),\n\u001b[1;32m    142\u001b[0m }\n\u001b[0;32m--> 143\u001b[0m model_output \u001b[38;5;241m=\u001b[39m \u001b[38;5;28;43mself\u001b[39;49m\u001b[38;5;241;43m.\u001b[39;49m\u001b[43mmodel\u001b[49m\u001b[38;5;241;43m.\u001b[39;49m\u001b[43mrun\u001b[49m\u001b[43m(\u001b[49m\u001b[38;5;28;43;01mNone\u001b[39;49;00m\u001b[43m,\u001b[49m\u001b[43m \u001b[49m\u001b[43monnx_input\u001b[49m\u001b[43m)\u001b[49m\n\u001b[1;32m    144\u001b[0m last_hidden_state \u001b[38;5;241m=\u001b[39m model_output[\u001b[38;5;241m0\u001b[39m]\n\u001b[1;32m    145\u001b[0m \u001b[38;5;66;03m# Perform mean pooling with attention weighting\u001b[39;00m\n",
      "File \u001b[0;32m~/Documents/code/d4g/13_stop_cyberviolence/chatbot/.venv/lib/python3.12/site-packages/onnxruntime/capi/onnxruntime_inference_collection.py:270\u001b[0m, in \u001b[0;36mSession.run\u001b[0;34m(self, output_names, input_feed, run_options)\u001b[0m\n\u001b[1;32m    268\u001b[0m     output_names \u001b[38;5;241m=\u001b[39m [output\u001b[38;5;241m.\u001b[39mname \u001b[38;5;28;01mfor\u001b[39;00m output \u001b[38;5;129;01min\u001b[39;00m \u001b[38;5;28mself\u001b[39m\u001b[38;5;241m.\u001b[39m_outputs_meta]\n\u001b[1;32m    269\u001b[0m \u001b[38;5;28;01mtry\u001b[39;00m:\n\u001b[0;32m--> 270\u001b[0m     \u001b[38;5;28;01mreturn\u001b[39;00m \u001b[38;5;28;43mself\u001b[39;49m\u001b[38;5;241;43m.\u001b[39;49m\u001b[43m_sess\u001b[49m\u001b[38;5;241;43m.\u001b[39;49m\u001b[43mrun\u001b[49m\u001b[43m(\u001b[49m\u001b[43moutput_names\u001b[49m\u001b[43m,\u001b[49m\u001b[43m \u001b[49m\u001b[43minput_feed\u001b[49m\u001b[43m,\u001b[49m\u001b[43m \u001b[49m\u001b[43mrun_options\u001b[49m\u001b[43m)\u001b[49m\n\u001b[1;32m    271\u001b[0m \u001b[38;5;28;01mexcept\u001b[39;00m C\u001b[38;5;241m.\u001b[39mEPFail \u001b[38;5;28;01mas\u001b[39;00m err:\n\u001b[1;32m    272\u001b[0m     \u001b[38;5;28;01mif\u001b[39;00m \u001b[38;5;28mself\u001b[39m\u001b[38;5;241m.\u001b[39m_enable_fallback:\n",
      "\u001b[0;31mKeyboardInterrupt\u001b[0m: "
     ]
    }
   ],
   "source": [
    "i = 0\n",
    "for doc in chunked_documents:\n",
    "    \n",
    "    embeddings_doc = embedding_function(doc.page_content)\n",
    "    collection.add(\n",
    "        documents = doc.page_content,\n",
    "        embeddings = [embeddings_doc[0].tolist()],\n",
    "        metadatas = doc.metadata,\n",
    "        ids=[str(i)]\n",
    "    )\n",
    "    print(f'doc {i}/{len(chunked_documents)} added')\n",
    "    i += 1"
   ]
  },
  {
   "cell_type": "code",
   "execution_count": 34,
   "metadata": {},
   "outputs": [
    {
     "data": {
      "text/plain": [
       "{'ids': ['1', '2', '3', '4', '5', '6', '7', '8', '9', '10'],\n",
       " 'embeddings': array([[-0.11551929,  0.0431053 , -0.00964827, ...,  0.02105021,\n",
       "         -0.05008018,  0.00334117],\n",
       "        [-0.11551929,  0.0431053 , -0.00964827, ...,  0.02105021,\n",
       "         -0.05008018,  0.00334117],\n",
       "        [-0.01828039,  0.07142014, -0.06651127, ...,  0.03860461,\n",
       "         -0.00139447,  0.03592809],\n",
       "        ...,\n",
       "        [-0.04983491,  0.04741006,  0.02075684, ...,  0.00342485,\n",
       "         -0.01610464, -0.00163354],\n",
       "        [-0.08815008,  0.0389121 , -0.06267454, ...,  0.02407954,\n",
       "          0.06344451,  0.02097689],\n",
       "        [-0.11551929,  0.0431053 , -0.00964827, ...,  0.02105021,\n",
       "         -0.05008018,  0.00334117]]),\n",
       " 'documents': ['Diapo 1 \\nPas de message\\nDiapo 2 \\nBienvenue,\\nPendant cet atelier, tu vas pouvoir explorer des sujets importants autour de ton \\ncomportement en ligne. Voici trois choses à retenir avant de commencer : \\nPremièrement, tu es anonyme.\\nTes réponses aux questions posées lors de cet atelier resteront confidentielles. Cela veut \\ndire que tu peux répondre librement, sans que personne ne sache ce que tu as dit.\\nDeuxièmement, si un sujet te préoccupe ou si tu rencontres un problème, il est important de \\nsavoir qu’il y a des personnes prêtes à t’aider :\\n○ Le bouton violet te permet d’être contacté par le référent de ton académie.\\n○ Le bouton vert te permet de joindre un conseiller du 30 18 pour obtenir des \\nconseils anonymes d’un agent et supprimer un contenu gênant.\\n○ Le bouton jaune te permet de prendre rendez-vous avec un membre de \\nl’équipe des Centres Relier qui pourra t’écouter et t’accompagnersi tu as \\nsubis des cyberviolences\\nEnfin, si tu veux aller plus loin, à la fin de cet atelier, tu pourras t’inscrire à des sessions \\nd’approfondissement sur les sujets qui t’intéressent, et échanger avec d’autres personnes \\nen groupe.\\nNous sommes là pour t’accompagner et te donner des clés pour mieux comprendre ton \\ncomportement en ligne. Prêt ? C’est parti ! \\nDiapo 3\\nTu passes et passeras une partie importante de ton temps dans le monde numérique. Le monde \\nnumérique comprend tout ce que tu fais en ligne ou  qui se déroulent via des appareils \\nconnectés comme les smartphones, ordinateurs et tablettes. L’objectif de cet atelier est de nous \\ninterroger sur la place que tu y occupes et tes relations avec les autres en ligne.\\nNous aborderons 3 sujets, les groupes en lignes et comment tu gères tes relations avec les \\nautres sur les applis ou jeux vidéo. Les cyberviolences que tu peux rencontrer et comment réagir \\nface à ça, et enfin les amitiés que tu peux te faire en ligne, les avantages et les risques de celles-\\nci.',\n",
       "  \"Diapo 4\\nTout d’abord,  nous allons réfléchir à comment les groupes en ligne fonctionnent, comment \\nils influencent notre comportement et quelles sont les conséquences de nos actions en \\nligne.\\nLa première question à se poser est pourquoi nous avons envie de rejoindre des groupes en \\nligne. Cela peut être pour diverses raisons : \\n● Rencontrer des personnes,\\n● Partager des intérêts communs : jeux vidéo, livres, sports.\\n● Créer des groupes avec ses amis et sa classe.\\n● Bénéficier d'échanges enrichissants.\\n● Acquérir de nouvelles connaissances.\\nEt certainement plein d’autres raisons.\\nDiapo 5\\nSelon toi, quelle est ta place dans le groupe ?\\nQUESTION\\nDiapo 6\\nUn groupe d’élèves crée un groupe sur snapchat. Pour être accepté, Maxime, un des élèves, se \\nsent obligé de partager des photos méchantes et de liker des commentaires blessants sur \\nd’autres. Au début, ça l’amuse, mais peu à peu, il se sent mal en voyant que certains élèves sont \\nblessés. Maxime a peur d’être rejeté s’il arrête de participer.\\nNotre cerveau peut nous jouer des tours. Parfois, on imite les autres sans vraiment y réfléchir. \\nC’est ce qu’on appelle le biais de conformisme. On suit les tendances ou la mode simplement \\nparce que tout le monde le fait.\\nSur les réseaux sociaux, cela peut nous pousser à faire des choses qu’on ne ferait pas seul. Par \\nexemple :\\n● Participer à un challenge ou une trend.\\n● Se moquer de quelqu’un.\\n● Ignorer ou exclure des personnes différentes.\",\n",
       "  'Ces comportements sont souvent liés à ce qu’on appelle l’effet de groupe. Pour s’intégrer, on \\ncopie les codes et attitudes des autres. Cela peut aider à mieux s’adapter, mais attention : \\nparfois, cela peut nous faire agir contre nos valeurs.\\nOn cherche aussi parfois à recevoir l\\'approbation des autres. Par exemple, on poste une photo \\nou un message en espérant recevoir des likes ou des réactions positives. Quand ça marche, on \\na envie de recommencer. Mais il est important de se rappeler que les tendances, les modes et \\nles \"trends\" passent vite. Par contre, ce qu’on publie reste.\\nAvant de poster ou de partager quelque chose, prends un moment pour réfléchir. Si tu le fais sur \\nun coup de colère ou juste pour plaire aux autres, tu pourrais le regretter plus tard. Certains \\nmessages ou photos peuvent rester en ligne, même si tu les effaces.\\nDiapo 7\\nAs-tu  déjà fait l\\'une des choses suivantes pour faire partie d’un groupe ?\\nQUESTION\\nIl est important de rester toi-même. N’essaie pas de changer ou de faire des choses qui te \\nmettent mal à l’aise juste pour plaire aux autres. \\nLes vrais amis t’aimeront tel que tu es, sans que tu aies besoin de te forcer à être quelqu’un \\nd’autre. Choisir ses amis, c’est aussi très important. Entoure-toi de personnes qui te \\nrespectent et qui t’encouragent. \\nSi quelqu’un te demande de faire quelque chose de mal ou de dangereux, ce n’est pas un \\nvrai ami. Un vrai ami doit vouloir ton bien.\\nSi tu te sens sous pression pour faire quelque chose que tu ne veux pas, parle-en à un \\nadulte de confiance. Cela peut être un parent, un enseignant ou une autre personne en qui \\ntu as confiance. Ces adultes sont là pour t’écouter, t’aider et te protéger.\\nEnfin, si tu reçois des messages méchants ou haineux sur Internet, il faut les signaler. \\nPrends aussi des captures d’écran pour garder des preuves. Cela te permettra de mieux te \\ndéfendre et d’obtenir de l’aide.\\n____________________________________________________________________________________________________\\nDiapo 8\\nParfois, un groupe peut mal se comporter avec toi et te faire subir des cyberviolences.\\nLes cyberviolences peuvent prendre plusieurs formes : des blagues qui font mal sous \\nprétexte d’être drôles, des secrets partagés sans ton accord ou encore des photos diffusées \\nsans ta permission.',\n",
       "  \"Voici quelques exemples :\\n● Cyberintimidation : des messages ou actions destinés à te faire peur ou te rabaisser.\\n● Diffamation : des mensonges racontés sur toi pour te nuire.\\n● Exclusion en ligne : être exclu d’un groupe ou d’une activité sur internet.\\n● Usurpation d’identité : quelqu’un fait semblant d’être toi pour te causer des problèmes.\\n● Cyberharcèlement : des attaques répétées qui te blessent ou t’humilient.\\nLe harcèlement est grave même s'il est anonyme. Les plateformes peuvent retrouver les auteurs. \\nTout cyberharcèlement est inacceptable\\nDiapo 9\\nElise a posté une vidéo de danse et l’a rendue publique. Malheureusement, elle a reçu de \\nnombreux commentaires moqueurs. Ces messages l'ont blessée, alors elle a décidé de \\nretirer sa vidéo.\\nLes cyberviolences sont très fréquentes sur Internet. Il y a des gens, qu’on appelle parfois \\ndes « haters », qui passent leur temps à critiquer ou à se moquer des autres. On pourrait \\npenser qu’on s’y habitue, mais cela reste toujours difficile à vivre.\\nCertaines personnes sont encore plus touchées par ces violences. C’est souvent le cas des \\nfemmes et des minorités. Une minorité, c’est un groupe de personnes qui est moins \\nreprésenté ou moins visible sur Internet. Par exemple, des personnes qui parlent une langue \\nrare ou qui ont des coutumes peu connues peuvent être considérées comme une minorité.\\nLes personnes célèbres ou les influenceurs, eux aussi, sont souvent visés par des attaques. \\nBeaucoup de ces messages viennent de gens qui se cachent derrière pseudonyme, c’est à \\ndire un surnom sur internet, ce qui les rend encore plus difficiles à affronter.\\nDiapo 10\\nDans les deux derniers mois, est ce que quelqu’un t’a fait l’une des choses suivantes en \\nligne ?\\nQUESTION\\nLa sécurité et le respect en ligne sont essentiels. Tout le monde à le droit au respect, toi y \\ncompris. La liberté d'expression ce n’est pas le droit de tout dire, on peut s’exprimer tant que l’on \\nrespecte la loi.\\nMême si c’est en ligne, les conséquences sont réelles et peuvent être graves sur du long terme. \\nRéfléchis avant de publier ou de partager des informations personnelles ou des photos que ce \\nsoit les tiennes ou celles des autres. Une fois que c’est partagé, on ne peut plus les maîtriser.\\nSi tu as un souci ou qu’une personne que tu connais en a, saches que tu n’es pas seul et \\nqu’il existe des moyens de se protéger et de se défendre.\",\n",
       "  'Si quelque chose te fait souffrir, c’est important d’en parler avant que cela ne te fasse trop de \\npeine :\\n○ à tes parents ou un adulte proche de toi.\\n○ En cliquant sur le logo avec le \"E\" entouré, quelqu’un de ton établissement \\nprendra contact avec toi pour en parler.\\n○ En cliquant sur la bulle du 30 18, un agent te conseillera anonymement et pourra \\nt’aider à supprimer un contenu qui te gêne.\\n○ En cliquant sur l\\'arc-en-ciel des Centres Relier, une personne de l’équipe\\nDiapo 11\\nAs-tu déjà été harcelé ou intimidé en ligne pour l\\'une des raisons suivantes ?\\nQUESTION\\nLa diversité, c’est ce qui fait que chaque personne est unique. Nous avons tous des différences, \\nque ce soit notre apparence, nos goûts ou notre culture. Et c’est justement cela qui rend le \\nmonde plus riche et intéressant. C’est important de respecter ces différences. Aucune forme de \\ndiscrimination ou de harcèlement n’est acceptable. Chacun mérite d’être traité avec respect et \\ndignité.\\nNe restez pas silencieux si vous êtes victime ou témoin de harcèlement. Parler de ces \\nexpériences peut aider à mettre fin au harcèlement et à protéger les autres. Votre voix est \\nimportante et vous n’êtes pas seuls.\\nDiapo 12\\nQuelle attitude adopterais-tu si tu subissais du cyberharcèlement ?\\nQUESTION\\nDiapo 13\\nLa réputation en ligne, c’est l’image que les autres ont de toi sur Internet. C’est un peu \\ncomme une grande carte de visite que tout le monde peut consulter. Ce que tu publies, les \\nphotos, les vidéos ou les commentaires que tu laisses participent à construire cette image.\\nIl faut aussi savoir que les messages et contenus publiés en ligne peuvent rester visibles \\npendant très longtemps. Même si tu supprimes quelque chose, il se peut que d’autres l’aient',\n",
       "  \"déjà vu, enregistré ou partagé. Sur Internet, il est difficile de faire disparaître complètement \\nune information.\\nEnfin, avant de poster quoi que ce soit, il est important de penser à l'impact que cela peut \\navoir sur les autres. Un commentaire ou une image peut blesser quelqu’un, même si ce \\nn’était pas ton intention. Réfléchis toujours à comment ce que tu publies pourrait être \\nressenti par les autres.\\nDiapo 14\\nLes cyberviolences peuvent avoir de graves conséquences sur les personnes qui en sont \\nvictimes.\\nSur le plan psychologique, elles peuvent provoquer de la dépression, de l’anxiété, du stress \\nou une perte d’estime de soi. Les victimes peuvent aussi ressentir de la honte ou de la \\nculpabilité, même si elles n’ont rien fait de mal.\\nSur le plan social, certaines victimes préfèrent éviter d’avoir des relation avec d’autres \\npersonnes par peur d’être à nouveau agressées. Cela peut les isoler et causer des \\ndifficultés, notamment à l’école.\\nCes troubles peuvent aussi avoir des conséquences physiques. Le stress et l’anxiété \\npeuvent entraîner des maux de tête, des troubles du sommeil ou d’autres problèmes de \\nsanté.\\nDans les cas les plus graves, les cyberviolences peuvent conduire à des comportements \\nautodestructeurs. C’est pourquoi il est crucial de prendre ces situations très au sérieux.\\nLes cyberviolences sont également suivies de près par les autorités. Les auteurs peuvent \\nêtre sanctionnés légalement, car ces actes sont punis par la loi.\\nDiapo 15\\nSur Internet, il est essentiel de ne pas devenir agressif. Cela signifie non seulement éviter \\nles attaques directes, mais aussi ne pas participer indirectement en partageant ou en \\nrelayant des contenus nuisibles. Parfois, un simple partage peut blesser quelqu’un autant \\nqu’une attaque directe.\\nSi tu es victime de cyberviolence, signale immédiatement l’incident sur la plateforme \\nconcernée. Parle aussi à un adulte de confiance, comme un parent ou un professeur. Tu \\nn’es pas seul, et des personnes sont là pour t’aider.\\nSi tu es témoin de cyberviolence, il est important d’agir. Soutiens la victime, signale les \\ncomportements inappropriés, et demande de l’aide à un adulte. Ton soutien peut faire une \\ngrande différence.\",\n",
       "  \"Il faut aussi savoir que la majorité numérique est fixée à 15 ans. Cela signifie qu’en dessous de \\ncet âge, les plateformes doivent te protéger davantage, mais cela ne t’enlève pas de \\nresponsabilités. Il est important de comprendre que toutes nos actions en ligne peuvent avoir \\ndes conséquences.\\nPour éviter d’être un agresseur, réfléchis avant de cliquer, de partager ou de commenter. Pose-\\ntoi toujours la question : est-ce que ce que je vais poster pourrait blesser quelqu’un ? Ne réagis \\npas impulsivement. Une petite réflexion peut éviter beaucoup de mal.\\nEnfin, apprends à utiliser les outils de signalement sur les réseaux sociaux ou les jeux. Ils sont là \\npour te protéger. Et si quelqu’un est affecté par la cyberviolence, discute avec lui et apporte-lui \\nton soutien. Parfois, écouter et réconforter peut déjà apaiser beaucoup de souffrance.\\nDiapo 16 \\nParlons à présent des amitiés en ligne.\\nInternet est un lieu fantastique pour rencontrer de nouvelles personnes. Création d'amitiés via \\njeux en ligne, forums, groupes de discussion. Rencontre de personnes partageant les mêmes \\nintérêts.\\nL’impression d’anonymat permet de parler librement de choses qu’on ne dirait pas aux autres.\\nDiapo 17\\nAs-tu des amis en ligne ?\\nQUESTION\\nBien qu’avoir des amitiés en ligne peut avoir ses avantages, il est nécessaire d’avoir un équilibre \\net de maintenir des relations sociales avec des personnes que l’on voit hors ligne. \\nDiapo 18\\nQuand on est en ligne ou même dans la vie de tous les jours, il est important de se \\ndemander à qui on partage quoi. Les personnes autour de nous n’ont pas toutes le même \\nrôle ni le même niveau de confiance.\\nUn ami, c’est quelqu’un avec qui tu as une grande confiance. Vous partagez des secrets, \\nvous vous soutenez mutuellement. Par exemple, tu peux lui parler de tes problèmes \\npersonnels, et il sera là pour t’écouter et t’aider.\\nUn copain, c’est quelqu’un avec qui tu fais des activités, comme jouer au foot ou travailler \\nsur un projet scolaire. Vous vous entendez bien, mais vous ne partagez pas forcément des \\nchoses intimes.\",\n",
       "  'Une connaissance, c’est une personne que tu vois de temps en temps, par exemple dans \\nles couloirs de l’école. Vous discutez rapidement, mais vous ne vous confiez pas l’un à \\nl’autre.\\nMaintenant, réfléchissons : à quel cercle tu partages quelles informations ? Par exemple, \\ndonnes-tu ton prénom à tout le monde ? Partages-tu ton adresse ou des photos de toi avec \\ndes connaissances ou simplement des copains ? Et qu’en est-il de tes mots de passe ou de \\ntes secrets ?\\nIl est essentiel de faire attention à ce qu’on partage en fonction de la confiance que l’on a \\nenvers les autres. N’oublie pas que les amitiés peuvent parfois se briser, surtout quand on \\nest jeune. Ce que tu as confié à quelqu’un pourrait être utilisé plus tard contre toi, même si \\nce n’était pas l’intention au départ.\\nAlors, pose-toi toujours cette question : à qui je peux vraiment faire confiance avec mes \\ninformations personnelles ?\\nDiapo 19\\nLéo a créé un groupe en ligne avec un ami et une autre personne rencontrée sur Internet, un \\ncertain \"batman33\". Cette personne prétend avoir 16 ans. Pourtant, Léo trouve que sa voix est \\ntrès grave et que son comportement ne correspond pas vraiment à celui d’un adolescent de 16 \\nans. Un jour, \"batman33\" invite Léo à venir jouer chez lui à Fortnite. Léo en parle à ses parents, \\nqui refusent tout de suite. Comme vous vous en doutez sûrement, \"batman33\" n’a pas du tout 16 \\nans et se fait passer pour quelqu’un d’autre. C’est l’un des gros problèmes d’Internet : il est \\nparfois très difficile de savoir qui se cache vraiment derrière un pseudo.\\nMême si l’on peut se créer une identité différente en ligne, cela ne donne pas le droit de mal se \\ncomporter ou de tromper les autres. Certaines personnes peuvent prétendre être quelqu’un \\nd’autre, ce qui rend essentiel de rester prudent. Avant de partager des informations en ligne, il \\nest important de bien réfléchir à ce que l’on partage et pourquoi. N’oublie jamais qu’une \\npersonne en ligne peut mentir sur qui elle prétend être et ses intentions.\\nDiapo 20\\nIl est important de ne pas partager en ligne des informations comme ton nom complet, ton \\nadresse, ton numéro de téléphone ou des photos. Ces données sont précieuses, comme \\ndes trésors.',\n",
       "  'Sur Internet, les traces, comme les photos ou messages, peuvent rester visibles pendant \\ntrès longtemps. Ces informations peuvent aussi être utilisées de manière malveillante. C’est \\npour cela qu’il ne faut jamais les donner à des inconnus, que ce soit en ligne ou dans la rue.\\nMême les \"amis\" ou \"copains\" peuvent parfois garder des messages ou des photos. Si les \\nrelations changent ou se détériorent, ces contenus pourraient être utilisés contre toi. Il vaut \\ndonc mieux rester prudent avec ce que tu partages. \\nDiapo 21\\nFaisons le récapitulatif des éléments que nous avons vus ensemble aujourd’hui.\\nRejoindre des groupes en ligne permet de rencontrer des gens qui partagent les mêmes \\npassions. C’est une bonne façon de découvrir et d’échanger sur de nouvelles choses. Mais en \\ngroupe, on peut parfois agir différemment pour s’intégrer. Rappelle-toi qu’il est important de \\nrester toi-même. Si le groupe ne te correspond pas, tu peux en sortir ou proposer de nouvelles \\nrègles. Nos actions en ligne ont des conséquences. Réfléchis bien avant de poster ou de \\npartager quelque chose.\\nLa cyberviolence, c’est le fait d’envoyer des messages méchants, de partager des photos \\nembarrassantes ou de propager des rumeurs. C’est important de signaler ces comportements \\nnuisibles et de parler à un adulte de confiance si tu es victime ou témoin.La cyberviolence peut \\navoir de graves conséquences sur le moral. Il est donc crucial de soutenir les victimes et d’agir \\npour faire cesser ces situations.\\nInternet permet de se faire des amis partout dans le monde. Ces amitiés peuvent être aussi \\nimportantes que celles en personne. Cependant, il faut être prudent : certaines personnes \\npeuvent prétendre être quelqu’un d’autre. Ne partage jamais tes informations personnelles \\ncomme ton adresse ou ton numéro de téléphone. Garde-les privées pour rester en sécurité.\\nChanger son comportement d’un coup, c’est difficile. Alors, essaie de réfléchir à de petites \\naméliorations que tu pourrais faire dès cette semaine.\\nDiapo 22 \\nPour aller plus loin sur les sujets abordés aujourd’hui, tu peux participer à des ateliers \\nd\\'approfondissement. Ces sessions interactives permettront d’échanger sur des thématiques \\nspécifiques comme la gestion des groupes en ligne, les cyberviolences ou le \\ncyberharcèlement, ou encore comment rester prudent en ayant des amis en ligne.',\n",
       "  \"Diapo 23\\nSi tu as besoin d’aide, rappelles toi, plusieurs possibilités :\\nTes parents ou un adulte de confiance peuvent te permettre de te confier.\\nLe 3018 peut t’apporter des conseils lors d'une situation de cyberharcèlement ou s’il faut faire \\nsupprimer du contenu.\\nLes associations comme les Centres Relier peuvent t’apporter une écoute. Il existe  aussi \\nd’autres associations en fonction de tes problèmes.\\nLes Points d’Accueil et d’Écoute Jeunes (PAEJ) : ces centres offrent un espace d’écoute et de \\nsoutien pour les jeunes et leurs familles. Ils peuvent aider avec des problèmes scolaires, \\nfamiliaux ou personnels.\\nLe 119 et les services de protection de l’enfance : en cas de situations plus graves, les services \\nsociaux peuvent intervenir pour protéger les enfants et fournir un soutien adapté.\\nDiapo 24\\nNous aimerions savoir si ce webinaire t’a plu. Merci de donner ton avis en répondant au \\nsondage. N’hésite pas à partager les points que tu as particulièrement appréciés ou des \\nsuggestions d’amélioration.\\nDiapo 25\\nNous aurons le plaisir de nous retrouver dans les prochains webinaires pour aborder ces sujets :\\n● Les problématiques en ligne où nous aborderons les sujets de discussion avec des \\ninconnus, les contenus choquants, et l’importance du signalement.\\n● Mon comportement en ligne : Les sujets inclueront la gestion du temps d’écran, la \\nréputation en ligne, et les comportements positifs.\"],\n",
       " 'uris': None,\n",
       " 'data': None,\n",
       " 'metadatas': [{'creationdate': '2025-03-14T13:00:13+01:00',\n",
       "   'creator': 'Writer',\n",
       "   'page': 0,\n",
       "   'page_label': '1',\n",
       "   'producer': 'LibreOffice 25.2.1.2 (X86_64) / LibreOffice Community',\n",
       "   'source': './raw_files/Cycle 3 - Ateliers Jeunes - Ma place dans le monde numérique.pdf',\n",
       "   'total_pages': 11},\n",
       "  {'creationdate': '2025-03-14T13:00:13+01:00',\n",
       "   'creator': 'Writer',\n",
       "   'page': 1,\n",
       "   'page_label': '2',\n",
       "   'producer': 'LibreOffice 25.2.1.2 (X86_64) / LibreOffice Community',\n",
       "   'source': './raw_files/Cycle 3 - Ateliers Jeunes - Ma place dans le monde numérique.pdf',\n",
       "   'total_pages': 11},\n",
       "  {'creationdate': '2025-03-14T13:00:13+01:00',\n",
       "   'creator': 'Writer',\n",
       "   'page': 2,\n",
       "   'page_label': '3',\n",
       "   'producer': 'LibreOffice 25.2.1.2 (X86_64) / LibreOffice Community',\n",
       "   'source': './raw_files/Cycle 3 - Ateliers Jeunes - Ma place dans le monde numérique.pdf',\n",
       "   'total_pages': 11},\n",
       "  {'creationdate': '2025-03-14T13:00:13+01:00',\n",
       "   'creator': 'Writer',\n",
       "   'page': 3,\n",
       "   'page_label': '4',\n",
       "   'producer': 'LibreOffice 25.2.1.2 (X86_64) / LibreOffice Community',\n",
       "   'source': './raw_files/Cycle 3 - Ateliers Jeunes - Ma place dans le monde numérique.pdf',\n",
       "   'total_pages': 11},\n",
       "  {'creationdate': '2025-03-14T13:00:13+01:00',\n",
       "   'creator': 'Writer',\n",
       "   'page': 4,\n",
       "   'page_label': '5',\n",
       "   'producer': 'LibreOffice 25.2.1.2 (X86_64) / LibreOffice Community',\n",
       "   'source': './raw_files/Cycle 3 - Ateliers Jeunes - Ma place dans le monde numérique.pdf',\n",
       "   'total_pages': 11},\n",
       "  {'creationdate': '2025-03-14T13:00:13+01:00',\n",
       "   'creator': 'Writer',\n",
       "   'page': 5,\n",
       "   'page_label': '6',\n",
       "   'producer': 'LibreOffice 25.2.1.2 (X86_64) / LibreOffice Community',\n",
       "   'source': './raw_files/Cycle 3 - Ateliers Jeunes - Ma place dans le monde numérique.pdf',\n",
       "   'total_pages': 11},\n",
       "  {'creationdate': '2025-03-14T13:00:13+01:00',\n",
       "   'creator': 'Writer',\n",
       "   'page': 6,\n",
       "   'page_label': '7',\n",
       "   'producer': 'LibreOffice 25.2.1.2 (X86_64) / LibreOffice Community',\n",
       "   'source': './raw_files/Cycle 3 - Ateliers Jeunes - Ma place dans le monde numérique.pdf',\n",
       "   'total_pages': 11},\n",
       "  {'creationdate': '2025-03-14T13:00:13+01:00',\n",
       "   'creator': 'Writer',\n",
       "   'page': 7,\n",
       "   'page_label': '8',\n",
       "   'producer': 'LibreOffice 25.2.1.2 (X86_64) / LibreOffice Community',\n",
       "   'source': './raw_files/Cycle 3 - Ateliers Jeunes - Ma place dans le monde numérique.pdf',\n",
       "   'total_pages': 11},\n",
       "  {'creationdate': '2025-03-14T13:00:13+01:00',\n",
       "   'creator': 'Writer',\n",
       "   'page': 8,\n",
       "   'page_label': '9',\n",
       "   'producer': 'LibreOffice 25.2.1.2 (X86_64) / LibreOffice Community',\n",
       "   'source': './raw_files/Cycle 3 - Ateliers Jeunes - Ma place dans le monde numérique.pdf',\n",
       "   'total_pages': 11},\n",
       "  {'creationdate': '2025-03-14T13:00:13+01:00',\n",
       "   'creator': 'Writer',\n",
       "   'page': 9,\n",
       "   'page_label': '10',\n",
       "   'producer': 'LibreOffice 25.2.1.2 (X86_64) / LibreOffice Community',\n",
       "   'source': './raw_files/Cycle 3 - Ateliers Jeunes - Ma place dans le monde numérique.pdf',\n",
       "   'total_pages': 11}],\n",
       " 'included': [<IncludeEnum.embeddings: 'embeddings'>,\n",
       "  <IncludeEnum.documents: 'documents'>,\n",
       "  <IncludeEnum.metadatas: 'metadatas'>]}"
      ]
     },
     "execution_count": 34,
     "metadata": {},
     "output_type": "execute_result"
    }
   ],
   "source": [
    "collection.peek()"
   ]
  },
  {
   "cell_type": "code",
   "execution_count": null,
   "metadata": {},
   "outputs": [],
   "source": []
  }
 ],
 "metadata": {
  "kernelspec": {
   "display_name": ".venv",
   "language": "python",
   "name": "python3"
  },
  "language_info": {
   "codemirror_mode": {
    "name": "ipython",
    "version": 3
   },
   "file_extension": ".py",
   "mimetype": "text/x-python",
   "name": "python",
   "nbconvert_exporter": "python",
   "pygments_lexer": "ipython3",
   "version": "3.12.9"
  }
 },
 "nbformat": 4,
 "nbformat_minor": 2
}
