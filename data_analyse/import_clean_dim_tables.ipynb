{
 "cells": [
  {
   "cell_type": "code",
   "execution_count": 1,
   "metadata": {},
   "outputs": [],
   "source": [
    "import pandas as pd"
   ]
  },
  {
   "cell_type": "code",
   "execution_count": null,
   "metadata": {},
   "outputs": [],
   "source": [
    "xls = pd.ExcelFile('./data/REFERENTIEL_QUESTIONS.xlsx')"
   ]
  },
  {
   "cell_type": "markdown",
   "metadata": {},
   "source": [
    "### QUESTIONS"
   ]
  },
  {
   "cell_type": "code",
   "execution_count": 3,
   "metadata": {},
   "outputs": [
    {
     "data": {
      "text/html": [
       "<div>\n",
       "<style scoped>\n",
       "    .dataframe tbody tr th:only-of-type {\n",
       "        vertical-align: middle;\n",
       "    }\n",
       "\n",
       "    .dataframe tbody tr th {\n",
       "        vertical-align: top;\n",
       "    }\n",
       "\n",
       "    .dataframe thead th {\n",
       "        text-align: right;\n",
       "    }\n",
       "</style>\n",
       "<table border=\"1\" class=\"dataframe\">\n",
       "  <thead>\n",
       "    <tr style=\"text-align: right;\">\n",
       "      <th></th>\n",
       "      <th>KEY</th>\n",
       "      <th>MACRO_CATEGORIE</th>\n",
       "      <th>CATEGORIE</th>\n",
       "      <th>LB_QUESTION</th>\n",
       "      <th>TYPE_QUESTION</th>\n",
       "      <th>FLG_QUESTION_MULTIPLE</th>\n",
       "    </tr>\n",
       "  </thead>\n",
       "  <tbody>\n",
       "    <tr>\n",
       "      <th>0</th>\n",
       "      <td>A_1_1</td>\n",
       "      <td>MON COMPORTEMENT EN LIGNE</td>\n",
       "      <td>A1 - LES ECRANS</td>\n",
       "      <td>Quelle(s) activité(s) parmi les suivantes fais...</td>\n",
       "      <td>Pratiques</td>\n",
       "      <td>1.0</td>\n",
       "    </tr>\n",
       "    <tr>\n",
       "      <th>1</th>\n",
       "      <td>A_1_2</td>\n",
       "      <td>MON COMPORTEMENT EN LIGNE</td>\n",
       "      <td>A1 - LES ECRANS</td>\n",
       "      <td>Sur quels réseaux sociaux as-tu un profil ? Pl...</td>\n",
       "      <td>Pratiques</td>\n",
       "      <td>1.0</td>\n",
       "    </tr>\n",
       "    <tr>\n",
       "      <th>2</th>\n",
       "      <td>A_1_3</td>\n",
       "      <td>MON COMPORTEMENT EN LIGNE</td>\n",
       "      <td>A1 - LES ECRANS</td>\n",
       "      <td>Est-ce que ces situations s'appliquent à toi ?...</td>\n",
       "      <td>Risques</td>\n",
       "      <td>1.0</td>\n",
       "    </tr>\n",
       "    <tr>\n",
       "      <th>3</th>\n",
       "      <td>A_2_1</td>\n",
       "      <td>MON COMPORTEMENT EN LIGNE</td>\n",
       "      <td>A2 - LA RÉPUTATION EN LIGNE</td>\n",
       "      <td>Est-ce que l'une des choses suivantes t’es arr...</td>\n",
       "      <td>Victimisation</td>\n",
       "      <td>1.0</td>\n",
       "    </tr>\n",
       "    <tr>\n",
       "      <th>4</th>\n",
       "      <td>A_2_2</td>\n",
       "      <td>MON COMPORTEMENT EN LIGNE</td>\n",
       "      <td>A2 - LA RÉPUTATION EN LIGNE</td>\n",
       "      <td>PRIMAIRE: Laquelle ou lesquelles de ces façons...</td>\n",
       "      <td>Pratiques</td>\n",
       "      <td>1.0</td>\n",
       "    </tr>\n",
       "  </tbody>\n",
       "</table>\n",
       "</div>"
      ],
      "text/plain": [
       "     KEY            MACRO_CATEGORIE                    CATEGORIE  \\\n",
       "0  A_1_1  MON COMPORTEMENT EN LIGNE              A1 - LES ECRANS   \n",
       "1  A_1_2  MON COMPORTEMENT EN LIGNE              A1 - LES ECRANS   \n",
       "2  A_1_3  MON COMPORTEMENT EN LIGNE              A1 - LES ECRANS   \n",
       "3  A_2_1  MON COMPORTEMENT EN LIGNE  A2 - LA RÉPUTATION EN LIGNE   \n",
       "4  A_2_2  MON COMPORTEMENT EN LIGNE  A2 - LA RÉPUTATION EN LIGNE   \n",
       "\n",
       "                                         LB_QUESTION  TYPE_QUESTION  \\\n",
       "0  Quelle(s) activité(s) parmi les suivantes fais...      Pratiques   \n",
       "1  Sur quels réseaux sociaux as-tu un profil ? Pl...      Pratiques   \n",
       "2  Est-ce que ces situations s'appliquent à toi ?...        Risques   \n",
       "3  Est-ce que l'une des choses suivantes t’es arr...  Victimisation   \n",
       "4  PRIMAIRE: Laquelle ou lesquelles de ces façons...      Pratiques   \n",
       "\n",
       "   FLG_QUESTION_MULTIPLE  \n",
       "0                    1.0  \n",
       "1                    1.0  \n",
       "2                    1.0  \n",
       "3                    1.0  \n",
       "4                    1.0  "
      ]
     },
     "metadata": {},
     "output_type": "display_data"
    },
    {
     "name": "stdout",
     "output_type": "stream",
     "text": [
      "<class 'pandas.core.frame.DataFrame'>\n",
      "RangeIndex: 25 entries, 0 to 24\n",
      "Data columns (total 6 columns):\n",
      " #   Column                 Non-Null Count  Dtype  \n",
      "---  ------                 --------------  -----  \n",
      " 0   KEY                    25 non-null     object \n",
      " 1   MACRO_CATEGORIE        25 non-null     object \n",
      " 2   CATEGORIE              25 non-null     object \n",
      " 3   LB_QUESTION            25 non-null     object \n",
      " 4   TYPE_QUESTION          24 non-null     object \n",
      " 5   FLG_QUESTION_MULTIPLE  24 non-null     float64\n",
      "dtypes: float64(1), object(5)\n",
      "memory usage: 1.3+ KB\n"
     ]
    },
    {
     "data": {
      "text/plain": [
       "None"
      ]
     },
     "metadata": {},
     "output_type": "display_data"
    }
   ],
   "source": [
    "df_question = pd.read_excel(xls, 'DIM_QUESTION')\n",
    "display(df_question.head())\n",
    "display(df_question.info())"
   ]
  },
  {
   "cell_type": "code",
   "execution_count": 4,
   "metadata": {},
   "outputs": [
    {
     "data": {
      "text/plain": [
       "TYPE_QUESTION\n",
       "Pratiques             6\n",
       "Réactions             4\n",
       "Victimisation         3\n",
       "Risques               3\n",
       "Solutions             3\n",
       "Cybervictimisation    2\n",
       "Impact SM             2\n",
       "Cyber-violence        1\n",
       "Name: count, dtype: int64"
      ]
     },
     "execution_count": 4,
     "metadata": {},
     "output_type": "execute_result"
    }
   ],
   "source": [
    "df_question.TYPE_QUESTION.value_counts()"
   ]
  },
  {
   "cell_type": "code",
   "execution_count": 5,
   "metadata": {},
   "outputs": [],
   "source": [
    "df_question.FLG_QUESTION_MULTIPLE = df_question.FLG_QUESTION_MULTIPLE.astype(bool)"
   ]
  },
  {
   "cell_type": "code",
   "execution_count": 6,
   "metadata": {},
   "outputs": [],
   "source": [
    "df_question.rename({'KEY':'KEY_QUESTION'}, axis = 1, inplace = True)"
   ]
  },
  {
   "cell_type": "code",
   "execution_count": 7,
   "metadata": {},
   "outputs": [
    {
     "data": {
      "text/html": [
       "<div>\n",
       "<style scoped>\n",
       "    .dataframe tbody tr th:only-of-type {\n",
       "        vertical-align: middle;\n",
       "    }\n",
       "\n",
       "    .dataframe tbody tr th {\n",
       "        vertical-align: top;\n",
       "    }\n",
       "\n",
       "    .dataframe thead th {\n",
       "        text-align: right;\n",
       "    }\n",
       "</style>\n",
       "<table border=\"1\" class=\"dataframe\">\n",
       "  <thead>\n",
       "    <tr style=\"text-align: right;\">\n",
       "      <th></th>\n",
       "      <th>KEY_QUESTION</th>\n",
       "      <th>MACRO_CATEGORIE</th>\n",
       "      <th>CATEGORIE</th>\n",
       "      <th>LB_QUESTION</th>\n",
       "      <th>TYPE_QUESTION</th>\n",
       "      <th>FLG_QUESTION_MULTIPLE</th>\n",
       "    </tr>\n",
       "  </thead>\n",
       "  <tbody>\n",
       "    <tr>\n",
       "      <th>0</th>\n",
       "      <td>A_1_1</td>\n",
       "      <td>MON COMPORTEMENT EN LIGNE</td>\n",
       "      <td>A1 - LES ECRANS</td>\n",
       "      <td>Quelle(s) activité(s) parmi les suivantes fais...</td>\n",
       "      <td>Pratiques</td>\n",
       "      <td>True</td>\n",
       "    </tr>\n",
       "    <tr>\n",
       "      <th>1</th>\n",
       "      <td>A_1_2</td>\n",
       "      <td>MON COMPORTEMENT EN LIGNE</td>\n",
       "      <td>A1 - LES ECRANS</td>\n",
       "      <td>Sur quels réseaux sociaux as-tu un profil ? Pl...</td>\n",
       "      <td>Pratiques</td>\n",
       "      <td>True</td>\n",
       "    </tr>\n",
       "    <tr>\n",
       "      <th>2</th>\n",
       "      <td>A_1_3</td>\n",
       "      <td>MON COMPORTEMENT EN LIGNE</td>\n",
       "      <td>A1 - LES ECRANS</td>\n",
       "      <td>Est-ce que ces situations s'appliquent à toi ?...</td>\n",
       "      <td>Risques</td>\n",
       "      <td>True</td>\n",
       "    </tr>\n",
       "    <tr>\n",
       "      <th>3</th>\n",
       "      <td>A_2_1</td>\n",
       "      <td>MON COMPORTEMENT EN LIGNE</td>\n",
       "      <td>A2 - LA RÉPUTATION EN LIGNE</td>\n",
       "      <td>Est-ce que l'une des choses suivantes t’es arr...</td>\n",
       "      <td>Victimisation</td>\n",
       "      <td>True</td>\n",
       "    </tr>\n",
       "    <tr>\n",
       "      <th>4</th>\n",
       "      <td>A_2_2</td>\n",
       "      <td>MON COMPORTEMENT EN LIGNE</td>\n",
       "      <td>A2 - LA RÉPUTATION EN LIGNE</td>\n",
       "      <td>PRIMAIRE: Laquelle ou lesquelles de ces façons...</td>\n",
       "      <td>Pratiques</td>\n",
       "      <td>True</td>\n",
       "    </tr>\n",
       "  </tbody>\n",
       "</table>\n",
       "</div>"
      ],
      "text/plain": [
       "  KEY_QUESTION            MACRO_CATEGORIE                    CATEGORIE  \\\n",
       "0        A_1_1  MON COMPORTEMENT EN LIGNE              A1 - LES ECRANS   \n",
       "1        A_1_2  MON COMPORTEMENT EN LIGNE              A1 - LES ECRANS   \n",
       "2        A_1_3  MON COMPORTEMENT EN LIGNE              A1 - LES ECRANS   \n",
       "3        A_2_1  MON COMPORTEMENT EN LIGNE  A2 - LA RÉPUTATION EN LIGNE   \n",
       "4        A_2_2  MON COMPORTEMENT EN LIGNE  A2 - LA RÉPUTATION EN LIGNE   \n",
       "\n",
       "                                         LB_QUESTION  TYPE_QUESTION  \\\n",
       "0  Quelle(s) activité(s) parmi les suivantes fais...      Pratiques   \n",
       "1  Sur quels réseaux sociaux as-tu un profil ? Pl...      Pratiques   \n",
       "2  Est-ce que ces situations s'appliquent à toi ?...        Risques   \n",
       "3  Est-ce que l'une des choses suivantes t’es arr...  Victimisation   \n",
       "4  PRIMAIRE: Laquelle ou lesquelles de ces façons...      Pratiques   \n",
       "\n",
       "   FLG_QUESTION_MULTIPLE  \n",
       "0                   True  \n",
       "1                   True  \n",
       "2                   True  \n",
       "3                   True  \n",
       "4                   True  "
      ]
     },
     "execution_count": 7,
     "metadata": {},
     "output_type": "execute_result"
    }
   ],
   "source": [
    "df_question.head()"
   ]
  },
  {
   "cell_type": "markdown",
   "metadata": {},
   "source": [
    "### REPONSES"
   ]
  },
  {
   "cell_type": "code",
   "execution_count": 8,
   "metadata": {},
   "outputs": [
    {
     "data": {
      "text/html": [
       "<div>\n",
       "<style scoped>\n",
       "    .dataframe tbody tr th:only-of-type {\n",
       "        vertical-align: middle;\n",
       "    }\n",
       "\n",
       "    .dataframe tbody tr th {\n",
       "        vertical-align: top;\n",
       "    }\n",
       "\n",
       "    .dataframe thead th {\n",
       "        text-align: right;\n",
       "    }\n",
       "</style>\n",
       "<table border=\"1\" class=\"dataframe\">\n",
       "  <thead>\n",
       "    <tr style=\"text-align: right;\">\n",
       "      <th></th>\n",
       "      <th>KEY_QUESTION</th>\n",
       "      <th>KEY_REPONSE</th>\n",
       "      <th>ID_REPONSE</th>\n",
       "      <th>LB_REPONSE</th>\n",
       "      <th>TYPE_REPONSE</th>\n",
       "      <th>FLG_PRIMAIRE</th>\n",
       "      <th>FLG_SECONDAIRE</th>\n",
       "    </tr>\n",
       "  </thead>\n",
       "  <tbody>\n",
       "    <tr>\n",
       "      <th>0</th>\n",
       "      <td>A_1_1</td>\n",
       "      <td>A_1_1_a</td>\n",
       "      <td>a</td>\n",
       "      <td>Jouer à des jeux vidéos en solo</td>\n",
       "      <td>SOLO</td>\n",
       "      <td>oui</td>\n",
       "      <td>oui</td>\n",
       "    </tr>\n",
       "    <tr>\n",
       "      <th>1</th>\n",
       "      <td>A_1_1</td>\n",
       "      <td>A_1_1_b</td>\n",
       "      <td>b</td>\n",
       "      <td>Jouer à des jeux vidéos avec des amis ou d'aut...</td>\n",
       "      <td>SOCIAL</td>\n",
       "      <td>oui</td>\n",
       "      <td>oui</td>\n",
       "    </tr>\n",
       "    <tr>\n",
       "      <th>2</th>\n",
       "      <td>A_1_1</td>\n",
       "      <td>A_1_1_c</td>\n",
       "      <td>c</td>\n",
       "      <td>Regarder des vidéos (streaming)</td>\n",
       "      <td>SOLO</td>\n",
       "      <td>oui</td>\n",
       "      <td>oui</td>\n",
       "    </tr>\n",
       "    <tr>\n",
       "      <th>3</th>\n",
       "      <td>A_1_1</td>\n",
       "      <td>A_1_1_d</td>\n",
       "      <td>d</td>\n",
       "      <td>Partager des vidéos ou commenter sur les vidéo...</td>\n",
       "      <td>SOCIAL</td>\n",
       "      <td>oui</td>\n",
       "      <td>oui</td>\n",
       "    </tr>\n",
       "    <tr>\n",
       "      <th>4</th>\n",
       "      <td>A_1_1</td>\n",
       "      <td>A_1_1_e</td>\n",
       "      <td>e</td>\n",
       "      <td>M'informer sur ce que les autres font via mes ...</td>\n",
       "      <td>SOCIAL</td>\n",
       "      <td>oui</td>\n",
       "      <td>oui</td>\n",
       "    </tr>\n",
       "  </tbody>\n",
       "</table>\n",
       "</div>"
      ],
      "text/plain": [
       "  KEY_QUESTION KEY_REPONSE ID_REPONSE  \\\n",
       "0        A_1_1     A_1_1_a          a   \n",
       "1        A_1_1     A_1_1_b          b   \n",
       "2        A_1_1     A_1_1_c          c   \n",
       "3        A_1_1     A_1_1_d          d   \n",
       "4        A_1_1     A_1_1_e          e   \n",
       "\n",
       "                                          LB_REPONSE TYPE_REPONSE  \\\n",
       "0                    Jouer à des jeux vidéos en solo         SOLO   \n",
       "1  Jouer à des jeux vidéos avec des amis ou d'aut...       SOCIAL   \n",
       "2                    Regarder des vidéos (streaming)         SOLO   \n",
       "3  Partager des vidéos ou commenter sur les vidéo...       SOCIAL   \n",
       "4  M'informer sur ce que les autres font via mes ...       SOCIAL   \n",
       "\n",
       "  FLG_PRIMAIRE FLG_SECONDAIRE  \n",
       "0          oui            oui  \n",
       "1          oui            oui  \n",
       "2          oui            oui  \n",
       "3          oui            oui  \n",
       "4          oui            oui  "
      ]
     },
     "metadata": {},
     "output_type": "display_data"
    },
    {
     "name": "stdout",
     "output_type": "stream",
     "text": [
      "<class 'pandas.core.frame.DataFrame'>\n",
      "RangeIndex: 164 entries, 0 to 163\n",
      "Data columns (total 7 columns):\n",
      " #   Column          Non-Null Count  Dtype \n",
      "---  ------          --------------  ----- \n",
      " 0   KEY_QUESTION    164 non-null    object\n",
      " 1   KEY_REPONSE     164 non-null    object\n",
      " 2   ID_REPONSE      164 non-null    object\n",
      " 3   LB_REPONSE      164 non-null    object\n",
      " 4   TYPE_REPONSE    126 non-null    object\n",
      " 5   FLG_PRIMAIRE    146 non-null    object\n",
      " 6   FLG_SECONDAIRE  163 non-null    object\n",
      "dtypes: object(7)\n",
      "memory usage: 9.1+ KB\n"
     ]
    },
    {
     "data": {
      "text/plain": [
       "None"
      ]
     },
     "metadata": {},
     "output_type": "display_data"
    }
   ],
   "source": [
    "df_reponse = pd.read_excel(xls, 'DIM_REPONSE')\n",
    "display(df_reponse.head())\n",
    "display(df_reponse.info())"
   ]
  },
  {
   "cell_type": "code",
   "execution_count": 9,
   "metadata": {},
   "outputs": [],
   "source": [
    "df_reponse.FLG_PRIMAIRE = df_reponse.FLG_PRIMAIRE.astype(bool)\n",
    "df_reponse.FLG_SECONDAIRE = df_reponse.FLG_SECONDAIRE.astype(bool)"
   ]
  },
  {
   "cell_type": "code",
   "execution_count": 10,
   "metadata": {},
   "outputs": [],
   "source": [
    "df_reponse.drop('ID_REPONSE', axis = 1, inplace=True)"
   ]
  },
  {
   "cell_type": "code",
   "execution_count": 11,
   "metadata": {},
   "outputs": [
    {
     "data": {
      "text/html": [
       "<div>\n",
       "<style scoped>\n",
       "    .dataframe tbody tr th:only-of-type {\n",
       "        vertical-align: middle;\n",
       "    }\n",
       "\n",
       "    .dataframe tbody tr th {\n",
       "        vertical-align: top;\n",
       "    }\n",
       "\n",
       "    .dataframe thead th {\n",
       "        text-align: right;\n",
       "    }\n",
       "</style>\n",
       "<table border=\"1\" class=\"dataframe\">\n",
       "  <thead>\n",
       "    <tr style=\"text-align: right;\">\n",
       "      <th></th>\n",
       "      <th>KEY_QUESTION</th>\n",
       "      <th>KEY_REPONSE</th>\n",
       "      <th>LB_REPONSE</th>\n",
       "      <th>TYPE_REPONSE</th>\n",
       "      <th>FLG_PRIMAIRE</th>\n",
       "      <th>FLG_SECONDAIRE</th>\n",
       "    </tr>\n",
       "  </thead>\n",
       "  <tbody>\n",
       "    <tr>\n",
       "      <th>0</th>\n",
       "      <td>A_1_1</td>\n",
       "      <td>A_1_1_a</td>\n",
       "      <td>Jouer à des jeux vidéos en solo</td>\n",
       "      <td>SOLO</td>\n",
       "      <td>True</td>\n",
       "      <td>True</td>\n",
       "    </tr>\n",
       "    <tr>\n",
       "      <th>1</th>\n",
       "      <td>A_1_1</td>\n",
       "      <td>A_1_1_b</td>\n",
       "      <td>Jouer à des jeux vidéos avec des amis ou d'aut...</td>\n",
       "      <td>SOCIAL</td>\n",
       "      <td>True</td>\n",
       "      <td>True</td>\n",
       "    </tr>\n",
       "    <tr>\n",
       "      <th>2</th>\n",
       "      <td>A_1_1</td>\n",
       "      <td>A_1_1_c</td>\n",
       "      <td>Regarder des vidéos (streaming)</td>\n",
       "      <td>SOLO</td>\n",
       "      <td>True</td>\n",
       "      <td>True</td>\n",
       "    </tr>\n",
       "    <tr>\n",
       "      <th>3</th>\n",
       "      <td>A_1_1</td>\n",
       "      <td>A_1_1_d</td>\n",
       "      <td>Partager des vidéos ou commenter sur les vidéo...</td>\n",
       "      <td>SOCIAL</td>\n",
       "      <td>True</td>\n",
       "      <td>True</td>\n",
       "    </tr>\n",
       "    <tr>\n",
       "      <th>4</th>\n",
       "      <td>A_1_1</td>\n",
       "      <td>A_1_1_e</td>\n",
       "      <td>M'informer sur ce que les autres font via mes ...</td>\n",
       "      <td>SOCIAL</td>\n",
       "      <td>True</td>\n",
       "      <td>True</td>\n",
       "    </tr>\n",
       "  </tbody>\n",
       "</table>\n",
       "</div>"
      ],
      "text/plain": [
       "  KEY_QUESTION KEY_REPONSE                                         LB_REPONSE  \\\n",
       "0        A_1_1     A_1_1_a                    Jouer à des jeux vidéos en solo   \n",
       "1        A_1_1     A_1_1_b  Jouer à des jeux vidéos avec des amis ou d'aut...   \n",
       "2        A_1_1     A_1_1_c                    Regarder des vidéos (streaming)   \n",
       "3        A_1_1     A_1_1_d  Partager des vidéos ou commenter sur les vidéo...   \n",
       "4        A_1_1     A_1_1_e  M'informer sur ce que les autres font via mes ...   \n",
       "\n",
       "  TYPE_REPONSE  FLG_PRIMAIRE  FLG_SECONDAIRE  \n",
       "0         SOLO          True            True  \n",
       "1       SOCIAL          True            True  \n",
       "2         SOLO          True            True  \n",
       "3       SOCIAL          True            True  \n",
       "4       SOCIAL          True            True  "
      ]
     },
     "execution_count": 11,
     "metadata": {},
     "output_type": "execute_result"
    }
   ],
   "source": [
    "df_reponse.head()"
   ]
  },
  {
   "cell_type": "markdown",
   "metadata": {},
   "source": [
    "### SCORE"
   ]
  },
  {
   "cell_type": "code",
   "execution_count": 12,
   "metadata": {},
   "outputs": [
    {
     "data": {
      "text/html": [
       "<div>\n",
       "<style scoped>\n",
       "    .dataframe tbody tr th:only-of-type {\n",
       "        vertical-align: middle;\n",
       "    }\n",
       "\n",
       "    .dataframe tbody tr th {\n",
       "        vertical-align: top;\n",
       "    }\n",
       "\n",
       "    .dataframe thead th {\n",
       "        text-align: right;\n",
       "    }\n",
       "</style>\n",
       "<table border=\"1\" class=\"dataframe\">\n",
       "  <thead>\n",
       "    <tr style=\"text-align: right;\">\n",
       "      <th></th>\n",
       "      <th>MACRO_SEGMENT</th>\n",
       "      <th>SEGMENT</th>\n",
       "      <th>KEY</th>\n",
       "      <th>SCORE_PRIMAIRE</th>\n",
       "      <th>SCORE_SECONDAIRE</th>\n",
       "    </tr>\n",
       "  </thead>\n",
       "  <tbody>\n",
       "    <tr>\n",
       "      <th>0</th>\n",
       "      <td>PRATIQUES ET PROFILS</td>\n",
       "      <td>UTILISATEUR vs NON-UTILISATEUR</td>\n",
       "      <td>A1-1-a</td>\n",
       "      <td>oui</td>\n",
       "      <td>oui</td>\n",
       "    </tr>\n",
       "    <tr>\n",
       "      <th>1</th>\n",
       "      <td>PRATIQUES ET PROFILS</td>\n",
       "      <td>UTILISATEUR vs NON-UTILISATEUR</td>\n",
       "      <td>A1-1- c</td>\n",
       "      <td>oui</td>\n",
       "      <td>oui</td>\n",
       "    </tr>\n",
       "    <tr>\n",
       "      <th>2</th>\n",
       "      <td>PRATIQUES ET PROFILS</td>\n",
       "      <td>UTILISATEUR vs NON-UTILISATEUR</td>\n",
       "      <td>A1-1-g</td>\n",
       "      <td>oui</td>\n",
       "      <td>oui</td>\n",
       "    </tr>\n",
       "    <tr>\n",
       "      <th>3</th>\n",
       "      <td>PRATIQUES ET PROFILS</td>\n",
       "      <td>UTILISATEUR vs NON-UTILISATEUR</td>\n",
       "      <td>A1-1-h</td>\n",
       "      <td>oui</td>\n",
       "      <td>oui</td>\n",
       "    </tr>\n",
       "    <tr>\n",
       "      <th>4</th>\n",
       "      <td>PRATIQUES ET PROFILS</td>\n",
       "      <td>UTILISATEUR vs NON-UTILISATEUR</td>\n",
       "      <td>A1-1-b</td>\n",
       "      <td>oui</td>\n",
       "      <td>oui</td>\n",
       "    </tr>\n",
       "  </tbody>\n",
       "</table>\n",
       "</div>"
      ],
      "text/plain": [
       "          MACRO_SEGMENT                         SEGMENT      KEY  \\\n",
       "0  PRATIQUES ET PROFILS  UTILISATEUR vs NON-UTILISATEUR   A1-1-a   \n",
       "1  PRATIQUES ET PROFILS  UTILISATEUR vs NON-UTILISATEUR  A1-1- c   \n",
       "2  PRATIQUES ET PROFILS  UTILISATEUR vs NON-UTILISATEUR   A1-1-g   \n",
       "3  PRATIQUES ET PROFILS  UTILISATEUR vs NON-UTILISATEUR   A1-1-h   \n",
       "4  PRATIQUES ET PROFILS  UTILISATEUR vs NON-UTILISATEUR   A1-1-b   \n",
       "\n",
       "  SCORE_PRIMAIRE SCORE_SECONDAIRE  \n",
       "0            oui              oui  \n",
       "1            oui              oui  \n",
       "2            oui              oui  \n",
       "3            oui              oui  \n",
       "4            oui              oui  "
      ]
     },
     "metadata": {},
     "output_type": "display_data"
    },
    {
     "name": "stdout",
     "output_type": "stream",
     "text": [
      "<class 'pandas.core.frame.DataFrame'>\n",
      "RangeIndex: 171 entries, 0 to 170\n",
      "Data columns (total 5 columns):\n",
      " #   Column            Non-Null Count  Dtype \n",
      "---  ------            --------------  ----- \n",
      " 0   MACRO_SEGMENT     171 non-null    object\n",
      " 1   SEGMENT           171 non-null    object\n",
      " 2   KEY               171 non-null    object\n",
      " 3   SCORE_PRIMAIRE    138 non-null    object\n",
      " 4   SCORE_SECONDAIRE  157 non-null    object\n",
      "dtypes: object(5)\n",
      "memory usage: 6.8+ KB\n"
     ]
    },
    {
     "data": {
      "text/plain": [
       "None"
      ]
     },
     "metadata": {},
     "output_type": "display_data"
    }
   ],
   "source": [
    "df_score = pd.read_excel(xls, 'DIM_SCORE')\n",
    "display(df_score.head())\n",
    "display(df_score.info())"
   ]
  },
  {
   "cell_type": "code",
   "execution_count": 13,
   "metadata": {},
   "outputs": [],
   "source": [
    "df_score = df_score[['KEY', 'MACRO_SEGMENT', 'SEGMENT', 'SCORE_PRIMAIRE', 'SCORE_SECONDAIRE']]"
   ]
  },
  {
   "cell_type": "code",
   "execution_count": 14,
   "metadata": {},
   "outputs": [],
   "source": [
    "df_score.rename({'KEY':'KEY_REPONSE'}, axis = 1, inplace = True)"
   ]
  },
  {
   "cell_type": "code",
   "execution_count": 15,
   "metadata": {},
   "outputs": [],
   "source": [
    "df_score.KEY_REPONSE = df_score.KEY_REPONSE.str.replace('-', '_')"
   ]
  },
  {
   "cell_type": "code",
   "execution_count": 16,
   "metadata": {},
   "outputs": [],
   "source": [
    "df_score.KEY_REPONSE = df_score.KEY_REPONSE.str[0] + '_' + df_score.KEY_REPONSE.str[1:]"
   ]
  },
  {
   "cell_type": "code",
   "execution_count": 17,
   "metadata": {},
   "outputs": [
    {
     "data": {
      "text/plain": [
       "SCORE_PRIMAIRE\n",
       "oui           114\n",
       "1 point        10\n",
       "(-1) point      6\n",
       "0 point         3\n",
       "2 points        2\n",
       "3 points        2\n",
       "4 points        1\n",
       "Name: count, dtype: int64"
      ]
     },
     "execution_count": 17,
     "metadata": {},
     "output_type": "execute_result"
    }
   ],
   "source": [
    "df_score.SCORE_PRIMAIRE.value_counts()"
   ]
  },
  {
   "cell_type": "code",
   "execution_count": 18,
   "metadata": {},
   "outputs": [],
   "source": [
    "df_score.SCORE_PRIMAIRE = df_score.SCORE_PRIMAIRE.fillna('0')\n",
    "df_score.SCORE_PRIMAIRE = df_score.SCORE_PRIMAIRE.str.replace('oui', '1')\n",
    "df_score.SCORE_PRIMAIRE = df_score.SCORE_PRIMAIRE.str.replace('(-1) point', '-1')\n",
    "df_score.SCORE_PRIMAIRE = df_score.SCORE_PRIMAIRE.str.split(' ').str[0]\n",
    "df_score.SCORE_PRIMAIRE = df_score.SCORE_PRIMAIRE.astype(int)"
   ]
  },
  {
   "cell_type": "code",
   "execution_count": 19,
   "metadata": {},
   "outputs": [
    {
     "data": {
      "text/plain": [
       "SCORE_PRIMAIRE\n",
       " 1    124\n",
       " 0     36\n",
       "-1      6\n",
       " 2      2\n",
       " 3      2\n",
       " 4      1\n",
       "Name: count, dtype: int64"
      ]
     },
     "execution_count": 19,
     "metadata": {},
     "output_type": "execute_result"
    }
   ],
   "source": [
    "df_score.SCORE_PRIMAIRE.value_counts()"
   ]
  },
  {
   "cell_type": "code",
   "execution_count": 20,
   "metadata": {},
   "outputs": [
    {
     "data": {
      "text/plain": [
       "SCORE_SECONDAIRE\n",
       "oui           128\n",
       "1 point        11\n",
       "(-1) point      6\n",
       "0 point         3\n",
       "2 points        3\n",
       "3 points        3\n",
       "4 points        3\n",
       "Name: count, dtype: int64"
      ]
     },
     "execution_count": 20,
     "metadata": {},
     "output_type": "execute_result"
    }
   ],
   "source": [
    "df_score.SCORE_SECONDAIRE.value_counts()"
   ]
  },
  {
   "cell_type": "code",
   "execution_count": 21,
   "metadata": {},
   "outputs": [],
   "source": [
    "df_score.SCORE_SECONDAIRE = df_score.SCORE_SECONDAIRE.fillna('0')\n",
    "df_score.SCORE_SECONDAIRE = df_score.SCORE_SECONDAIRE.str.replace('oui', '1')\n",
    "df_score.SCORE_SECONDAIRE = df_score.SCORE_SECONDAIRE.str.replace('(-1) point', '-1')\n",
    "df_score.SCORE_SECONDAIRE = df_score.SCORE_SECONDAIRE.str.split(' ').str[0]\n",
    "df_score.SCORE_SECONDAIRE = df_score.SCORE_SECONDAIRE.astype(int)"
   ]
  },
  {
   "cell_type": "code",
   "execution_count": 22,
   "metadata": {},
   "outputs": [
    {
     "data": {
      "text/plain": [
       "SCORE_SECONDAIRE\n",
       " 1    139\n",
       " 0     17\n",
       "-1      6\n",
       " 2      3\n",
       " 3      3\n",
       " 4      3\n",
       "Name: count, dtype: int64"
      ]
     },
     "execution_count": 22,
     "metadata": {},
     "output_type": "execute_result"
    }
   ],
   "source": [
    "df_score.SCORE_SECONDAIRE.value_counts()"
   ]
  },
  {
   "cell_type": "code",
   "execution_count": 23,
   "metadata": {},
   "outputs": [
    {
     "data": {
      "text/html": [
       "<div>\n",
       "<style scoped>\n",
       "    .dataframe tbody tr th:only-of-type {\n",
       "        vertical-align: middle;\n",
       "    }\n",
       "\n",
       "    .dataframe tbody tr th {\n",
       "        vertical-align: top;\n",
       "    }\n",
       "\n",
       "    .dataframe thead th {\n",
       "        text-align: right;\n",
       "    }\n",
       "</style>\n",
       "<table border=\"1\" class=\"dataframe\">\n",
       "  <thead>\n",
       "    <tr style=\"text-align: right;\">\n",
       "      <th></th>\n",
       "      <th>KEY_REPONSE</th>\n",
       "      <th>MACRO_SEGMENT</th>\n",
       "      <th>SEGMENT</th>\n",
       "      <th>SCORE_PRIMAIRE</th>\n",
       "      <th>SCORE_SECONDAIRE</th>\n",
       "    </tr>\n",
       "  </thead>\n",
       "  <tbody>\n",
       "    <tr>\n",
       "      <th>0</th>\n",
       "      <td>A_1_1_a</td>\n",
       "      <td>PRATIQUES ET PROFILS</td>\n",
       "      <td>UTILISATEUR vs NON-UTILISATEUR</td>\n",
       "      <td>1</td>\n",
       "      <td>1</td>\n",
       "    </tr>\n",
       "    <tr>\n",
       "      <th>1</th>\n",
       "      <td>A_1_1_ c</td>\n",
       "      <td>PRATIQUES ET PROFILS</td>\n",
       "      <td>UTILISATEUR vs NON-UTILISATEUR</td>\n",
       "      <td>1</td>\n",
       "      <td>1</td>\n",
       "    </tr>\n",
       "    <tr>\n",
       "      <th>2</th>\n",
       "      <td>A_1_1_g</td>\n",
       "      <td>PRATIQUES ET PROFILS</td>\n",
       "      <td>UTILISATEUR vs NON-UTILISATEUR</td>\n",
       "      <td>1</td>\n",
       "      <td>1</td>\n",
       "    </tr>\n",
       "    <tr>\n",
       "      <th>3</th>\n",
       "      <td>A_1_1_h</td>\n",
       "      <td>PRATIQUES ET PROFILS</td>\n",
       "      <td>UTILISATEUR vs NON-UTILISATEUR</td>\n",
       "      <td>1</td>\n",
       "      <td>1</td>\n",
       "    </tr>\n",
       "    <tr>\n",
       "      <th>4</th>\n",
       "      <td>A_1_1_b</td>\n",
       "      <td>PRATIQUES ET PROFILS</td>\n",
       "      <td>UTILISATEUR vs NON-UTILISATEUR</td>\n",
       "      <td>1</td>\n",
       "      <td>1</td>\n",
       "    </tr>\n",
       "  </tbody>\n",
       "</table>\n",
       "</div>"
      ],
      "text/plain": [
       "  KEY_REPONSE         MACRO_SEGMENT                         SEGMENT  \\\n",
       "0     A_1_1_a  PRATIQUES ET PROFILS  UTILISATEUR vs NON-UTILISATEUR   \n",
       "1    A_1_1_ c  PRATIQUES ET PROFILS  UTILISATEUR vs NON-UTILISATEUR   \n",
       "2     A_1_1_g  PRATIQUES ET PROFILS  UTILISATEUR vs NON-UTILISATEUR   \n",
       "3     A_1_1_h  PRATIQUES ET PROFILS  UTILISATEUR vs NON-UTILISATEUR   \n",
       "4     A_1_1_b  PRATIQUES ET PROFILS  UTILISATEUR vs NON-UTILISATEUR   \n",
       "\n",
       "   SCORE_PRIMAIRE  SCORE_SECONDAIRE  \n",
       "0               1                 1  \n",
       "1               1                 1  \n",
       "2               1                 1  \n",
       "3               1                 1  \n",
       "4               1                 1  "
      ]
     },
     "execution_count": 23,
     "metadata": {},
     "output_type": "execute_result"
    }
   ],
   "source": [
    "df_score.head()"
   ]
  },
  {
   "cell_type": "markdown",
   "metadata": {},
   "source": [
    "### EXPORT"
   ]
  },
  {
   "cell_type": "code",
   "execution_count": null,
   "metadata": {},
   "outputs": [],
   "source": [
    "df_score.to_csv('./data/DIM_SCORE.csv', index=False)\n",
    "df_reponse.to_csv('./data/DIM_REPONSE.csv', index=False)\n",
    "df_question.to_csv('./data/DIM_QUESTION.csv', index=False)"
   ]
  }
 ],
 "metadata": {
  "kernelspec": {
   "display_name": "Python 3",
   "language": "python",
   "name": "python3"
  },
  "language_info": {
   "codemirror_mode": {
    "name": "ipython",
    "version": 3
   },
   "file_extension": ".py",
   "mimetype": "text/x-python",
   "name": "python",
   "nbconvert_exporter": "python",
   "pygments_lexer": "ipython3",
   "version": "3.12.9"
  }
 },
 "nbformat": 4,
 "nbformat_minor": 2
}
