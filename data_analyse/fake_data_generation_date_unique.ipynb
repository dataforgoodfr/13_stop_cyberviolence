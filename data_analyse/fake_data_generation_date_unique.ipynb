{
 "cells": [
  {
   "cell_type": "markdown",
   "metadata": {},
   "source": [
    "# GENERATION FAKE DATA\n",
    "\n",
    "Alimentation des tables d'analyse avant réception des \"vraies\" données"
   ]
  },
  {
   "cell_type": "code",
<<<<<<< HEAD
   "execution_count": 1,
=======
   "execution_count": 42,
>>>>>>> ef3b7d731d682be246bf40addf0e00b4e70f68fd
   "metadata": {},
   "outputs": [],
   "source": [
    "import pandas as pd\n",
    "import numpy as np"
   ]
  },
  {
   "cell_type": "markdown",
   "metadata": {},
   "source": [
    "### DIM_ELEVE"
   ]
  },
  {
   "cell_type": "code",
<<<<<<< HEAD
   "execution_count": 2,
=======
   "execution_count": 43,
>>>>>>> ef3b7d731d682be246bf40addf0e00b4e70f68fd
   "metadata": {},
   "outputs": [],
   "source": [
    "df_eleve = pd.DataFrame()"
   ]
  },
  {
   "cell_type": "code",
<<<<<<< HEAD
   "execution_count": 3,
=======
   "execution_count": 44,
>>>>>>> ef3b7d731d682be246bf40addf0e00b4e70f68fd
   "metadata": {},
   "outputs": [],
   "source": [
    "df_eleve['ID_ELEVE'] = np.arange(1, 10001)"
   ]
  },
  {
   "cell_type": "code",
<<<<<<< HEAD
   "execution_count": 4,
=======
   "execution_count": 45,
>>>>>>> ef3b7d731d682be246bf40addf0e00b4e70f68fd
   "metadata": {},
   "outputs": [],
   "source": [
    "df_eleve['ID_ELEVE'] = df_eleve['ID_ELEVE'].apply(lambda x: 'E' + str(x).zfill(5))"
   ]
  },
  {
   "cell_type": "code",
<<<<<<< HEAD
   "execution_count": 5,
=======
   "execution_count": 46,
>>>>>>> ef3b7d731d682be246bf40addf0e00b4e70f68fd
   "metadata": {},
   "outputs": [],
   "source": [
    "df_eleve['GENRE'] = np.random.choice(['m', 'f'], size=10000)"
   ]
  },
  {
   "cell_type": "code",
<<<<<<< HEAD
   "execution_count": 6,
   "metadata": {},
   "outputs": [],
   "source": [
    "df_eleve['AGE'] = np.random.choice(\n",
    "    range(8, 16),\n",
    "    size=10000\n",
    ")"
=======
   "execution_count": 47,
   "metadata": {},
   "outputs": [],
   "source": [
    "df_eleve['DATE_NAISSANCE'] = np.random.choice([\n",
    "    '01/01/2015', '01/01/2016', '01/01/2017', '01/01/2014', '01/01/2013',\n",
    "    '01/01/2012', '01/01/2011', '01/01/2010', '01/01/2009'\n",
    "], size=10000)"
>>>>>>> ef3b7d731d682be246bf40addf0e00b4e70f68fd
   ]
  },
  {
   "cell_type": "code",
<<<<<<< HEAD
   "execution_count": 7,
   "metadata": {},
   "outputs": [],
   "source": [
    "df_eleve['NIVEAU'] = np.random.choice(\n",
    "    ['CM1', 'CM2', '6ème', '5ème', '4ème', '3ème', '2nde', '1ère', 'Terminale'],\n",
    "    size=10000\n",
    ")"
=======
   "execution_count": 48,
   "metadata": {},
   "outputs": [],
   "source": [
    "#df_classe = pd.read_csv(\"./data/DIM_CLASSE.csv\")"
>>>>>>> ef3b7d731d682be246bf40addf0e00b4e70f68fd
   ]
  },
  {
   "cell_type": "code",
<<<<<<< HEAD
   "execution_count": 8,
=======
   "execution_count": 49,
   "metadata": {},
   "outputs": [],
   "source": [
    "#df_eleve['ID_CLASSE'] = np.random.choice(df_classe['ID_CLASSE'], size=10000)"
   ]
  },
  {
   "cell_type": "code",
   "execution_count": 50,
>>>>>>> ef3b7d731d682be246bf40addf0e00b4e70f68fd
   "metadata": {},
   "outputs": [
    {
     "data": {
      "text/html": [
       "<div>\n",
       "<style scoped>\n",
       "    .dataframe tbody tr th:only-of-type {\n",
       "        vertical-align: middle;\n",
       "    }\n",
       "\n",
       "    .dataframe tbody tr th {\n",
       "        vertical-align: top;\n",
       "    }\n",
       "\n",
       "    .dataframe thead th {\n",
       "        text-align: right;\n",
       "    }\n",
       "</style>\n",
       "<table border=\"1\" class=\"dataframe\">\n",
       "  <thead>\n",
       "    <tr style=\"text-align: right;\">\n",
       "      <th></th>\n",
       "      <th>ID_ELEVE</th>\n",
       "      <th>GENRE</th>\n",
<<<<<<< HEAD
       "      <th>AGE</th>\n",
       "      <th>NIVEAU</th>\n",
=======
       "      <th>DATE_NAISSANCE</th>\n",
>>>>>>> ef3b7d731d682be246bf40addf0e00b4e70f68fd
       "    </tr>\n",
       "  </thead>\n",
       "  <tbody>\n",
       "    <tr>\n",
       "      <th>0</th>\n",
       "      <td>E00001</td>\n",
       "      <td>f</td>\n",
<<<<<<< HEAD
       "      <td>8</td>\n",
       "      <td>1ère</td>\n",
=======
       "      <td>01/01/2016</td>\n",
>>>>>>> ef3b7d731d682be246bf40addf0e00b4e70f68fd
       "    </tr>\n",
       "    <tr>\n",
       "      <th>1</th>\n",
       "      <td>E00002</td>\n",
       "      <td>m</td>\n",
<<<<<<< HEAD
       "      <td>10</td>\n",
       "      <td>Terminale</td>\n",
=======
       "      <td>01/01/2017</td>\n",
>>>>>>> ef3b7d731d682be246bf40addf0e00b4e70f68fd
       "    </tr>\n",
       "    <tr>\n",
       "      <th>2</th>\n",
       "      <td>E00003</td>\n",
       "      <td>f</td>\n",
<<<<<<< HEAD
       "      <td>14</td>\n",
       "      <td>3ème</td>\n",
=======
       "      <td>01/01/2017</td>\n",
>>>>>>> ef3b7d731d682be246bf40addf0e00b4e70f68fd
       "    </tr>\n",
       "    <tr>\n",
       "      <th>3</th>\n",
       "      <td>E00004</td>\n",
<<<<<<< HEAD
       "      <td>m</td>\n",
       "      <td>11</td>\n",
       "      <td>6ème</td>\n",
=======
       "      <td>f</td>\n",
       "      <td>01/01/2011</td>\n",
>>>>>>> ef3b7d731d682be246bf40addf0e00b4e70f68fd
       "    </tr>\n",
       "    <tr>\n",
       "      <th>4</th>\n",
       "      <td>E00005</td>\n",
       "      <td>f</td>\n",
<<<<<<< HEAD
       "      <td>10</td>\n",
       "      <td>Terminale</td>\n",
=======
       "      <td>01/01/2011</td>\n",
>>>>>>> ef3b7d731d682be246bf40addf0e00b4e70f68fd
       "    </tr>\n",
       "  </tbody>\n",
       "</table>\n",
       "</div>"
      ],
      "text/plain": [
<<<<<<< HEAD
       "  ID_ELEVE GENRE  AGE     NIVEAU\n",
       "0   E00001     f    8       1ère\n",
       "1   E00002     m   10  Terminale\n",
       "2   E00003     f   14       3ème\n",
       "3   E00004     m   11       6ème\n",
       "4   E00005     f   10  Terminale"
      ]
     },
     "execution_count": 8,
=======
       "  ID_ELEVE GENRE DATE_NAISSANCE\n",
       "0   E00001     f     01/01/2016\n",
       "1   E00002     m     01/01/2017\n",
       "2   E00003     f     01/01/2017\n",
       "3   E00004     f     01/01/2011\n",
       "4   E00005     f     01/01/2011"
      ]
     },
     "execution_count": 50,
>>>>>>> ef3b7d731d682be246bf40addf0e00b4e70f68fd
     "metadata": {},
     "output_type": "execute_result"
    }
   ],
   "source": [
    "df_eleve.head()"
   ]
  },
  {
   "cell_type": "markdown",
   "metadata": {},
   "source": [
<<<<<<< HEAD
    "### DIM_ENSEIGNANT"
=======
    "### DIM_CLASSE"
>>>>>>> ef3b7d731d682be246bf40addf0e00b4e70f68fd
   ]
  },
  {
   "cell_type": "code",
<<<<<<< HEAD
   "execution_count": 9,
   "metadata": {},
   "outputs": [],
   "source": [
    "df_enseignant = pd.DataFrame()"
=======
   "execution_count": 51,
   "metadata": {},
   "outputs": [],
   "source": [
    "# df_classe = pd.DataFrame()"
>>>>>>> ef3b7d731d682be246bf40addf0e00b4e70f68fd
   ]
  },
  {
   "cell_type": "code",
<<<<<<< HEAD
   "execution_count": 10,
   "metadata": {},
   "outputs": [],
   "source": [
    "df_enseignant['ID_ENSEIGNANT'] = np.arange(1, 101)\n",
    "df_enseignant['ID_ENSEIGNANT'] = df_enseignant['ID_ENSEIGNANT'].apply(lambda x: 'ENS' + str(x).zfill(3))"
=======
   "execution_count": 52,
   "metadata": {},
   "outputs": [],
   "source": [
    "\n",
    "# df_classe['ID_CLASSE'] = np.arange(1, 501)\n",
    "# df_classe['ID_CLASSE'] = df_classe['ID_CLASSE'].apply(lambda x: 'C' + str(x).zfill(3))"
   ]
  },
  {
   "cell_type": "code",
   "execution_count": 53,
   "metadata": {},
   "outputs": [],
   "source": [
    "# df_classe['NB_ELEVES'] = np.random.randint(10, 30, size=500)"
   ]
  },
  {
   "cell_type": "code",
   "execution_count": 54,
   "metadata": {},
   "outputs": [],
   "source": [
    "# df_classe['NIVEAU'] = np.random.choice(['CP', 'CE1', 'CE2', 'CM1', 'CM2'], size=500)"
>>>>>>> ef3b7d731d682be246bf40addf0e00b4e70f68fd
   ]
  },
  {
   "cell_type": "markdown",
   "metadata": {},
   "source": [
<<<<<<< HEAD
    "### DIM_PARENT"
=======
    "### DIM_ENSEIGNANT"
>>>>>>> ef3b7d731d682be246bf40addf0e00b4e70f68fd
   ]
  },
  {
   "cell_type": "code",
<<<<<<< HEAD
   "execution_count": 11,
   "metadata": {},
   "outputs": [],
   "source": [
    "df_parent = pd.DataFrame()"
=======
   "execution_count": 55,
   "metadata": {},
   "outputs": [],
   "source": [
    "df_enseignant = pd.DataFrame()"
>>>>>>> ef3b7d731d682be246bf40addf0e00b4e70f68fd
   ]
  },
  {
   "cell_type": "code",
<<<<<<< HEAD
   "execution_count": 12,
   "metadata": {},
   "outputs": [],
   "source": [
    "df_parent['ID_PARENT'] = np.arange(1, 5001)\n",
    "df_parent['ID_PARENT'] = df_parent['ID_PARENT'].apply(lambda x: 'P' + str(x).zfill(4))"
=======
   "execution_count": 56,
   "metadata": {},
   "outputs": [],
   "source": [
    "df_enseignant['ID_ENSEIGNANT'] = np.arange(1, 101)\n",
    "df_enseignant['ID_ENSEIGNANT'] = df_enseignant['ID_ENSEIGNANT'].apply(lambda x: 'ENS' + str(x).zfill(3))"
   ]
  },
  {
   "cell_type": "code",
   "execution_count": 57,
   "metadata": {},
   "outputs": [],
   "source": [
    "# df_enseignant['ID_CLASSE'] = np.random.choice(df_classe['ID_CLASSE'], size=100)"
>>>>>>> ef3b7d731d682be246bf40addf0e00b4e70f68fd
   ]
  },
  {
   "cell_type": "markdown",
   "metadata": {},
   "source": [
    "### DIM_ETABLISSEMENT"
   ]
  },
  {
   "cell_type": "code",
<<<<<<< HEAD
   "execution_count": 13,
=======
   "execution_count": 58,
>>>>>>> ef3b7d731d682be246bf40addf0e00b4e70f68fd
   "metadata": {},
   "outputs": [],
   "source": [
    "df_etablissement = pd.DataFrame()"
   ]
  },
  {
   "cell_type": "code",
<<<<<<< HEAD
   "execution_count": 14,
=======
   "execution_count": 59,
>>>>>>> ef3b7d731d682be246bf40addf0e00b4e70f68fd
   "metadata": {},
   "outputs": [],
   "source": [
    "df_etablissement['ID_ETABLISSEMENT'] = np.arange(1, 11)\n",
    "df_etablissement['ID_ETABLISSEMENT'] = df_etablissement['ID_ETABLISSEMENT'].apply(lambda x: 'ETAB' + str(x).zfill(2))"
   ]
  },
  {
   "cell_type": "code",
<<<<<<< HEAD
   "execution_count": 15,
   "metadata": {},
   "outputs": [],
   "source": [
    "df_etablissement['TYPE'] = np.random.choice(['ecole', 'college', 'lycee'], size=10)"
=======
   "execution_count": 60,
   "metadata": {},
   "outputs": [],
   "source": [
    "df_etablissement['TYPE'] = np.random.choice(['ecole', 'college'], size=10)"
>>>>>>> ef3b7d731d682be246bf40addf0e00b4e70f68fd
   ]
  },
  {
   "cell_type": "code",
<<<<<<< HEAD
   "execution_count": 16,
=======
   "execution_count": 61,
>>>>>>> ef3b7d731d682be246bf40addf0e00b4e70f68fd
   "metadata": {},
   "outputs": [],
   "source": [
    "df_etablissement['ZIPCODE'] = np.random.randint(10000, 99999, size=10)"
   ]
  },
  {
   "cell_type": "code",
<<<<<<< HEAD
   "execution_count": 17,
=======
   "execution_count": 62,
>>>>>>> ef3b7d731d682be246bf40addf0e00b4e70f68fd
   "metadata": {},
   "outputs": [],
   "source": [
    "df_etablissement['ACADEMIE'] = np.random.choice(['Paris', 'Lyon', 'Marseille', 'Bordeaux', 'Toulouse'], size=10)"
   ]
  },
  {
<<<<<<< HEAD
   "cell_type": "code",
   "execution_count": 18,
   "metadata": {},
   "outputs": [],
   "source": [
    "df_etablissement['NB_ELEVES'] = np.random.randint(100, 1000, size=10)"
   ]
  },
  {
=======
>>>>>>> ef3b7d731d682be246bf40addf0e00b4e70f68fd
   "cell_type": "markdown",
   "metadata": {},
   "source": [
    "### DIM_COMMUNE"
   ]
  },
  {
   "cell_type": "code",
<<<<<<< HEAD
   "execution_count": 19,
=======
   "execution_count": 63,
>>>>>>> ef3b7d731d682be246bf40addf0e00b4e70f68fd
   "metadata": {},
   "outputs": [],
   "source": [
    "df_commune = pd.read_csv('./data/20230823-communes-departement-region.csv')"
   ]
  },
  {
   "cell_type": "code",
<<<<<<< HEAD
   "execution_count": 20,
=======
   "execution_count": 64,
>>>>>>> ef3b7d731d682be246bf40addf0e00b4e70f68fd
   "metadata": {},
   "outputs": [
    {
     "data": {
      "text/plain": [
       "(39201, 15)"
      ]
     },
<<<<<<< HEAD
     "execution_count": 20,
=======
     "execution_count": 64,
>>>>>>> ef3b7d731d682be246bf40addf0e00b4e70f68fd
     "metadata": {},
     "output_type": "execute_result"
    }
   ],
   "source": [
    "df_commune.shape"
   ]
  },
  {
   "cell_type": "code",
<<<<<<< HEAD
   "execution_count": 21,
=======
   "execution_count": 65,
>>>>>>> ef3b7d731d682be246bf40addf0e00b4e70f68fd
   "metadata": {},
   "outputs": [
    {
     "data": {
      "text/html": [
       "<div>\n",
       "<style scoped>\n",
       "    .dataframe tbody tr th:only-of-type {\n",
       "        vertical-align: middle;\n",
       "    }\n",
       "\n",
       "    .dataframe tbody tr th {\n",
       "        vertical-align: top;\n",
       "    }\n",
       "\n",
       "    .dataframe thead th {\n",
       "        text-align: right;\n",
       "    }\n",
       "</style>\n",
       "<table border=\"1\" class=\"dataframe\">\n",
       "  <thead>\n",
       "    <tr style=\"text-align: right;\">\n",
       "      <th></th>\n",
       "      <th>code_commune_INSEE</th>\n",
       "      <th>nom_commune_postal</th>\n",
       "      <th>code_postal</th>\n",
       "      <th>libelle_acheminement</th>\n",
       "      <th>ligne_5</th>\n",
       "      <th>latitude</th>\n",
       "      <th>longitude</th>\n",
       "      <th>code_commune</th>\n",
       "      <th>article</th>\n",
       "      <th>nom_commune</th>\n",
       "      <th>nom_commune_complet</th>\n",
       "      <th>code_departement</th>\n",
       "      <th>nom_departement</th>\n",
       "      <th>code_region</th>\n",
       "      <th>nom_region</th>\n",
       "    </tr>\n",
       "  </thead>\n",
       "  <tbody>\n",
       "    <tr>\n",
       "      <th>0</th>\n",
       "      <td>1001</td>\n",
       "      <td>L ABERGEMENT CLEMENCIAT</td>\n",
       "      <td>1400</td>\n",
       "      <td>L ABERGEMENT CLEMENCIAT</td>\n",
       "      <td>NaN</td>\n",
       "      <td>46.153426</td>\n",
       "      <td>4.926114</td>\n",
       "      <td>1.0</td>\n",
       "      <td>L'</td>\n",
       "      <td>Abergement-Clémenciat</td>\n",
       "      <td>L'Abergement-Clémenciat</td>\n",
       "      <td>1</td>\n",
       "      <td>Ain</td>\n",
       "      <td>84.0</td>\n",
       "      <td>Auvergne-Rhône-Alpes</td>\n",
       "    </tr>\n",
       "    <tr>\n",
       "      <th>1</th>\n",
       "      <td>1002</td>\n",
       "      <td>L ABERGEMENT DE VAREY</td>\n",
       "      <td>1640</td>\n",
       "      <td>L ABERGEMENT DE VAREY</td>\n",
       "      <td>NaN</td>\n",
       "      <td>46.009188</td>\n",
       "      <td>5.428017</td>\n",
       "      <td>2.0</td>\n",
       "      <td>L'</td>\n",
       "      <td>Abergement-de-Varey</td>\n",
       "      <td>L'Abergement-de-Varey</td>\n",
       "      <td>1</td>\n",
       "      <td>Ain</td>\n",
       "      <td>84.0</td>\n",
       "      <td>Auvergne-Rhône-Alpes</td>\n",
       "    </tr>\n",
       "    <tr>\n",
       "      <th>2</th>\n",
       "      <td>1004</td>\n",
       "      <td>AMBERIEU EN BUGEY</td>\n",
       "      <td>1500</td>\n",
       "      <td>AMBERIEU EN BUGEY</td>\n",
       "      <td>NaN</td>\n",
       "      <td>45.960848</td>\n",
       "      <td>5.372926</td>\n",
       "      <td>4.0</td>\n",
       "      <td>NaN</td>\n",
       "      <td>Ambérieu-en-Bugey</td>\n",
       "      <td>Ambérieu-en-Bugey</td>\n",
       "      <td>1</td>\n",
       "      <td>Ain</td>\n",
       "      <td>84.0</td>\n",
       "      <td>Auvergne-Rhône-Alpes</td>\n",
       "    </tr>\n",
       "    <tr>\n",
       "      <th>3</th>\n",
       "      <td>1005</td>\n",
       "      <td>AMBERIEUX EN DOMBES</td>\n",
       "      <td>1330</td>\n",
       "      <td>AMBERIEUX EN DOMBES</td>\n",
       "      <td>NaN</td>\n",
       "      <td>45.996180</td>\n",
       "      <td>4.912273</td>\n",
       "      <td>5.0</td>\n",
       "      <td>NaN</td>\n",
       "      <td>Ambérieux-en-Dombes</td>\n",
       "      <td>Ambérieux-en-Dombes</td>\n",
       "      <td>1</td>\n",
       "      <td>Ain</td>\n",
       "      <td>84.0</td>\n",
       "      <td>Auvergne-Rhône-Alpes</td>\n",
       "    </tr>\n",
       "    <tr>\n",
       "      <th>4</th>\n",
       "      <td>1006</td>\n",
       "      <td>AMBLEON</td>\n",
       "      <td>1300</td>\n",
       "      <td>AMBLEON</td>\n",
       "      <td>NaN</td>\n",
       "      <td>45.749499</td>\n",
       "      <td>5.594320</td>\n",
       "      <td>6.0</td>\n",
       "      <td>NaN</td>\n",
       "      <td>Ambléon</td>\n",
       "      <td>Ambléon</td>\n",
       "      <td>1</td>\n",
       "      <td>Ain</td>\n",
       "      <td>84.0</td>\n",
       "      <td>Auvergne-Rhône-Alpes</td>\n",
       "    </tr>\n",
       "  </tbody>\n",
       "</table>\n",
       "</div>"
      ],
      "text/plain": [
       "  code_commune_INSEE       nom_commune_postal  code_postal  \\\n",
       "0               1001  L ABERGEMENT CLEMENCIAT         1400   \n",
       "1               1002    L ABERGEMENT DE VAREY         1640   \n",
       "2               1004        AMBERIEU EN BUGEY         1500   \n",
       "3               1005      AMBERIEUX EN DOMBES         1330   \n",
       "4               1006                  AMBLEON         1300   \n",
       "\n",
       "      libelle_acheminement ligne_5   latitude  longitude  code_commune  \\\n",
       "0  L ABERGEMENT CLEMENCIAT     NaN  46.153426   4.926114           1.0   \n",
       "1    L ABERGEMENT DE VAREY     NaN  46.009188   5.428017           2.0   \n",
       "2        AMBERIEU EN BUGEY     NaN  45.960848   5.372926           4.0   \n",
       "3      AMBERIEUX EN DOMBES     NaN  45.996180   4.912273           5.0   \n",
       "4                  AMBLEON     NaN  45.749499   5.594320           6.0   \n",
       "\n",
       "  article            nom_commune      nom_commune_complet code_departement  \\\n",
       "0      L'  Abergement-Clémenciat  L'Abergement-Clémenciat                1   \n",
       "1      L'    Abergement-de-Varey    L'Abergement-de-Varey                1   \n",
       "2     NaN      Ambérieu-en-Bugey        Ambérieu-en-Bugey                1   \n",
       "3     NaN    Ambérieux-en-Dombes      Ambérieux-en-Dombes                1   \n",
       "4     NaN                Ambléon                  Ambléon                1   \n",
       "\n",
       "  nom_departement  code_region            nom_region  \n",
       "0             Ain         84.0  Auvergne-Rhône-Alpes  \n",
       "1             Ain         84.0  Auvergne-Rhône-Alpes  \n",
       "2             Ain         84.0  Auvergne-Rhône-Alpes  \n",
       "3             Ain         84.0  Auvergne-Rhône-Alpes  \n",
       "4             Ain         84.0  Auvergne-Rhône-Alpes  "
      ]
     },
<<<<<<< HEAD
     "execution_count": 21,
=======
     "execution_count": 65,
>>>>>>> ef3b7d731d682be246bf40addf0e00b4e70f68fd
     "metadata": {},
     "output_type": "execute_result"
    }
   ],
   "source": [
    "df_commune.head()"
   ]
  },
  {
   "cell_type": "code",
<<<<<<< HEAD
   "execution_count": 22,
=======
   "execution_count": 66,
>>>>>>> ef3b7d731d682be246bf40addf0e00b4e70f68fd
   "metadata": {},
   "outputs": [],
   "source": [
    "df_pop = pd.read_excel('./data/POPULATION_MUNICIPALE_COMMUNES_FRANCE.xlsx')"
   ]
  },
  {
   "cell_type": "code",
<<<<<<< HEAD
   "execution_count": 23,
=======
   "execution_count": 67,
>>>>>>> ef3b7d731d682be246bf40addf0e00b4e70f68fd
   "metadata": {},
   "outputs": [
    {
     "data": {
      "text/plain": [
       "(34995, 15)"
      ]
     },
<<<<<<< HEAD
     "execution_count": 23,
=======
     "execution_count": 67,
>>>>>>> ef3b7d731d682be246bf40addf0e00b4e70f68fd
     "metadata": {},
     "output_type": "execute_result"
    }
   ],
   "source": [
    "df_pop.shape"
   ]
  },
  {
   "cell_type": "code",
<<<<<<< HEAD
   "execution_count": 24,
=======
   "execution_count": 68,
>>>>>>> ef3b7d731d682be246bf40addf0e00b4e70f68fd
   "metadata": {},
   "outputs": [
    {
     "data": {
      "text/html": [
       "<div>\n",
       "<style scoped>\n",
       "    .dataframe tbody tr th:only-of-type {\n",
       "        vertical-align: middle;\n",
       "    }\n",
       "\n",
       "    .dataframe tbody tr th {\n",
       "        vertical-align: top;\n",
       "    }\n",
       "\n",
       "    .dataframe thead th {\n",
       "        text-align: right;\n",
       "    }\n",
       "</style>\n",
       "<table border=\"1\" class=\"dataframe\">\n",
       "  <thead>\n",
       "    <tr style=\"text-align: right;\">\n",
       "      <th></th>\n",
       "      <th>objectid</th>\n",
       "      <th>reg</th>\n",
       "      <th>dep</th>\n",
       "      <th>cv</th>\n",
       "      <th>codgeo</th>\n",
       "      <th>libgeo</th>\n",
       "      <th>p13_pop</th>\n",
       "      <th>p14_pop</th>\n",
       "      <th>p15_pop</th>\n",
       "      <th>p16_pop</th>\n",
       "      <th>p17_pop</th>\n",
       "      <th>p18_pop</th>\n",
       "      <th>p19_pop</th>\n",
       "      <th>p20_pop</th>\n",
       "      <th>p21_pop</th>\n",
       "    </tr>\n",
       "  </thead>\n",
       "  <tbody>\n",
       "    <tr>\n",
       "      <th>0</th>\n",
       "      <td>115658</td>\n",
       "      <td>52</td>\n",
       "      <td>85</td>\n",
       "      <td>8502</td>\n",
       "      <td>85062</td>\n",
       "      <td>Châteauneuf</td>\n",
       "      <td>968.0</td>\n",
       "      <td>993.0</td>\n",
       "      <td>1013.0</td>\n",
       "      <td>1027.0</td>\n",
       "      <td>1056</td>\n",
       "      <td>1085.0</td>\n",
       "      <td>1114.0</td>\n",
       "      <td>1118.0</td>\n",
       "      <td>1134.0</td>\n",
       "    </tr>\n",
       "    <tr>\n",
       "      <th>1</th>\n",
       "      <td>115659</td>\n",
       "      <td>26</td>\n",
       "      <td>58</td>\n",
       "      <td>5808</td>\n",
       "      <td>58300</td>\n",
       "      <td>Urzy</td>\n",
       "      <td>1839.0</td>\n",
       "      <td>1835.0</td>\n",
       "      <td>1828.0</td>\n",
       "      <td>1802.0</td>\n",
       "      <td>1775</td>\n",
       "      <td>1749.0</td>\n",
       "      <td>1746.0</td>\n",
       "      <td>1747.0</td>\n",
       "      <td>1742.0</td>\n",
       "    </tr>\n",
       "    <tr>\n",
       "      <th>2</th>\n",
       "      <td>115660</td>\n",
       "      <td>43</td>\n",
       "      <td>70</td>\n",
       "      <td>7012</td>\n",
       "      <td>70137</td>\n",
       "      <td>Chassey-lès-Montbozon</td>\n",
       "      <td>218.0</td>\n",
       "      <td>217.0</td>\n",
       "      <td>216.0</td>\n",
       "      <td>215.0</td>\n",
       "      <td>217</td>\n",
       "      <td>215.0</td>\n",
       "      <td>215.0</td>\n",
       "      <td>220.0</td>\n",
       "      <td>225.0</td>\n",
       "    </tr>\n",
       "    <tr>\n",
       "      <th>3</th>\n",
       "      <td>115661</td>\n",
       "      <td>21</td>\n",
       "      <td>51</td>\n",
       "      <td>5123</td>\n",
       "      <td>51649</td>\n",
       "      <td>Vitry-le-François</td>\n",
       "      <td>13174.0</td>\n",
       "      <td>13144.0</td>\n",
       "      <td>12805.0</td>\n",
       "      <td>12552.0</td>\n",
       "      <td>12133</td>\n",
       "      <td>11743.0</td>\n",
       "      <td>11376.0</td>\n",
       "      <td>11458.0</td>\n",
       "      <td>11454.0</td>\n",
       "    </tr>\n",
       "    <tr>\n",
       "      <th>4</th>\n",
       "      <td>115662</td>\n",
       "      <td>11</td>\n",
       "      <td>78</td>\n",
       "      <td>7811</td>\n",
       "      <td>78638</td>\n",
       "      <td>Vaux-sur-Seine</td>\n",
       "      <td>4749.0</td>\n",
       "      <td>4715.0</td>\n",
       "      <td>4788.0</td>\n",
       "      <td>4857.0</td>\n",
       "      <td>4927</td>\n",
       "      <td>4929.0</td>\n",
       "      <td>5010.0</td>\n",
       "      <td>5020.0</td>\n",
       "      <td>5083.0</td>\n",
       "    </tr>\n",
       "  </tbody>\n",
       "</table>\n",
       "</div>"
      ],
      "text/plain": [
       "   objectid  reg dep    cv codgeo                 libgeo  p13_pop  p14_pop  \\\n",
       "0    115658   52  85  8502  85062            Châteauneuf    968.0    993.0   \n",
       "1    115659   26  58  5808  58300                   Urzy   1839.0   1835.0   \n",
       "2    115660   43  70  7012  70137  Chassey-lès-Montbozon    218.0    217.0   \n",
       "3    115661   21  51  5123  51649      Vitry-le-François  13174.0  13144.0   \n",
       "4    115662   11  78  7811  78638         Vaux-sur-Seine   4749.0   4715.0   \n",
       "\n",
       "   p15_pop  p16_pop  p17_pop  p18_pop  p19_pop  p20_pop  p21_pop  \n",
       "0   1013.0   1027.0     1056   1085.0   1114.0   1118.0   1134.0  \n",
       "1   1828.0   1802.0     1775   1749.0   1746.0   1747.0   1742.0  \n",
       "2    216.0    215.0      217    215.0    215.0    220.0    225.0  \n",
       "3  12805.0  12552.0    12133  11743.0  11376.0  11458.0  11454.0  \n",
       "4   4788.0   4857.0     4927   4929.0   5010.0   5020.0   5083.0  "
      ]
     },
<<<<<<< HEAD
     "execution_count": 24,
=======
     "execution_count": 68,
>>>>>>> ef3b7d731d682be246bf40addf0e00b4e70f68fd
     "metadata": {},
     "output_type": "execute_result"
    }
   ],
   "source": [
    "df_pop.head()"
   ]
  },
  {
   "cell_type": "code",
<<<<<<< HEAD
   "execution_count": 25,
=======
   "execution_count": 69,
>>>>>>> ef3b7d731d682be246bf40addf0e00b4e70f68fd
   "metadata": {},
   "outputs": [
    {
     "data": {
      "text/plain": [
       "(34374, 30)"
      ]
     },
<<<<<<< HEAD
     "execution_count": 25,
=======
     "execution_count": 69,
>>>>>>> ef3b7d731d682be246bf40addf0e00b4e70f68fd
     "metadata": {},
     "output_type": "execute_result"
    }
   ],
   "source": [
    "pd.merge(df_commune, df_pop, left_on='code_commune_INSEE', right_on='codgeo', how='inner').shape"
   ]
  },
  {
   "cell_type": "code",
<<<<<<< HEAD
   "execution_count": 26,
=======
   "execution_count": 70,
>>>>>>> ef3b7d731d682be246bf40addf0e00b4e70f68fd
   "metadata": {},
   "outputs": [],
   "source": [
    "df_communes_full = pd.merge(df_commune, df_pop, left_on='code_commune_INSEE', right_on='codgeo', how='inner')"
   ]
  },
  {
   "cell_type": "markdown",
   "metadata": {},
   "source": [
    "### FACT_REPONSE"
   ]
  },
  {
   "cell_type": "code",
<<<<<<< HEAD
   "execution_count": 27,
=======
   "execution_count": 71,
>>>>>>> ef3b7d731d682be246bf40addf0e00b4e70f68fd
   "metadata": {},
   "outputs": [],
   "source": [
    "df_fact_reponse = pd.DataFrame()"
   ]
  },
  {
   "cell_type": "code",
<<<<<<< HEAD
   "execution_count": 28,
=======
   "execution_count": 72,
>>>>>>> ef3b7d731d682be246bf40addf0e00b4e70f68fd
   "metadata": {},
   "outputs": [],
   "source": [
    "df_fact_reponse['ID_LOG'] = np.arange(1, 100001)"
   ]
  },
  {
   "cell_type": "code",
<<<<<<< HEAD
   "execution_count": 29,
=======
   "execution_count": 73,
>>>>>>> ef3b7d731d682be246bf40addf0e00b4e70f68fd
   "metadata": {},
   "outputs": [],
   "source": [
    "dim_reponse = pd.read_csv('./data/DIM_REPONSE.csv')"
   ]
  },
  {
   "cell_type": "code",
<<<<<<< HEAD
   "execution_count": 30,
=======
   "execution_count": 74,
>>>>>>> ef3b7d731d682be246bf40addf0e00b4e70f68fd
   "metadata": {},
   "outputs": [],
   "source": [
    "df_fact_reponse['KEY_REPONSE'] = np.random.choice(dim_reponse['KEY_REPONSE'], size=100000)"
   ]
  },
  {
   "cell_type": "code",
<<<<<<< HEAD
   "execution_count": 31,
=======
   "execution_count": 87,
   "metadata": {},
   "outputs": [
    {
     "data": {
      "text/plain": [
       "0.1298"
      ]
     },
     "execution_count": 87,
     "metadata": {},
     "output_type": "execute_result"
    }
   ],
   "source": [
    "df_fact_reponse.query(\"KEY_REPONSE.eq('B_2_1_d')\").shape[0] / 5000"
   ]
  },
  {
   "cell_type": "code",
   "execution_count": 75,
   "metadata": {},
   "outputs": [],
   "source": [
    "# df_eleve = pd.read_csv('./data/DIM_ELEVE.csv')"
   ]
  },
  {
   "cell_type": "code",
   "execution_count": 76,
>>>>>>> ef3b7d731d682be246bf40addf0e00b4e70f68fd
   "metadata": {},
   "outputs": [],
   "source": [
    "df_fact_reponse['ID_REPONDANT'] = np.random.choice(df_eleve['ID_ELEVE'].head(5000), size=100000)"
   ]
  },
  {
   "cell_type": "code",
<<<<<<< HEAD
   "execution_count": 32,
=======
   "execution_count": 77,
>>>>>>> ef3b7d731d682be246bf40addf0e00b4e70f68fd
   "metadata": {},
   "outputs": [],
   "source": [
    "df_fact_reponse = df_fact_reponse.sort_values(\"ID_REPONDANT\")"
   ]
  },
  {
<<<<<<< HEAD
   "cell_type": "code",
   "execution_count": 33,
=======
   "cell_type": "markdown",
   "metadata": {},
   "source": [
    "# Date unique per ID_REPONDANT"
   ]
  },
  {
   "cell_type": "code",
   "execution_count": 78,
>>>>>>> ef3b7d731d682be246bf40addf0e00b4e70f68fd
   "metadata": {},
   "outputs": [],
   "source": [
    "date_range = pd.date_range(start='01/01/2025', periods=200, freq='d')"
   ]
  },
  {
   "cell_type": "code",
<<<<<<< HEAD
   "execution_count": 34,
=======
   "execution_count": 79,
>>>>>>> ef3b7d731d682be246bf40addf0e00b4e70f68fd
   "metadata": {},
   "outputs": [
    {
     "name": "stderr",
     "output_type": "stream",
     "text": [
<<<<<<< HEAD
      "/tmp/ipykernel_1521/285953498.py:1: DeprecationWarning: DataFrameGroupBy.apply operated on the grouping columns. This behavior is deprecated, and in a future version of pandas the grouping columns will be excluded from the operation. Either pass `include_groups=False` to exclude the groupings or explicitly select the grouping columns after groupby to silence this warning.\n",
=======
      "/tmp/ipykernel_1376399/285953498.py:1: DeprecationWarning: DataFrameGroupBy.apply operated on the grouping columns. This behavior is deprecated, and in a future version of pandas the grouping columns will be excluded from the operation. Either pass `include_groups=False` to exclude the groupings or explicitly select the grouping columns after groupby to silence this warning.\n",
>>>>>>> ef3b7d731d682be246bf40addf0e00b4e70f68fd
      "  df_fact_reponse['DATE_TIME'] = np.vstack(df_fact_reponse.groupby(\"ID_REPONDANT\").apply(\n"
     ]
    }
   ],
   "source": [
    "df_fact_reponse['DATE_TIME'] = np.vstack(df_fact_reponse.groupby(\"ID_REPONDANT\").apply(\n",
    "    lambda x: [np.random.choice(date_range).reshape(-1,1)]*len(x)\n",
    ")).flatten()"
   ]
  },
  {
   "cell_type": "code",
<<<<<<< HEAD
   "execution_count": 35,
=======
   "execution_count": 80,
>>>>>>> ef3b7d731d682be246bf40addf0e00b4e70f68fd
   "metadata": {},
   "outputs": [
    {
     "data": {
      "text/html": [
       "<div>\n",
       "<style scoped>\n",
       "    .dataframe tbody tr th:only-of-type {\n",
       "        vertical-align: middle;\n",
       "    }\n",
       "\n",
       "    .dataframe tbody tr th {\n",
       "        vertical-align: top;\n",
       "    }\n",
       "\n",
       "    .dataframe thead th {\n",
       "        text-align: right;\n",
       "    }\n",
       "</style>\n",
       "<table border=\"1\" class=\"dataframe\">\n",
       "  <thead>\n",
       "    <tr style=\"text-align: right;\">\n",
       "      <th></th>\n",
       "      <th>ID_LOG</th>\n",
       "      <th>KEY_REPONSE</th>\n",
       "      <th>ID_REPONDANT</th>\n",
       "      <th>DATE_TIME</th>\n",
       "    </tr>\n",
       "  </thead>\n",
       "  <tbody>\n",
       "    <tr>\n",
<<<<<<< HEAD
       "      <th>88052</th>\n",
       "      <td>88053</td>\n",
       "      <td>B_1_2_e</td>\n",
       "      <td>E04357</td>\n",
       "      <td>2025-01-15</td>\n",
       "    </tr>\n",
       "    <tr>\n",
       "      <th>79115</th>\n",
       "      <td>79116</td>\n",
       "      <td>C_2_1_d</td>\n",
       "      <td>E04357</td>\n",
       "      <td>2025-01-15</td>\n",
       "    </tr>\n",
       "    <tr>\n",
       "      <th>82124</th>\n",
       "      <td>82125</td>\n",
       "      <td>A_1_1_g</td>\n",
       "      <td>E04357</td>\n",
       "      <td>2025-01-15</td>\n",
       "    </tr>\n",
       "    <tr>\n",
       "      <th>28819</th>\n",
       "      <td>28820</td>\n",
       "      <td>D_1_2_b</td>\n",
       "      <td>E04357</td>\n",
       "      <td>2025-01-15</td>\n",
       "    </tr>\n",
       "    <tr>\n",
       "      <th>67713</th>\n",
       "      <td>67714</td>\n",
       "      <td>D_1_2_g</td>\n",
       "      <td>E04357</td>\n",
       "      <td>2025-01-15</td>\n",
       "    </tr>\n",
       "    <tr>\n",
       "      <th>61850</th>\n",
       "      <td>61851</td>\n",
       "      <td>A_3_1_c</td>\n",
       "      <td>E04357</td>\n",
       "      <td>2025-01-15</td>\n",
       "    </tr>\n",
       "    <tr>\n",
       "      <th>12327</th>\n",
       "      <td>12328</td>\n",
       "      <td>D_2_1_c</td>\n",
       "      <td>E04357</td>\n",
       "      <td>2025-01-15</td>\n",
       "    </tr>\n",
       "    <tr>\n",
       "      <th>72741</th>\n",
       "      <td>72742</td>\n",
       "      <td>B_3_1_d</td>\n",
       "      <td>E04357</td>\n",
       "      <td>2025-01-15</td>\n",
       "    </tr>\n",
       "    <tr>\n",
       "      <th>24010</th>\n",
       "      <td>24011</td>\n",
       "      <td>C_3_2_e</td>\n",
       "      <td>E04357</td>\n",
       "      <td>2025-01-15</td>\n",
       "    </tr>\n",
       "    <tr>\n",
       "      <th>81332</th>\n",
       "      <td>81333</td>\n",
       "      <td>D_2_1_e</td>\n",
       "      <td>E04357</td>\n",
       "      <td>2025-01-15</td>\n",
       "    </tr>\n",
       "    <tr>\n",
       "      <th>70217</th>\n",
       "      <td>70218</td>\n",
       "      <td>B_3_1_e</td>\n",
       "      <td>E04357</td>\n",
       "      <td>2025-01-15</td>\n",
       "    </tr>\n",
       "    <tr>\n",
       "      <th>11374</th>\n",
       "      <td>11375</td>\n",
       "      <td>D_1_2_g</td>\n",
       "      <td>E04357</td>\n",
       "      <td>2025-01-15</td>\n",
       "    </tr>\n",
       "    <tr>\n",
       "      <th>48803</th>\n",
       "      <td>48804</td>\n",
       "      <td>D_1_2_g</td>\n",
       "      <td>E04357</td>\n",
       "      <td>2025-01-15</td>\n",
       "    </tr>\n",
       "    <tr>\n",
       "      <th>18937</th>\n",
       "      <td>18938</td>\n",
       "      <td>Pr_C_1_d</td>\n",
       "      <td>E04357</td>\n",
       "      <td>2025-01-15</td>\n",
       "    </tr>\n",
       "    <tr>\n",
       "      <th>40449</th>\n",
       "      <td>40450</td>\n",
       "      <td>Pr_C_1_d</td>\n",
       "      <td>E04357</td>\n",
       "      <td>2025-01-15</td>\n",
       "    </tr>\n",
       "    <tr>\n",
       "      <th>51674</th>\n",
       "      <td>51675</td>\n",
       "      <td>D_1_1_f</td>\n",
       "      <td>E04357</td>\n",
       "      <td>2025-01-15</td>\n",
       "    </tr>\n",
       "    <tr>\n",
       "      <th>84956</th>\n",
       "      <td>84957</td>\n",
       "      <td>B_1_1_e</td>\n",
       "      <td>E04357</td>\n",
       "      <td>2025-01-15</td>\n",
       "    </tr>\n",
       "    <tr>\n",
       "      <th>83216</th>\n",
       "      <td>83217</td>\n",
       "      <td>D_1_1_h</td>\n",
       "      <td>E04357</td>\n",
       "      <td>2025-01-15</td>\n",
       "    </tr>\n",
       "    <tr>\n",
       "      <th>63073</th>\n",
       "      <td>63074</td>\n",
       "      <td>D_2_1_a</td>\n",
       "      <td>E04357</td>\n",
       "      <td>2025-01-15</td>\n",
       "    </tr>\n",
       "    <tr>\n",
       "      <th>81202</th>\n",
       "      <td>81203</td>\n",
       "      <td>C_3_1_c</td>\n",
       "      <td>E04357</td>\n",
       "      <td>2025-01-15</td>\n",
       "    </tr>\n",
       "    <tr>\n",
       "      <th>74687</th>\n",
       "      <td>74688</td>\n",
       "      <td>D_2_2_e</td>\n",
       "      <td>E04357</td>\n",
       "      <td>2025-01-15</td>\n",
       "    </tr>\n",
       "    <tr>\n",
       "      <th>34816</th>\n",
       "      <td>34817</td>\n",
       "      <td>D_1_2_c</td>\n",
       "      <td>E04357</td>\n",
       "      <td>2025-01-15</td>\n",
       "    </tr>\n",
       "    <tr>\n",
       "      <th>56523</th>\n",
       "      <td>56524</td>\n",
       "      <td>D_2_1_a</td>\n",
       "      <td>E04357</td>\n",
       "      <td>2025-01-15</td>\n",
       "    </tr>\n",
       "    <tr>\n",
       "      <th>50928</th>\n",
       "      <td>50929</td>\n",
       "      <td>B_2_2_g</td>\n",
       "      <td>E04357</td>\n",
       "      <td>2025-01-15</td>\n",
       "    </tr>\n",
       "    <tr>\n",
       "      <th>55242</th>\n",
       "      <td>55243</td>\n",
       "      <td>B_3_1_g</td>\n",
       "      <td>E04357</td>\n",
       "      <td>2025-01-15</td>\n",
       "    </tr>\n",
       "    <tr>\n",
       "      <th>30109</th>\n",
       "      <td>30110</td>\n",
       "      <td>A_2_1_a</td>\n",
       "      <td>E04357</td>\n",
       "      <td>2025-01-15</td>\n",
       "    </tr>\n",
       "    <tr>\n",
       "      <th>2759</th>\n",
       "      <td>2760</td>\n",
       "      <td>A_2_1_d</td>\n",
       "      <td>E04357</td>\n",
       "      <td>2025-01-15</td>\n",
       "    </tr>\n",
       "    <tr>\n",
       "      <th>39585</th>\n",
       "      <td>39586</td>\n",
       "      <td>B_2_2_e</td>\n",
       "      <td>E04357</td>\n",
       "      <td>2025-01-15</td>\n",
=======
       "      <th>21433</th>\n",
       "      <td>21434</td>\n",
       "      <td>A_2_2_e</td>\n",
       "      <td>E04357</td>\n",
       "      <td>2025-03-06</td>\n",
       "    </tr>\n",
       "    <tr>\n",
       "      <th>28390</th>\n",
       "      <td>28391</td>\n",
       "      <td>A_1_1_d</td>\n",
       "      <td>E04357</td>\n",
       "      <td>2025-03-06</td>\n",
       "    </tr>\n",
       "    <tr>\n",
       "      <th>70577</th>\n",
       "      <td>70578</td>\n",
       "      <td>D_1_2_h</td>\n",
       "      <td>E04357</td>\n",
       "      <td>2025-03-06</td>\n",
       "    </tr>\n",
       "    <tr>\n",
       "      <th>46560</th>\n",
       "      <td>46561</td>\n",
       "      <td>B_1_2_b</td>\n",
       "      <td>E04357</td>\n",
       "      <td>2025-03-06</td>\n",
       "    </tr>\n",
       "    <tr>\n",
       "      <th>33567</th>\n",
       "      <td>33568</td>\n",
       "      <td>C_2_2_a</td>\n",
       "      <td>E04357</td>\n",
       "      <td>2025-03-06</td>\n",
       "    </tr>\n",
       "    <tr>\n",
       "      <th>21970</th>\n",
       "      <td>21971</td>\n",
       "      <td>B_3_1_g</td>\n",
       "      <td>E04357</td>\n",
       "      <td>2025-03-06</td>\n",
       "    </tr>\n",
       "    <tr>\n",
       "      <th>5511</th>\n",
       "      <td>5512</td>\n",
       "      <td>C_2_2_h</td>\n",
       "      <td>E04357</td>\n",
       "      <td>2025-03-06</td>\n",
       "    </tr>\n",
       "    <tr>\n",
       "      <th>59803</th>\n",
       "      <td>59804</td>\n",
       "      <td>A_1_2_m</td>\n",
       "      <td>E04357</td>\n",
       "      <td>2025-03-06</td>\n",
       "    </tr>\n",
       "    <tr>\n",
       "      <th>85673</th>\n",
       "      <td>85674</td>\n",
       "      <td>C_2_2_h</td>\n",
       "      <td>E04357</td>\n",
       "      <td>2025-03-06</td>\n",
       "    </tr>\n",
       "    <tr>\n",
       "      <th>12469</th>\n",
       "      <td>12470</td>\n",
       "      <td>B_2_1_d</td>\n",
       "      <td>E04357</td>\n",
       "      <td>2025-03-06</td>\n",
       "    </tr>\n",
       "    <tr>\n",
       "      <th>73260</th>\n",
       "      <td>73261</td>\n",
       "      <td>D_1_2_d</td>\n",
       "      <td>E04357</td>\n",
       "      <td>2025-03-06</td>\n",
       "    </tr>\n",
       "    <tr>\n",
       "      <th>44561</th>\n",
       "      <td>44562</td>\n",
       "      <td>B_3_1_h</td>\n",
       "      <td>E04357</td>\n",
       "      <td>2025-03-06</td>\n",
       "    </tr>\n",
       "    <tr>\n",
       "      <th>59431</th>\n",
       "      <td>59432</td>\n",
       "      <td>A_2_1_a</td>\n",
       "      <td>E04357</td>\n",
       "      <td>2025-03-06</td>\n",
       "    </tr>\n",
       "    <tr>\n",
       "      <th>6789</th>\n",
       "      <td>6790</td>\n",
       "      <td>B_2_2_d</td>\n",
       "      <td>E04357</td>\n",
       "      <td>2025-03-06</td>\n",
       "    </tr>\n",
       "    <tr>\n",
       "      <th>56447</th>\n",
       "      <td>56448</td>\n",
       "      <td>D_2_1_e</td>\n",
       "      <td>E04357</td>\n",
       "      <td>2025-03-06</td>\n",
       "    </tr>\n",
       "    <tr>\n",
       "      <th>34678</th>\n",
       "      <td>34679</td>\n",
       "      <td>C_1_1_a</td>\n",
       "      <td>E04357</td>\n",
       "      <td>2025-03-06</td>\n",
       "    </tr>\n",
       "    <tr>\n",
       "      <th>16675</th>\n",
       "      <td>16676</td>\n",
       "      <td>A_3_2_b</td>\n",
       "      <td>E04357</td>\n",
       "      <td>2025-03-06</td>\n",
       "    </tr>\n",
       "    <tr>\n",
       "      <th>81703</th>\n",
       "      <td>81704</td>\n",
       "      <td>A_2_2_g</td>\n",
       "      <td>E04357</td>\n",
       "      <td>2025-03-06</td>\n",
       "    </tr>\n",
       "    <tr>\n",
       "      <th>39867</th>\n",
       "      <td>39868</td>\n",
       "      <td>D_1_1_g</td>\n",
       "      <td>E04357</td>\n",
       "      <td>2025-03-06</td>\n",
       "    </tr>\n",
       "    <tr>\n",
       "      <th>62850</th>\n",
       "      <td>62851</td>\n",
       "      <td>D_2_2_e</td>\n",
       "      <td>E04357</td>\n",
       "      <td>2025-03-06</td>\n",
       "    </tr>\n",
       "    <tr>\n",
       "      <th>3932</th>\n",
       "      <td>3933</td>\n",
       "      <td>B_1_2_c</td>\n",
       "      <td>E04357</td>\n",
       "      <td>2025-03-06</td>\n",
       "    </tr>\n",
       "    <tr>\n",
       "      <th>79828</th>\n",
       "      <td>79829</td>\n",
       "      <td>A_1_2_a</td>\n",
       "      <td>E04357</td>\n",
       "      <td>2025-03-06</td>\n",
       "    </tr>\n",
       "    <tr>\n",
       "      <th>18554</th>\n",
       "      <td>18555</td>\n",
       "      <td>D_3_1_d</td>\n",
       "      <td>E04357</td>\n",
       "      <td>2025-03-06</td>\n",
       "    </tr>\n",
       "    <tr>\n",
       "      <th>91237</th>\n",
       "      <td>91238</td>\n",
       "      <td>D_3_1_c</td>\n",
       "      <td>E04357</td>\n",
       "      <td>2025-03-06</td>\n",
>>>>>>> ef3b7d731d682be246bf40addf0e00b4e70f68fd
       "    </tr>\n",
       "  </tbody>\n",
       "</table>\n",
       "</div>"
      ],
      "text/plain": [
       "       ID_LOG KEY_REPONSE ID_REPONDANT  DATE_TIME\n",
<<<<<<< HEAD
       "88052   88053     B_1_2_e       E04357 2025-01-15\n",
       "79115   79116     C_2_1_d       E04357 2025-01-15\n",
       "82124   82125     A_1_1_g       E04357 2025-01-15\n",
       "28819   28820     D_1_2_b       E04357 2025-01-15\n",
       "67713   67714     D_1_2_g       E04357 2025-01-15\n",
       "61850   61851     A_3_1_c       E04357 2025-01-15\n",
       "12327   12328     D_2_1_c       E04357 2025-01-15\n",
       "72741   72742     B_3_1_d       E04357 2025-01-15\n",
       "24010   24011     C_3_2_e       E04357 2025-01-15\n",
       "81332   81333     D_2_1_e       E04357 2025-01-15\n",
       "70217   70218     B_3_1_e       E04357 2025-01-15\n",
       "11374   11375     D_1_2_g       E04357 2025-01-15\n",
       "48803   48804     D_1_2_g       E04357 2025-01-15\n",
       "18937   18938    Pr_C_1_d       E04357 2025-01-15\n",
       "40449   40450    Pr_C_1_d       E04357 2025-01-15\n",
       "51674   51675     D_1_1_f       E04357 2025-01-15\n",
       "84956   84957     B_1_1_e       E04357 2025-01-15\n",
       "83216   83217     D_1_1_h       E04357 2025-01-15\n",
       "63073   63074     D_2_1_a       E04357 2025-01-15\n",
       "81202   81203     C_3_1_c       E04357 2025-01-15\n",
       "74687   74688     D_2_2_e       E04357 2025-01-15\n",
       "34816   34817     D_1_2_c       E04357 2025-01-15\n",
       "56523   56524     D_2_1_a       E04357 2025-01-15\n",
       "50928   50929     B_2_2_g       E04357 2025-01-15\n",
       "55242   55243     B_3_1_g       E04357 2025-01-15\n",
       "30109   30110     A_2_1_a       E04357 2025-01-15\n",
       "2759     2760     A_2_1_d       E04357 2025-01-15\n",
       "39585   39586     B_2_2_e       E04357 2025-01-15"
      ]
     },
     "execution_count": 35,
=======
       "21433   21434     A_2_2_e       E04357 2025-03-06\n",
       "28390   28391     A_1_1_d       E04357 2025-03-06\n",
       "70577   70578     D_1_2_h       E04357 2025-03-06\n",
       "46560   46561     B_1_2_b       E04357 2025-03-06\n",
       "33567   33568     C_2_2_a       E04357 2025-03-06\n",
       "21970   21971     B_3_1_g       E04357 2025-03-06\n",
       "5511     5512     C_2_2_h       E04357 2025-03-06\n",
       "59803   59804     A_1_2_m       E04357 2025-03-06\n",
       "85673   85674     C_2_2_h       E04357 2025-03-06\n",
       "12469   12470     B_2_1_d       E04357 2025-03-06\n",
       "73260   73261     D_1_2_d       E04357 2025-03-06\n",
       "44561   44562     B_3_1_h       E04357 2025-03-06\n",
       "59431   59432     A_2_1_a       E04357 2025-03-06\n",
       "6789     6790     B_2_2_d       E04357 2025-03-06\n",
       "56447   56448     D_2_1_e       E04357 2025-03-06\n",
       "34678   34679     C_1_1_a       E04357 2025-03-06\n",
       "16675   16676     A_3_2_b       E04357 2025-03-06\n",
       "81703   81704     A_2_2_g       E04357 2025-03-06\n",
       "39867   39868     D_1_1_g       E04357 2025-03-06\n",
       "62850   62851     D_2_2_e       E04357 2025-03-06\n",
       "3932     3933     B_1_2_c       E04357 2025-03-06\n",
       "79828   79829     A_1_2_a       E04357 2025-03-06\n",
       "18554   18555    D_3_1_d        E04357 2025-03-06\n",
       "91237   91238     D_3_1_c       E04357 2025-03-06"
      ]
     },
     "execution_count": 80,
>>>>>>> ef3b7d731d682be246bf40addf0e00b4e70f68fd
     "metadata": {},
     "output_type": "execute_result"
    }
   ],
   "source": [
    "df_fact_reponse.query(\"ID_REPONDANT.eq('E04357')\")"
   ]
  },
  {
   "cell_type": "code",
<<<<<<< HEAD
   "execution_count": 36,
=======
   "execution_count": 81,
>>>>>>> ef3b7d731d682be246bf40addf0e00b4e70f68fd
   "metadata": {},
   "outputs": [],
   "source": [
    "df_fact_reponse = df_fact_reponse.sample(frac=1)"
   ]
  },
  {
   "cell_type": "markdown",
   "metadata": {},
   "source": [
<<<<<<< HEAD
    "### FK LINKS"
   ]
  },
  {
   "cell_type": "code",
   "execution_count": 37,
   "metadata": {},
   "outputs": [],
   "source": [
    "df_eleve['ID_PARENT'] = np.random.choice(df_parent['ID_PARENT'], size=10000)"
   ]
  },
  {
   "cell_type": "code",
   "execution_count": 38,
   "metadata": {},
   "outputs": [],
   "source": [
    "df_parent['ID_ENFANT'] = np.random.choice(df_eleve['ID_ELEVE'], size=5000)"
   ]
  },
  {
   "cell_type": "code",
   "execution_count": 39,
   "metadata": {},
   "outputs": [],
   "source": [
    "df_enseignant['ID_ETABLISSEMENT'] = np.random.choice(df_etablissement['ID_ETABLISSEMENT'], size=100)"
   ]
  },
  {
   "cell_type": "markdown",
   "metadata": {},
   "source": [
=======
>>>>>>> ef3b7d731d682be246bf40addf0e00b4e70f68fd
    "### EXPORT"
   ]
  },
  {
   "cell_type": "code",
<<<<<<< HEAD
   "execution_count": 40,
=======
   "execution_count": 82,
>>>>>>> ef3b7d731d682be246bf40addf0e00b4e70f68fd
   "metadata": {},
   "outputs": [],
   "source": [
    "df_eleve.to_csv('./data/DIM_ELEVE.csv', index=False)\n",
<<<<<<< HEAD
    "df_parent.to_csv('./data/DIM_PARENT.csv', index=False)\n",
    "df_enseignant.to_csv('./data/DIM_ENSEIGNANT.csv', index=False)\n",
    "df_etablissement.to_csv('./data/DIM_ETABLISSEMENT.csv', index=False)\n",
    "df_communes_full.to_csv('./data/DIM_COMMUNE.csv', index=False)\n",
    "df_fact_reponse.to_csv('./data/FACT_REPONSE.csv', index=False)"
   ]
=======
    "# df_classe.to_csv('./data/DIM_CLASSE.csv', index=False)\n",
    "df_enseignant.to_csv('./data/DIM_ENSEIGNANT.csv', index=False)\n",
    "df_etablissement.to_csv('./data/DIM_ETABLISSEMENT.csv', index=False)\n",
    "# df_communes_full.to_csv('./data/DIM_COMMUNE.csv', index=False)\n",
    "df_fact_reponse.to_csv('./data/FACT_REPONSE.csv', index=False)"
   ]
  },
  {
   "cell_type": "code",
   "execution_count": null,
   "metadata": {},
   "outputs": [],
   "source": []
>>>>>>> ef3b7d731d682be246bf40addf0e00b4e70f68fd
  }
 ],
 "metadata": {
  "kernelspec": {
<<<<<<< HEAD
   "display_name": "base",
=======
   "display_name": "dfg13_cyber",
>>>>>>> ef3b7d731d682be246bf40addf0e00b4e70f68fd
   "language": "python",
   "name": "python3"
  },
  "language_info": {
   "codemirror_mode": {
    "name": "ipython",
    "version": 3
   },
   "file_extension": ".py",
   "mimetype": "text/x-python",
   "name": "python",
   "nbconvert_exporter": "python",
   "pygments_lexer": "ipython3",
<<<<<<< HEAD
   "version": "3.12.9"
=======
   "version": "3.9.21"
>>>>>>> ef3b7d731d682be246bf40addf0e00b4e70f68fd
  }
 },
 "nbformat": 4,
 "nbformat_minor": 4
}
