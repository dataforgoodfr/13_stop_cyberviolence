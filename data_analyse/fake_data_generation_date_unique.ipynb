{
 "cells": [
  {
   "cell_type": "markdown",
   "metadata": {},
   "source": [
    "# GENERATION FAKE DATA\n",
    "\n",
    "Alimentation des tables d'analyse avant réception des \"vraies\" données"
   ]
  },
  {
   "cell_type": "code",
   "execution_count": 4,
   "metadata": {},
   "outputs": [],
   "source": [
    "import pandas as pd\n",
    "import numpy as np"
   ]
  },
  {
   "cell_type": "markdown",
   "metadata": {},
   "source": [
    "### DIM_ELEVE"
   ]
  },
  {
   "cell_type": "code",
   "execution_count": 5,
   "metadata": {},
   "outputs": [],
   "source": [
    "df_eleve = pd.DataFrame()"
   ]
  },
  {
   "cell_type": "code",
   "execution_count": 6,
   "metadata": {},
   "outputs": [],
   "source": [
    "df_eleve['ID_ELEVE'] = np.arange(1, 10001)"
   ]
  },
  {
   "cell_type": "code",
   "execution_count": 7,
   "metadata": {},
   "outputs": [],
   "source": [
    "df_eleve['ID_ELEVE'] = df_eleve['ID_ELEVE'].apply(lambda x: 'E' + str(x).zfill(5))"
   ]
  },
  {
   "cell_type": "code",
   "execution_count": 8,
   "metadata": {},
   "outputs": [],
   "source": [
    "df_eleve['GENRE'] = np.random.choice(['m', 'f'], size=10000)"
   ]
  },
  {
   "cell_type": "code",
   "execution_count": 9,
   "metadata": {},
   "outputs": [],
   "source": [
    "df_eleve['DATE_NAISSANCE'] = np.random.choice([\n",
    "    '01/01/2015', '01/01/2016', '01/01/2017', '01/01/2014', '01/01/2013',\n",
    "    '01/01/2012', '01/01/2011', '01/01/2010', '01/01/2009'\n",
    "], size=10000)"
   ]
  },
  {
   "cell_type": "code",
   "execution_count": 10,
   "metadata": {},
   "outputs": [],
   "source": [
    "#df_classe = pd.read_csv(\"./data/DIM_CLASSE.csv\")"
   ]
  },
  {
   "cell_type": "code",
   "execution_count": 11,
   "metadata": {},
   "outputs": [],
   "source": [
    "#df_eleve['ID_CLASSE'] = np.random.choice(df_classe['ID_CLASSE'], size=10000)"
   ]
  },
  {
   "cell_type": "code",
   "execution_count": 12,
   "metadata": {},
   "outputs": [
    {
     "data": {
      "text/html": [
       "<div>\n",
       "<style scoped>\n",
       "    .dataframe tbody tr th:only-of-type {\n",
       "        vertical-align: middle;\n",
       "    }\n",
       "\n",
       "    .dataframe tbody tr th {\n",
       "        vertical-align: top;\n",
       "    }\n",
       "\n",
       "    .dataframe thead th {\n",
       "        text-align: right;\n",
       "    }\n",
       "</style>\n",
       "<table border=\"1\" class=\"dataframe\">\n",
       "  <thead>\n",
       "    <tr style=\"text-align: right;\">\n",
       "      <th></th>\n",
       "      <th>ID_ELEVE</th>\n",
       "      <th>GENRE</th>\n",
       "      <th>DATE_NAISSANCE</th>\n",
       "    </tr>\n",
       "  </thead>\n",
       "  <tbody>\n",
       "    <tr>\n",
       "      <th>0</th>\n",
       "      <td>E00001</td>\n",
       "      <td>m</td>\n",
       "      <td>01/01/2017</td>\n",
       "    </tr>\n",
       "    <tr>\n",
       "      <th>1</th>\n",
       "      <td>E00002</td>\n",
       "      <td>f</td>\n",
       "      <td>01/01/2010</td>\n",
       "    </tr>\n",
       "    <tr>\n",
       "      <th>2</th>\n",
       "      <td>E00003</td>\n",
       "      <td>f</td>\n",
       "      <td>01/01/2012</td>\n",
       "    </tr>\n",
       "    <tr>\n",
       "      <th>3</th>\n",
       "      <td>E00004</td>\n",
       "      <td>f</td>\n",
       "      <td>01/01/2014</td>\n",
       "    </tr>\n",
       "    <tr>\n",
       "      <th>4</th>\n",
       "      <td>E00005</td>\n",
       "      <td>f</td>\n",
       "      <td>01/01/2010</td>\n",
       "    </tr>\n",
       "  </tbody>\n",
       "</table>\n",
       "</div>"
      ],
      "text/plain": [
       "  ID_ELEVE GENRE DATE_NAISSANCE\n",
       "0   E00001     m     01/01/2017\n",
       "1   E00002     f     01/01/2010\n",
       "2   E00003     f     01/01/2012\n",
       "3   E00004     f     01/01/2014\n",
       "4   E00005     f     01/01/2010"
      ]
     },
     "execution_count": 12,
     "metadata": {},
     "output_type": "execute_result"
    }
   ],
   "source": [
    "df_eleve.head()"
   ]
  },
  {
   "cell_type": "markdown",
   "metadata": {},
   "source": [
    "### DIM_CLASSE"
   ]
  },
  {
   "cell_type": "code",
   "execution_count": 13,
   "metadata": {},
   "outputs": [],
   "source": [
    "# df_classe = pd.DataFrame()"
   ]
  },
  {
   "cell_type": "code",
   "execution_count": 14,
   "metadata": {},
   "outputs": [],
   "source": [
    "\n",
    "# df_classe['ID_CLASSE'] = np.arange(1, 501)\n",
    "# df_classe['ID_CLASSE'] = df_classe['ID_CLASSE'].apply(lambda x: 'C' + str(x).zfill(3))"
   ]
  },
  {
   "cell_type": "code",
   "execution_count": 15,
   "metadata": {},
   "outputs": [],
   "source": [
    "# df_classe['NB_ELEVES'] = np.random.randint(10, 30, size=500)"
   ]
  },
  {
   "cell_type": "code",
   "execution_count": 16,
   "metadata": {},
   "outputs": [],
   "source": [
    "# df_classe['NIVEAU'] = np.random.choice(['CP', 'CE1', 'CE2', 'CM1', 'CM2'], size=500)"
   ]
  },
  {
   "cell_type": "markdown",
   "metadata": {},
   "source": [
    "### DIM_ENSEIGNANT"
   ]
  },
  {
   "cell_type": "code",
   "execution_count": 17,
   "metadata": {},
   "outputs": [],
   "source": [
    "df_enseignant = pd.DataFrame()"
   ]
  },
  {
   "cell_type": "code",
   "execution_count": 18,
   "metadata": {},
   "outputs": [],
   "source": [
    "df_enseignant['ID_ENSEIGNANT'] = np.arange(1, 101)\n",
    "df_enseignant['ID_ENSEIGNANT'] = df_enseignant['ID_ENSEIGNANT'].apply(lambda x: 'ENS' + str(x).zfill(3))"
   ]
  },
  {
   "cell_type": "code",
   "execution_count": 20,
   "metadata": {},
   "outputs": [],
   "source": [
    "# df_enseignant['ID_CLASSE'] = np.random.choice(df_classe['ID_CLASSE'], size=100)"
   ]
  },
  {
   "cell_type": "markdown",
   "metadata": {},
   "source": [
    "### DIM_ETABLISSEMENT"
   ]
  },
  {
   "cell_type": "code",
   "execution_count": 21,
   "metadata": {},
   "outputs": [],
   "source": [
    "df_etablissement = pd.DataFrame()"
   ]
  },
  {
   "cell_type": "code",
   "execution_count": 22,
   "metadata": {},
   "outputs": [],
   "source": [
    "df_etablissement['ID_ETABLISSEMENT'] = np.arange(1, 11)\n",
    "df_etablissement['ID_ETABLISSEMENT'] = df_etablissement['ID_ETABLISSEMENT'].apply(lambda x: 'ETAB' + str(x).zfill(2))"
   ]
  },
  {
   "cell_type": "code",
   "execution_count": 23,
   "metadata": {},
   "outputs": [],
   "source": [
    "df_etablissement['TYPE'] = np.random.choice(['ecole', 'college'], size=10)"
   ]
  },
  {
   "cell_type": "code",
   "execution_count": 24,
   "metadata": {},
   "outputs": [],
   "source": [
    "df_etablissement['ZIPCODE'] = np.random.randint(10000, 99999, size=10)"
   ]
  },
  {
   "cell_type": "code",
   "execution_count": 25,
   "metadata": {},
   "outputs": [],
   "source": [
    "df_etablissement['ACADEMIE'] = np.random.choice(['Paris', 'Lyon', 'Marseille', 'Bordeaux', 'Toulouse'], size=10)"
   ]
  },
  {
   "cell_type": "markdown",
   "metadata": {},
   "source": [
    "### DIM_COMMUNE"
   ]
  },
  {
   "cell_type": "code",
   "execution_count": 26,
   "metadata": {},
   "outputs": [],
   "source": [
    "df_commune = pd.read_csv('./data/20230823-communes-departement-region.csv')"
   ]
  },
  {
   "cell_type": "code",
   "execution_count": 27,
   "metadata": {},
   "outputs": [
    {
     "data": {
      "text/plain": [
       "(39201, 15)"
      ]
     },
     "execution_count": 27,
     "metadata": {},
     "output_type": "execute_result"
    }
   ],
   "source": [
    "df_commune.shape"
   ]
  },
  {
   "cell_type": "code",
   "execution_count": 28,
   "metadata": {},
   "outputs": [
    {
     "data": {
      "text/html": [
       "<div>\n",
       "<style scoped>\n",
       "    .dataframe tbody tr th:only-of-type {\n",
       "        vertical-align: middle;\n",
       "    }\n",
       "\n",
       "    .dataframe tbody tr th {\n",
       "        vertical-align: top;\n",
       "    }\n",
       "\n",
       "    .dataframe thead th {\n",
       "        text-align: right;\n",
       "    }\n",
       "</style>\n",
       "<table border=\"1\" class=\"dataframe\">\n",
       "  <thead>\n",
       "    <tr style=\"text-align: right;\">\n",
       "      <th></th>\n",
       "      <th>code_commune_INSEE</th>\n",
       "      <th>nom_commune_postal</th>\n",
       "      <th>code_postal</th>\n",
       "      <th>libelle_acheminement</th>\n",
       "      <th>ligne_5</th>\n",
       "      <th>latitude</th>\n",
       "      <th>longitude</th>\n",
       "      <th>code_commune</th>\n",
       "      <th>article</th>\n",
       "      <th>nom_commune</th>\n",
       "      <th>nom_commune_complet</th>\n",
       "      <th>code_departement</th>\n",
       "      <th>nom_departement</th>\n",
       "      <th>code_region</th>\n",
       "      <th>nom_region</th>\n",
       "    </tr>\n",
       "  </thead>\n",
       "  <tbody>\n",
       "    <tr>\n",
       "      <th>0</th>\n",
       "      <td>1001</td>\n",
       "      <td>L ABERGEMENT CLEMENCIAT</td>\n",
       "      <td>1400</td>\n",
       "      <td>L ABERGEMENT CLEMENCIAT</td>\n",
       "      <td>NaN</td>\n",
       "      <td>46.153426</td>\n",
       "      <td>4.926114</td>\n",
       "      <td>1.0</td>\n",
       "      <td>L'</td>\n",
       "      <td>Abergement-Clémenciat</td>\n",
       "      <td>L'Abergement-Clémenciat</td>\n",
       "      <td>1</td>\n",
       "      <td>Ain</td>\n",
       "      <td>84.0</td>\n",
       "      <td>Auvergne-Rhône-Alpes</td>\n",
       "    </tr>\n",
       "    <tr>\n",
       "      <th>1</th>\n",
       "      <td>1002</td>\n",
       "      <td>L ABERGEMENT DE VAREY</td>\n",
       "      <td>1640</td>\n",
       "      <td>L ABERGEMENT DE VAREY</td>\n",
       "      <td>NaN</td>\n",
       "      <td>46.009188</td>\n",
       "      <td>5.428017</td>\n",
       "      <td>2.0</td>\n",
       "      <td>L'</td>\n",
       "      <td>Abergement-de-Varey</td>\n",
       "      <td>L'Abergement-de-Varey</td>\n",
       "      <td>1</td>\n",
       "      <td>Ain</td>\n",
       "      <td>84.0</td>\n",
       "      <td>Auvergne-Rhône-Alpes</td>\n",
       "    </tr>\n",
       "    <tr>\n",
       "      <th>2</th>\n",
       "      <td>1004</td>\n",
       "      <td>AMBERIEU EN BUGEY</td>\n",
       "      <td>1500</td>\n",
       "      <td>AMBERIEU EN BUGEY</td>\n",
       "      <td>NaN</td>\n",
       "      <td>45.960848</td>\n",
       "      <td>5.372926</td>\n",
       "      <td>4.0</td>\n",
       "      <td>NaN</td>\n",
       "      <td>Ambérieu-en-Bugey</td>\n",
       "      <td>Ambérieu-en-Bugey</td>\n",
       "      <td>1</td>\n",
       "      <td>Ain</td>\n",
       "      <td>84.0</td>\n",
       "      <td>Auvergne-Rhône-Alpes</td>\n",
       "    </tr>\n",
       "    <tr>\n",
       "      <th>3</th>\n",
       "      <td>1005</td>\n",
       "      <td>AMBERIEUX EN DOMBES</td>\n",
       "      <td>1330</td>\n",
       "      <td>AMBERIEUX EN DOMBES</td>\n",
       "      <td>NaN</td>\n",
       "      <td>45.996180</td>\n",
       "      <td>4.912273</td>\n",
       "      <td>5.0</td>\n",
       "      <td>NaN</td>\n",
       "      <td>Ambérieux-en-Dombes</td>\n",
       "      <td>Ambérieux-en-Dombes</td>\n",
       "      <td>1</td>\n",
       "      <td>Ain</td>\n",
       "      <td>84.0</td>\n",
       "      <td>Auvergne-Rhône-Alpes</td>\n",
       "    </tr>\n",
       "    <tr>\n",
       "      <th>4</th>\n",
       "      <td>1006</td>\n",
       "      <td>AMBLEON</td>\n",
       "      <td>1300</td>\n",
       "      <td>AMBLEON</td>\n",
       "      <td>NaN</td>\n",
       "      <td>45.749499</td>\n",
       "      <td>5.594320</td>\n",
       "      <td>6.0</td>\n",
       "      <td>NaN</td>\n",
       "      <td>Ambléon</td>\n",
       "      <td>Ambléon</td>\n",
       "      <td>1</td>\n",
       "      <td>Ain</td>\n",
       "      <td>84.0</td>\n",
       "      <td>Auvergne-Rhône-Alpes</td>\n",
       "    </tr>\n",
       "  </tbody>\n",
       "</table>\n",
       "</div>"
      ],
      "text/plain": [
       "  code_commune_INSEE       nom_commune_postal  code_postal  \\\n",
       "0               1001  L ABERGEMENT CLEMENCIAT         1400   \n",
       "1               1002    L ABERGEMENT DE VAREY         1640   \n",
       "2               1004        AMBERIEU EN BUGEY         1500   \n",
       "3               1005      AMBERIEUX EN DOMBES         1330   \n",
       "4               1006                  AMBLEON         1300   \n",
       "\n",
       "      libelle_acheminement ligne_5   latitude  longitude  code_commune  \\\n",
       "0  L ABERGEMENT CLEMENCIAT     NaN  46.153426   4.926114           1.0   \n",
       "1    L ABERGEMENT DE VAREY     NaN  46.009188   5.428017           2.0   \n",
       "2        AMBERIEU EN BUGEY     NaN  45.960848   5.372926           4.0   \n",
       "3      AMBERIEUX EN DOMBES     NaN  45.996180   4.912273           5.0   \n",
       "4                  AMBLEON     NaN  45.749499   5.594320           6.0   \n",
       "\n",
       "  article            nom_commune      nom_commune_complet code_departement  \\\n",
       "0      L'  Abergement-Clémenciat  L'Abergement-Clémenciat                1   \n",
       "1      L'    Abergement-de-Varey    L'Abergement-de-Varey                1   \n",
       "2     NaN      Ambérieu-en-Bugey        Ambérieu-en-Bugey                1   \n",
       "3     NaN    Ambérieux-en-Dombes      Ambérieux-en-Dombes                1   \n",
       "4     NaN                Ambléon                  Ambléon                1   \n",
       "\n",
       "  nom_departement  code_region            nom_region  \n",
       "0             Ain         84.0  Auvergne-Rhône-Alpes  \n",
       "1             Ain         84.0  Auvergne-Rhône-Alpes  \n",
       "2             Ain         84.0  Auvergne-Rhône-Alpes  \n",
       "3             Ain         84.0  Auvergne-Rhône-Alpes  \n",
       "4             Ain         84.0  Auvergne-Rhône-Alpes  "
      ]
     },
     "execution_count": 28,
     "metadata": {},
     "output_type": "execute_result"
    }
   ],
   "source": [
    "df_commune.head()"
   ]
  },
  {
   "cell_type": "code",
   "execution_count": 29,
   "metadata": {},
   "outputs": [],
   "source": [
    "df_pop = pd.read_excel('./data/POPULATION_MUNICIPALE_COMMUNES_FRANCE.xlsx')"
   ]
  },
  {
   "cell_type": "code",
   "execution_count": 30,
   "metadata": {},
   "outputs": [
    {
     "data": {
      "text/plain": [
       "(34995, 15)"
      ]
     },
     "execution_count": 30,
     "metadata": {},
     "output_type": "execute_result"
    }
   ],
   "source": [
    "df_pop.shape"
   ]
  },
  {
   "cell_type": "code",
   "execution_count": 31,
   "metadata": {},
   "outputs": [
    {
     "data": {
      "text/html": [
       "<div>\n",
       "<style scoped>\n",
       "    .dataframe tbody tr th:only-of-type {\n",
       "        vertical-align: middle;\n",
       "    }\n",
       "\n",
       "    .dataframe tbody tr th {\n",
       "        vertical-align: top;\n",
       "    }\n",
       "\n",
       "    .dataframe thead th {\n",
       "        text-align: right;\n",
       "    }\n",
       "</style>\n",
       "<table border=\"1\" class=\"dataframe\">\n",
       "  <thead>\n",
       "    <tr style=\"text-align: right;\">\n",
       "      <th></th>\n",
       "      <th>objectid</th>\n",
       "      <th>reg</th>\n",
       "      <th>dep</th>\n",
       "      <th>cv</th>\n",
       "      <th>codgeo</th>\n",
       "      <th>libgeo</th>\n",
       "      <th>p13_pop</th>\n",
       "      <th>p14_pop</th>\n",
       "      <th>p15_pop</th>\n",
       "      <th>p16_pop</th>\n",
       "      <th>p17_pop</th>\n",
       "      <th>p18_pop</th>\n",
       "      <th>p19_pop</th>\n",
       "      <th>p20_pop</th>\n",
       "      <th>p21_pop</th>\n",
       "    </tr>\n",
       "  </thead>\n",
       "  <tbody>\n",
       "    <tr>\n",
       "      <th>0</th>\n",
       "      <td>115658</td>\n",
       "      <td>52</td>\n",
       "      <td>85</td>\n",
       "      <td>8502</td>\n",
       "      <td>85062</td>\n",
       "      <td>Châteauneuf</td>\n",
       "      <td>968.0</td>\n",
       "      <td>993.0</td>\n",
       "      <td>1013.0</td>\n",
       "      <td>1027.0</td>\n",
       "      <td>1056</td>\n",
       "      <td>1085.0</td>\n",
       "      <td>1114.0</td>\n",
       "      <td>1118.0</td>\n",
       "      <td>1134.0</td>\n",
       "    </tr>\n",
       "    <tr>\n",
       "      <th>1</th>\n",
       "      <td>115659</td>\n",
       "      <td>26</td>\n",
       "      <td>58</td>\n",
       "      <td>5808</td>\n",
       "      <td>58300</td>\n",
       "      <td>Urzy</td>\n",
       "      <td>1839.0</td>\n",
       "      <td>1835.0</td>\n",
       "      <td>1828.0</td>\n",
       "      <td>1802.0</td>\n",
       "      <td>1775</td>\n",
       "      <td>1749.0</td>\n",
       "      <td>1746.0</td>\n",
       "      <td>1747.0</td>\n",
       "      <td>1742.0</td>\n",
       "    </tr>\n",
       "    <tr>\n",
       "      <th>2</th>\n",
       "      <td>115660</td>\n",
       "      <td>43</td>\n",
       "      <td>70</td>\n",
       "      <td>7012</td>\n",
       "      <td>70137</td>\n",
       "      <td>Chassey-lès-Montbozon</td>\n",
       "      <td>218.0</td>\n",
       "      <td>217.0</td>\n",
       "      <td>216.0</td>\n",
       "      <td>215.0</td>\n",
       "      <td>217</td>\n",
       "      <td>215.0</td>\n",
       "      <td>215.0</td>\n",
       "      <td>220.0</td>\n",
       "      <td>225.0</td>\n",
       "    </tr>\n",
       "    <tr>\n",
       "      <th>3</th>\n",
       "      <td>115661</td>\n",
       "      <td>21</td>\n",
       "      <td>51</td>\n",
       "      <td>5123</td>\n",
       "      <td>51649</td>\n",
       "      <td>Vitry-le-François</td>\n",
       "      <td>13174.0</td>\n",
       "      <td>13144.0</td>\n",
       "      <td>12805.0</td>\n",
       "      <td>12552.0</td>\n",
       "      <td>12133</td>\n",
       "      <td>11743.0</td>\n",
       "      <td>11376.0</td>\n",
       "      <td>11458.0</td>\n",
       "      <td>11454.0</td>\n",
       "    </tr>\n",
       "    <tr>\n",
       "      <th>4</th>\n",
       "      <td>115662</td>\n",
       "      <td>11</td>\n",
       "      <td>78</td>\n",
       "      <td>7811</td>\n",
       "      <td>78638</td>\n",
       "      <td>Vaux-sur-Seine</td>\n",
       "      <td>4749.0</td>\n",
       "      <td>4715.0</td>\n",
       "      <td>4788.0</td>\n",
       "      <td>4857.0</td>\n",
       "      <td>4927</td>\n",
       "      <td>4929.0</td>\n",
       "      <td>5010.0</td>\n",
       "      <td>5020.0</td>\n",
       "      <td>5083.0</td>\n",
       "    </tr>\n",
       "  </tbody>\n",
       "</table>\n",
       "</div>"
      ],
      "text/plain": [
       "   objectid  reg dep    cv codgeo                 libgeo  p13_pop  p14_pop  \\\n",
       "0    115658   52  85  8502  85062            Châteauneuf    968.0    993.0   \n",
       "1    115659   26  58  5808  58300                   Urzy   1839.0   1835.0   \n",
       "2    115660   43  70  7012  70137  Chassey-lès-Montbozon    218.0    217.0   \n",
       "3    115661   21  51  5123  51649      Vitry-le-François  13174.0  13144.0   \n",
       "4    115662   11  78  7811  78638         Vaux-sur-Seine   4749.0   4715.0   \n",
       "\n",
       "   p15_pop  p16_pop  p17_pop  p18_pop  p19_pop  p20_pop  p21_pop  \n",
       "0   1013.0   1027.0     1056   1085.0   1114.0   1118.0   1134.0  \n",
       "1   1828.0   1802.0     1775   1749.0   1746.0   1747.0   1742.0  \n",
       "2    216.0    215.0      217    215.0    215.0    220.0    225.0  \n",
       "3  12805.0  12552.0    12133  11743.0  11376.0  11458.0  11454.0  \n",
       "4   4788.0   4857.0     4927   4929.0   5010.0   5020.0   5083.0  "
      ]
     },
     "execution_count": 31,
     "metadata": {},
     "output_type": "execute_result"
    }
   ],
   "source": [
    "df_pop.head()"
   ]
  },
  {
   "cell_type": "code",
   "execution_count": 32,
   "metadata": {},
   "outputs": [
    {
     "data": {
      "text/plain": [
       "(34374, 30)"
      ]
     },
     "execution_count": 32,
     "metadata": {},
     "output_type": "execute_result"
    }
   ],
   "source": [
    "pd.merge(df_commune, df_pop, left_on='code_commune_INSEE', right_on='codgeo', how='inner').shape"
   ]
  },
  {
   "cell_type": "code",
   "execution_count": 33,
   "metadata": {},
   "outputs": [],
   "source": [
    "df_communes_full = pd.merge(df_commune, df_pop, left_on='code_commune_INSEE', right_on='codgeo', how='inner')"
   ]
  },
  {
   "cell_type": "markdown",
   "metadata": {},
   "source": [
    "### FACT_REPONSE"
   ]
  },
  {
   "cell_type": "code",
   "execution_count": 34,
   "metadata": {},
   "outputs": [],
   "source": [
    "df_fact_reponse = pd.DataFrame()"
   ]
  },
  {
   "cell_type": "code",
   "execution_count": 35,
   "metadata": {},
   "outputs": [],
   "source": [
    "df_fact_reponse['ID_LOG'] = np.arange(1, 100001)"
   ]
  },
  {
   "cell_type": "code",
   "execution_count": 36,
   "metadata": {},
   "outputs": [],
   "source": [
    "dim_reponse = pd.read_csv('./data/DIM_REPONSE.csv')"
   ]
  },
  {
   "cell_type": "code",
   "execution_count": 37,
   "metadata": {},
   "outputs": [],
   "source": [
    "df_fact_reponse['KEY_REPONSE'] = np.random.choice(dim_reponse['KEY_REPONSE'], size=100000)"
   ]
  },
  {
   "cell_type": "code",
   "execution_count": 38,
   "metadata": {},
   "outputs": [],
   "source": [
    "# df_eleve = pd.read_csv('./data/DIM_ELEVE.csv')"
   ]
  },
  {
   "cell_type": "code",
   "execution_count": 39,
   "metadata": {},
   "outputs": [],
   "source": [
    "df_fact_reponse['ID_REPONDANT'] = np.random.choice(df_eleve['ID_ELEVE'].head(5000), size=100000)"
   ]
  },
  {
   "cell_type": "code",
   "execution_count": 40,
   "metadata": {},
   "outputs": [],
   "source": [
    "df_fact_reponse = df_fact_reponse.sort_values(\"ID_REPONDANT\")"
   ]
  },
  {
   "cell_type": "markdown",
   "metadata": {},
   "source": [
    "# Date unique per ID_REPONDANT"
   ]
  },
  {
   "cell_type": "code",
   "execution_count": 48,
   "metadata": {},
   "outputs": [],
   "source": [
    "date_range = pd.date_range(start='01/01/2025', periods=200, freq='d')"
   ]
  },
  {
   "cell_type": "code",
   "execution_count": 49,
   "metadata": {},
   "outputs": [
    {
     "name": "stderr",
     "output_type": "stream",
     "text": [
      "/tmp/ipykernel_3948245/285953498.py:1: DeprecationWarning: DataFrameGroupBy.apply operated on the grouping columns. This behavior is deprecated, and in a future version of pandas the grouping columns will be excluded from the operation. Either pass `include_groups=False` to exclude the groupings or explicitly select the grouping columns after groupby to silence this warning.\n",
      "  df_fact_reponse['DATE_TIME'] = np.vstack(df_fact_reponse.groupby(\"ID_REPONDANT\").apply(\n"
     ]
    }
   ],
   "source": [
    "df_fact_reponse['DATE_TIME'] = np.vstack(df_fact_reponse.groupby(\"ID_REPONDANT\").apply(\n",
    "    lambda x: [np.random.choice(date_range).reshape(-1,1)]*len(x)\n",
    ")).flatten()"
   ]
  },
  {
   "cell_type": "code",
   "execution_count": 50,
   "metadata": {},
   "outputs": [
    {
     "data": {
      "text/html": [
       "<div>\n",
       "<style scoped>\n",
       "    .dataframe tbody tr th:only-of-type {\n",
       "        vertical-align: middle;\n",
       "    }\n",
       "\n",
       "    .dataframe tbody tr th {\n",
       "        vertical-align: top;\n",
       "    }\n",
       "\n",
       "    .dataframe thead th {\n",
       "        text-align: right;\n",
       "    }\n",
       "</style>\n",
       "<table border=\"1\" class=\"dataframe\">\n",
       "  <thead>\n",
       "    <tr style=\"text-align: right;\">\n",
       "      <th></th>\n",
       "      <th>ID_LOG</th>\n",
       "      <th>KEY_REPONSE</th>\n",
       "      <th>ID_REPONDANT</th>\n",
       "      <th>DATE_TIME</th>\n",
       "    </tr>\n",
       "  </thead>\n",
       "  <tbody>\n",
       "    <tr>\n",
       "      <th>78806</th>\n",
       "      <td>78807</td>\n",
       "      <td>C_3_2_b</td>\n",
       "      <td>E04357</td>\n",
       "      <td>2025-06-03</td>\n",
       "    </tr>\n",
       "    <tr>\n",
       "      <th>16167</th>\n",
       "      <td>16168</td>\n",
       "      <td>D_1_1_h</td>\n",
       "      <td>E04357</td>\n",
       "      <td>2025-07-05</td>\n",
       "    </tr>\n",
       "    <tr>\n",
       "      <th>1334</th>\n",
       "      <td>1335</td>\n",
       "      <td>A_1_2_k</td>\n",
       "      <td>E04357</td>\n",
       "      <td>2025-05-01</td>\n",
       "    </tr>\n",
       "    <tr>\n",
       "      <th>97734</th>\n",
       "      <td>97735</td>\n",
       "      <td>D_2_1_e</td>\n",
       "      <td>E04357</td>\n",
       "      <td>2025-01-16</td>\n",
       "    </tr>\n",
       "    <tr>\n",
       "      <th>73225</th>\n",
       "      <td>73226</td>\n",
       "      <td>B_2_1_f</td>\n",
       "      <td>E04357</td>\n",
       "      <td>2025-05-08</td>\n",
       "    </tr>\n",
       "    <tr>\n",
       "      <th>3324</th>\n",
       "      <td>3325</td>\n",
       "      <td>A_3_1_g</td>\n",
       "      <td>E04357</td>\n",
       "      <td>2025-04-17</td>\n",
       "    </tr>\n",
       "    <tr>\n",
       "      <th>39970</th>\n",
       "      <td>39971</td>\n",
       "      <td>D_2_1_e</td>\n",
       "      <td>E04357</td>\n",
       "      <td>2025-05-21</td>\n",
       "    </tr>\n",
       "    <tr>\n",
       "      <th>18947</th>\n",
       "      <td>18948</td>\n",
       "      <td>D_3_1_b</td>\n",
       "      <td>E04357</td>\n",
       "      <td>2025-02-20</td>\n",
       "    </tr>\n",
       "    <tr>\n",
       "      <th>10700</th>\n",
       "      <td>10701</td>\n",
       "      <td>B_3_1_d</td>\n",
       "      <td>E04357</td>\n",
       "      <td>2025-04-07</td>\n",
       "    </tr>\n",
       "    <tr>\n",
       "      <th>74670</th>\n",
       "      <td>74671</td>\n",
       "      <td>A_3_1_f</td>\n",
       "      <td>E04357</td>\n",
       "      <td>2025-04-20</td>\n",
       "    </tr>\n",
       "    <tr>\n",
       "      <th>13364</th>\n",
       "      <td>13365</td>\n",
       "      <td>D_1_1_f</td>\n",
       "      <td>E04357</td>\n",
       "      <td>2025-02-16</td>\n",
       "    </tr>\n",
       "    <tr>\n",
       "      <th>31299</th>\n",
       "      <td>31300</td>\n",
       "      <td>D_1_2_e</td>\n",
       "      <td>E04357</td>\n",
       "      <td>2025-04-24</td>\n",
       "    </tr>\n",
       "    <tr>\n",
       "      <th>35848</th>\n",
       "      <td>35849</td>\n",
       "      <td>C_3_1_a</td>\n",
       "      <td>E04357</td>\n",
       "      <td>2025-05-20</td>\n",
       "    </tr>\n",
       "    <tr>\n",
       "      <th>62159</th>\n",
       "      <td>62160</td>\n",
       "      <td>D_3_1_c</td>\n",
       "      <td>E04357</td>\n",
       "      <td>2025-03-16</td>\n",
       "    </tr>\n",
       "    <tr>\n",
       "      <th>53769</th>\n",
       "      <td>53770</td>\n",
       "      <td>C_3_2_e</td>\n",
       "      <td>E04357</td>\n",
       "      <td>2025-02-13</td>\n",
       "    </tr>\n",
       "    <tr>\n",
       "      <th>85316</th>\n",
       "      <td>85317</td>\n",
       "      <td>Pr_C_1_c</td>\n",
       "      <td>E04357</td>\n",
       "      <td>2025-01-19</td>\n",
       "    </tr>\n",
       "    <tr>\n",
       "      <th>78526</th>\n",
       "      <td>78527</td>\n",
       "      <td>A_1_1_a</td>\n",
       "      <td>E04357</td>\n",
       "      <td>2025-01-02</td>\n",
       "    </tr>\n",
       "    <tr>\n",
       "      <th>59659</th>\n",
       "      <td>59660</td>\n",
       "      <td>B_2_2_g</td>\n",
       "      <td>E04357</td>\n",
       "      <td>2025-06-02</td>\n",
       "    </tr>\n",
       "    <tr>\n",
       "      <th>73715</th>\n",
       "      <td>73716</td>\n",
       "      <td>D_3_2_d</td>\n",
       "      <td>E04357</td>\n",
       "      <td>2025-01-10</td>\n",
       "    </tr>\n",
       "    <tr>\n",
       "      <th>99231</th>\n",
       "      <td>99232</td>\n",
       "      <td>Pr_C_1_c</td>\n",
       "      <td>E04357</td>\n",
       "      <td>2025-01-10</td>\n",
       "    </tr>\n",
       "    <tr>\n",
       "      <th>49824</th>\n",
       "      <td>49825</td>\n",
       "      <td>A_1_1_h</td>\n",
       "      <td>E04357</td>\n",
       "      <td>2025-02-08</td>\n",
       "    </tr>\n",
       "    <tr>\n",
       "      <th>42067</th>\n",
       "      <td>42068</td>\n",
       "      <td>A_3_2_c</td>\n",
       "      <td>E04357</td>\n",
       "      <td>2025-05-22</td>\n",
       "    </tr>\n",
       "    <tr>\n",
       "      <th>56922</th>\n",
       "      <td>56923</td>\n",
       "      <td>Pr_C_1_a</td>\n",
       "      <td>E04357</td>\n",
       "      <td>2025-05-02</td>\n",
       "    </tr>\n",
       "    <tr>\n",
       "      <th>35316</th>\n",
       "      <td>35317</td>\n",
       "      <td>A_3_2_d</td>\n",
       "      <td>E04357</td>\n",
       "      <td>2025-05-27</td>\n",
       "    </tr>\n",
       "    <tr>\n",
       "      <th>95619</th>\n",
       "      <td>95620</td>\n",
       "      <td>D_3_2_b</td>\n",
       "      <td>E04357</td>\n",
       "      <td>2025-01-06</td>\n",
       "    </tr>\n",
       "    <tr>\n",
       "      <th>24862</th>\n",
       "      <td>24863</td>\n",
       "      <td>A_1_3_f</td>\n",
       "      <td>E04357</td>\n",
       "      <td>2025-05-26</td>\n",
       "    </tr>\n",
       "  </tbody>\n",
       "</table>\n",
       "</div>"
      ],
      "text/plain": [
       "       ID_LOG KEY_REPONSE ID_REPONDANT  DATE_TIME\n",
       "78806   78807     C_3_2_b       E04357 2025-06-03\n",
       "16167   16168     D_1_1_h       E04357 2025-07-05\n",
       "1334     1335     A_1_2_k       E04357 2025-05-01\n",
       "97734   97735     D_2_1_e       E04357 2025-01-16\n",
       "73225   73226     B_2_1_f       E04357 2025-05-08\n",
       "3324     3325     A_3_1_g       E04357 2025-04-17\n",
       "39970   39971     D_2_1_e       E04357 2025-05-21\n",
       "18947   18948     D_3_1_b       E04357 2025-02-20\n",
       "10700   10701     B_3_1_d       E04357 2025-04-07\n",
       "74670   74671     A_3_1_f       E04357 2025-04-20\n",
       "13364   13365     D_1_1_f       E04357 2025-02-16\n",
       "31299   31300     D_1_2_e       E04357 2025-04-24\n",
       "35848   35849     C_3_1_a       E04357 2025-05-20\n",
       "62159   62160     D_3_1_c       E04357 2025-03-16\n",
       "53769   53770     C_3_2_e       E04357 2025-02-13\n",
       "85316   85317    Pr_C_1_c       E04357 2025-01-19\n",
       "78526   78527     A_1_1_a       E04357 2025-01-02\n",
       "59659   59660     B_2_2_g       E04357 2025-06-02\n",
       "73715   73716     D_3_2_d       E04357 2025-01-10\n",
       "99231   99232    Pr_C_1_c       E04357 2025-01-10\n",
       "49824   49825     A_1_1_h       E04357 2025-02-08\n",
       "42067   42068     A_3_2_c       E04357 2025-05-22\n",
       "56922   56923    Pr_C_1_a       E04357 2025-05-02\n",
       "35316   35317     A_3_2_d       E04357 2025-05-27\n",
       "95619   95620     D_3_2_b       E04357 2025-01-06\n",
       "24862   24863     A_1_3_f       E04357 2025-05-26"
      ]
     },
     "execution_count": 50,
     "metadata": {},
     "output_type": "execute_result"
    }
   ],
   "source": [
    "df_fact_reponse.query(\"ID_REPONDANT.eq('E04357')\")"
   ]
  },
  {
   "cell_type": "code",
   "execution_count": 51,
   "metadata": {},
   "outputs": [],
   "source": [
    "df_fact_reponse = df_fact_reponse.sample(frac=1)"
   ]
  },
  {
   "cell_type": "markdown",
   "metadata": {},
   "source": [
    "### EXPORT"
   ]
  },
  {
   "cell_type": "code",
   "execution_count": 52,
   "metadata": {},
   "outputs": [],
   "source": [
    "df_eleve.to_csv('./data/DIM_ELEVE.csv', index=False)\n",
    "# df_classe.to_csv('./data/DIM_CLASSE.csv', index=False)\n",
    "df_enseignant.to_csv('./data/DIM_ENSEIGNANT.csv', index=False)\n",
    "df_etablissement.to_csv('./data/DIM_ETABLISSEMENT.csv', index=False)\n",
    "df_communes_full.to_csv('./data/DIM_COMMUNE.csv', index=False)\n",
    "df_fact_reponse.to_csv('./data/FACT_REPONSE.csv', index=False)"
   ]
  }
 ],
 "metadata": {
  "kernelspec": {
   "display_name": "Python 3 (ipykernel)",
   "language": "python",
   "name": "python3"
  },
  "language_info": {
   "codemirror_mode": {
    "name": "ipython",
    "version": 3
   },
   "file_extension": ".py",
   "mimetype": "text/x-python",
   "name": "python",
   "nbconvert_exporter": "python",
   "pygments_lexer": "ipython3",
   "version": "3.12.4"
  }
 },
 "nbformat": 4,
 "nbformat_minor": 4
}
