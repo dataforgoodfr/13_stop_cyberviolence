{
 "cells": [
  {
   "cell_type": "markdown",
   "metadata": {},
   "source": [
    "# Imports"
   ]
  },
  {
   "cell_type": "code",
   "execution_count": 1,
   "metadata": {},
   "outputs": [],
   "source": [
    "import pandas as pd\n",
    "import numpy as np\n",
    "import datetime as dt\n",
    "import sys"
   ]
  },
  {
   "cell_type": "code",
   "execution_count": 2,
   "metadata": {},
   "outputs": [],
   "source": [
    "sys.path.append('.')"
   ]
  },
  {
   "cell_type": "code",
   "execution_count": 3,
   "metadata": {},
   "outputs": [],
   "source": [
    "import tools as dfg_tools"
   ]
  },
  {
   "cell_type": "code",
   "execution_count": 4,
   "metadata": {},
   "outputs": [],
   "source": [
    "from importlib import reload\n",
    "dfg_tools = reload(dfg_tools)"
   ]
  },
  {
   "cell_type": "markdown",
   "metadata": {},
   "source": [
    "# Load data"
   ]
  },
  {
   "cell_type": "code",
   "execution_count": 5,
   "metadata": {},
   "outputs": [],
   "source": [
    "eleves = pd.read_csv('../data/DIM_ELEVE.csv', parse_dates=['DATE_NAISSANCE'])"
   ]
  },
  {
   "cell_type": "code",
   "execution_count": 6,
   "metadata": {},
   "outputs": [
    {
     "name": "stdout",
     "output_type": "stream",
     "text": [
      "Index(['ID_ELEVE', 'GENRE', 'DATE_NAISSANCE'], dtype='object')\n",
      "(10000, 3)\n",
      "['m' 'f']\n"
     ]
    }
   ],
   "source": [
    "print(eleves.columns)\n",
    "print(eleves.shape)\n",
    "print(eleves.GENRE.unique())"
   ]
  },
  {
   "cell_type": "code",
   "execution_count": 7,
   "metadata": {},
   "outputs": [],
   "source": [
    "reponses = pd.read_csv('../data/FACT_REPONSE.csv', parse_dates=['DATE_TIME'])"
   ]
  },
  {
   "cell_type": "code",
   "execution_count": 8,
   "metadata": {},
   "outputs": [
    {
     "name": "stdout",
     "output_type": "stream",
     "text": [
      "Index(['ID_LOG', 'KEY_REPONSE', 'ID_REPONDANT', 'DATE_TIME'], dtype='object')\n",
      "(100000, 4)\n"
     ]
    }
   ],
   "source": [
    "print(reponses.columns)\n",
    "print(reponses.shape)"
   ]
  },
  {
   "cell_type": "markdown",
   "metadata": {},
   "source": [
    "# Data preparation"
   ]
  },
  {
   "cell_type": "code",
   "execution_count": 9,
   "metadata": {},
   "outputs": [],
   "source": [
    "merged = reponses.merge(\n",
    "    eleves, left_on = \"ID_REPONDANT\", right_on = \"ID_ELEVE\"\n",
    "    )"
   ]
  },
  {
   "cell_type": "code",
   "execution_count": 10,
   "metadata": {},
   "outputs": [],
   "source": [
    "merged['age_group'] = dfg_tools.discretize_age(merged)"
   ]
  },
  {
   "cell_type": "markdown",
   "metadata": {},
   "source": [
    "# Comparative data analysis"
   ]
  },
  {
   "cell_type": "markdown",
   "metadata": {},
   "source": [
    "## Cyberhate exposure - `M1_2` *vs.* `B_2_1_d`"
   ]
  },
  {
   "cell_type": "code",
   "execution_count": 11,
   "metadata": {},
   "outputs": [],
   "source": [
    "response = 'B_2_1_d'"
   ]
  },
  {
   "cell_type": "markdown",
   "metadata": {},
   "source": [
    "### Marginal exposure (Percentage of respondents)"
   ]
  },
  {
   "cell_type": "code",
   "execution_count": 12,
   "metadata": {},
   "outputs": [],
   "source": [
    "n_repondant = merged.ID_REPONDANT.unique().shape[0]"
   ]
  },
  {
   "cell_type": "code",
   "execution_count": 13,
   "metadata": {},
   "outputs": [
    {
     "data": {
      "text/plain": [
       "0.1286"
      ]
     },
     "execution_count": 13,
     "metadata": {},
     "output_type": "execute_result"
    }
   ],
   "source": [
    "tot_pct = reponses.KEY_REPONSE.value_counts()['B_2_1_d'] / n_repondant\n",
    "tot_pct"
   ]
  },
  {
   "cell_type": "markdown",
   "metadata": {},
   "source": [
    "### Stratified analysis"
   ]
  },
  {
   "cell_type": "markdown",
   "metadata": {},
   "source": [
    "#### By gender"
   ]
  },
  {
   "cell_type": "code",
   "execution_count": 28,
   "metadata": {},
   "outputs": [
    {
     "data": {
      "text/html": [
       "<div>\n",
       "<style scoped>\n",
       "    .dataframe tbody tr th:only-of-type {\n",
       "        vertical-align: middle;\n",
       "    }\n",
       "\n",
       "    .dataframe tbody tr th {\n",
       "        vertical-align: top;\n",
       "    }\n",
       "\n",
       "    .dataframe thead th {\n",
       "        text-align: right;\n",
       "    }\n",
       "</style>\n",
       "<table border=\"1\" class=\"dataframe\">\n",
       "  <thead>\n",
       "    <tr style=\"text-align: right;\">\n",
       "      <th></th>\n",
       "      <th>phat</th>\n",
       "      <th>std</th>\n",
       "      <th>LL</th>\n",
       "      <th>UL</th>\n",
       "    </tr>\n",
       "    <tr>\n",
       "      <th>GENRE</th>\n",
       "      <th></th>\n",
       "      <th></th>\n",
       "      <th></th>\n",
       "      <th></th>\n",
       "    </tr>\n",
       "  </thead>\n",
       "  <tbody>\n",
       "    <tr>\n",
       "      <th>f</th>\n",
       "      <td>22.981117</td>\n",
       "      <td>0.843280</td>\n",
       "      <td>21.328288</td>\n",
       "      <td>24.633945</td>\n",
       "    </tr>\n",
       "    <tr>\n",
       "      <th>m</th>\n",
       "      <td>23.178017</td>\n",
       "      <td>0.842088</td>\n",
       "      <td>21.527524</td>\n",
       "      <td>24.828509</td>\n",
       "    </tr>\n",
       "  </tbody>\n",
       "</table>\n",
       "</div>"
      ],
      "text/plain": [
       "            phat       std         LL         UL\n",
       "GENRE                                           \n",
       "f      22.981117  0.843280  21.328288  24.633945\n",
       "m      23.178017  0.842088  21.527524  24.828509"
      ]
     },
     "execution_count": 28,
     "metadata": {},
     "output_type": "execute_result"
    }
   ],
   "source": [
    "dfg_tools.estimate_proportion(\n",
    "    merged,\n",
    "    [response, 'B_2_1_c'],\n",
    "    ['GENRE']\n",
    ")"
   ]
  },
  {
   "cell_type": "markdown",
   "metadata": {},
   "source": [
    "#### By age"
   ]
  },
  {
   "cell_type": "code",
   "execution_count": 17,
   "metadata": {},
   "outputs": [
    {
     "name": "stderr",
     "output_type": "stream",
     "text": [
      "/home/kantundpeterpan/projects/dataforgood/13_stopcyberviolence/repo/data_analyse/comparables/tools.py:74: FutureWarning: The default of observed=False is deprecated and will be changed to True in a future version of pandas. Pass observed=False to retain current behavior or observed=True to adopt the future default and silence this warning.\n",
      "  return data \\\n",
      "/home/kantundpeterpan/projects/dataforgood/13_stopcyberviolence/repo/data_analyse/comparables/tools.py:39: FutureWarning: The default of observed=False is deprecated and will be changed to True in a future version of pandas. Pass observed=False to retain current behavior or observed=True to adopt the future default and silence this warning.\n",
      "  return data \\\n"
     ]
    },
    {
     "data": {
      "text/html": [
       "<div>\n",
       "<style scoped>\n",
       "    .dataframe tbody tr th:only-of-type {\n",
       "        vertical-align: middle;\n",
       "    }\n",
       "\n",
       "    .dataframe tbody tr th {\n",
       "        vertical-align: top;\n",
       "    }\n",
       "\n",
       "    .dataframe thead th {\n",
       "        text-align: right;\n",
       "    }\n",
       "</style>\n",
       "<table border=\"1\" class=\"dataframe\">\n",
       "  <thead>\n",
       "    <tr style=\"text-align: right;\">\n",
       "      <th></th>\n",
       "      <th>phat</th>\n",
       "      <th>std</th>\n",
       "      <th>LL</th>\n",
       "      <th>UL</th>\n",
       "    </tr>\n",
       "    <tr>\n",
       "      <th>age_group</th>\n",
       "      <th></th>\n",
       "      <th></th>\n",
       "      <th></th>\n",
       "      <th></th>\n",
       "    </tr>\n",
       "  </thead>\n",
       "  <tbody>\n",
       "    <tr>\n",
       "      <th>11-12</th>\n",
       "      <td>12.301957</td>\n",
       "      <td>1.002726</td>\n",
       "      <td>10.336615</td>\n",
       "      <td>14.267300</td>\n",
       "    </tr>\n",
       "    <tr>\n",
       "      <th>13-14</th>\n",
       "      <td>12.642669</td>\n",
       "      <td>0.984707</td>\n",
       "      <td>10.712643</td>\n",
       "      <td>14.572696</td>\n",
       "    </tr>\n",
       "    <tr>\n",
       "      <th>15-17</th>\n",
       "      <td>12.197309</td>\n",
       "      <td>0.980051</td>\n",
       "      <td>10.276410</td>\n",
       "      <td>14.118209</td>\n",
       "    </tr>\n",
       "  </tbody>\n",
       "</table>\n",
       "</div>"
      ],
      "text/plain": [
       "                phat       std         LL         UL\n",
       "age_group                                           \n",
       "11-12      12.301957  1.002726  10.336615  14.267300\n",
       "13-14      12.642669  0.984707  10.712643  14.572696\n",
       "15-17      12.197309  0.980051  10.276410  14.118209"
      ]
     },
     "execution_count": 17,
     "metadata": {},
     "output_type": "execute_result"
    }
   ],
   "source": [
    "dfg_tools.estimate_proportion(\n",
    "    merged,\n",
    "    response,\n",
    "    ['age_group']\n",
    ").loc[['11-12', '13-14', '15-17']]"
   ]
  },
  {
   "cell_type": "markdown",
   "metadata": {},
   "source": [
    "#### By gender and age"
   ]
  },
  {
   "cell_type": "code",
   "execution_count": 18,
   "metadata": {},
   "outputs": [],
   "source": [
    "tmp = merged.copy()\n",
    "\n",
    "# discretize age with different bins\n",
    "bins =  [0, 11, 15, 17, 99]\n",
    "labels = ['0-11', '11-14', '15-17', '>17']\n",
    "\n",
    "tmp['age_group'] = dfg_tools.discretize_age(\n",
    "    tmp, bins = bins, labels = labels\n",
    ")"
   ]
  },
  {
   "cell_type": "code",
   "execution_count": 19,
   "metadata": {},
   "outputs": [
    {
     "name": "stderr",
     "output_type": "stream",
     "text": [
      "/home/kantundpeterpan/projects/dataforgood/13_stopcyberviolence/repo/data_analyse/comparables/tools.py:74: FutureWarning: The default of observed=False is deprecated and will be changed to True in a future version of pandas. Pass observed=False to retain current behavior or observed=True to adopt the future default and silence this warning.\n",
      "  return data \\\n",
      "/home/kantundpeterpan/projects/dataforgood/13_stopcyberviolence/repo/data_analyse/comparables/tools.py:39: FutureWarning: The default of observed=False is deprecated and will be changed to True in a future version of pandas. Pass observed=False to retain current behavior or observed=True to adopt the future default and silence this warning.\n",
      "  return data \\\n"
     ]
    },
    {
     "data": {
      "text/html": [
       "<div>\n",
       "<style scoped>\n",
       "    .dataframe tbody tr th:only-of-type {\n",
       "        vertical-align: middle;\n",
       "    }\n",
       "\n",
       "    .dataframe tbody tr th {\n",
       "        vertical-align: top;\n",
       "    }\n",
       "\n",
       "    .dataframe thead th {\n",
       "        text-align: right;\n",
       "    }\n",
       "</style>\n",
       "<table border=\"1\" class=\"dataframe\">\n",
       "  <thead>\n",
       "    <tr style=\"text-align: right;\">\n",
       "      <th></th>\n",
       "      <th></th>\n",
       "      <th>phat</th>\n",
       "      <th>std</th>\n",
       "      <th>LL</th>\n",
       "      <th>UL</th>\n",
       "    </tr>\n",
       "    <tr>\n",
       "      <th>age_group</th>\n",
       "      <th>GENRE</th>\n",
       "      <th></th>\n",
       "      <th></th>\n",
       "      <th></th>\n",
       "      <th></th>\n",
       "    </tr>\n",
       "  </thead>\n",
       "  <tbody>\n",
       "    <tr>\n",
       "      <th rowspan=\"2\" valign=\"top\">11-14</th>\n",
       "      <th>f</th>\n",
       "      <td>13.416816</td>\n",
       "      <td>1.019344</td>\n",
       "      <td>11.418902</td>\n",
       "      <td>15.414729</td>\n",
       "    </tr>\n",
       "    <tr>\n",
       "      <th>m</th>\n",
       "      <td>11.517367</td>\n",
       "      <td>0.965155</td>\n",
       "      <td>9.625664</td>\n",
       "      <td>13.409071</td>\n",
       "    </tr>\n",
       "    <tr>\n",
       "      <th rowspan=\"2\" valign=\"top\">15-17</th>\n",
       "      <th>f</th>\n",
       "      <td>13.120567</td>\n",
       "      <td>1.421658</td>\n",
       "      <td>10.334117</td>\n",
       "      <td>15.907018</td>\n",
       "    </tr>\n",
       "    <tr>\n",
       "      <th>m</th>\n",
       "      <td>11.252269</td>\n",
       "      <td>1.346241</td>\n",
       "      <td>8.613636</td>\n",
       "      <td>13.890901</td>\n",
       "    </tr>\n",
       "  </tbody>\n",
       "</table>\n",
       "</div>"
      ],
      "text/plain": [
       "                      phat       std         LL         UL\n",
       "age_group GENRE                                           \n",
       "11-14     f      13.416816  1.019344  11.418902  15.414729\n",
       "          m      11.517367  0.965155   9.625664  13.409071\n",
       "15-17     f      13.120567  1.421658  10.334117  15.907018\n",
       "          m      11.252269  1.346241   8.613636  13.890901"
      ]
     },
     "execution_count": 19,
     "metadata": {},
     "output_type": "execute_result"
    }
   ],
   "source": [
    "dfg_tools.estimate_proportion(\n",
    "    tmp,\n",
    "    response,\n",
    "    ['age_group', 'GENRE']\n",
    ").loc[['11-14', '15-17']]"
   ]
  },
  {
   "cell_type": "markdown",
   "metadata": {},
   "source": [
    "## Cyberhate victimization"
   ]
  },
  {
   "cell_type": "markdown",
   "metadata": {},
   "source": [
    "Definition cyberhate victimization: Avoir repondu au moins un des items suivants:\n",
    "\n",
    "- `C_2_1_a`\n",
    "- `C_2_1_b`\n",
    "- `C_2_1_d`\n",
    "- `C_2_1_e`"
   ]
  },
  {
   "cell_type": "code",
   "execution_count": 20,
   "metadata": {},
   "outputs": [],
   "source": [
    "responses = [\n",
    "    'C_2_1_a',\n",
    "    'C_2_1_b',\n",
    "    'C_2_1_d',\n",
    "    'C_2_1_e' \n",
    "]"
   ]
  },
  {
   "cell_type": "markdown",
   "metadata": {},
   "source": [
    "### Marginal proportion"
   ]
  },
  {
   "cell_type": "code",
   "execution_count": 21,
   "metadata": {},
   "outputs": [
    {
     "data": {
      "text/plain": [
       "1932"
      ]
     },
     "execution_count": 21,
     "metadata": {},
     "output_type": "execute_result"
    }
   ],
   "source": [
    "merged.query(\"KEY_REPONSE in @responses\").ID_REPONDANT.unique().shape[0]"
   ]
  },
  {
   "cell_type": "code",
   "execution_count": 22,
   "metadata": {},
   "outputs": [
    {
     "data": {
      "text/plain": [
       "0.3864"
      ]
     },
     "execution_count": 22,
     "metadata": {},
     "output_type": "execute_result"
    }
   ],
   "source": [
    "merged.query(\"KEY_REPONSE in @responses\").ID_REPONDANT.unique().shape[0] / n_repondant"
   ]
  },
  {
   "cell_type": "markdown",
   "metadata": {},
   "source": [
    "### Stratified analysis"
   ]
  },
  {
   "cell_type": "code",
   "execution_count": 23,
   "metadata": {},
   "outputs": [],
   "source": [
    "tmp = merged.copy()\n",
    "\n",
    "# discretize age with different bins\n",
    "bins =  [0, 11, 15, 17, 99]\n",
    "labels = ['0-11', '11-14', '15-17', '>17']\n",
    "\n",
    "tmp['age_group'] = dfg_tools.discretize_age(\n",
    "    tmp, bins = bins, labels = labels\n",
    ")"
   ]
  },
  {
   "cell_type": "markdown",
   "metadata": {},
   "source": [
    "#### By gender"
   ]
  },
  {
   "cell_type": "code",
   "execution_count": 24,
   "metadata": {},
   "outputs": [
    {
     "data": {
      "text/html": [
       "<div>\n",
       "<style scoped>\n",
       "    .dataframe tbody tr th:only-of-type {\n",
       "        vertical-align: middle;\n",
       "    }\n",
       "\n",
       "    .dataframe tbody tr th {\n",
       "        vertical-align: top;\n",
       "    }\n",
       "\n",
       "    .dataframe thead th {\n",
       "        text-align: right;\n",
       "    }\n",
       "</style>\n",
       "<table border=\"1\" class=\"dataframe\">\n",
       "  <thead>\n",
       "    <tr style=\"text-align: right;\">\n",
       "      <th></th>\n",
       "      <th>phat</th>\n",
       "      <th>std</th>\n",
       "      <th>LL</th>\n",
       "      <th>UL</th>\n",
       "    </tr>\n",
       "    <tr>\n",
       "      <th>GENRE</th>\n",
       "      <th></th>\n",
       "      <th></th>\n",
       "      <th></th>\n",
       "      <th></th>\n",
       "    </tr>\n",
       "  </thead>\n",
       "  <tbody>\n",
       "    <tr>\n",
       "      <th>f</th>\n",
       "      <td>38.047409</td>\n",
       "      <td>0.973150</td>\n",
       "      <td>36.140034</td>\n",
       "      <td>39.954783</td>\n",
       "    </tr>\n",
       "    <tr>\n",
       "      <th>m</th>\n",
       "      <td>39.227399</td>\n",
       "      <td>0.974373</td>\n",
       "      <td>37.317628</td>\n",
       "      <td>41.137171</td>\n",
       "    </tr>\n",
       "  </tbody>\n",
       "</table>\n",
       "</div>"
      ],
      "text/plain": [
       "            phat       std         LL         UL\n",
       "GENRE                                           \n",
       "f      38.047409  0.973150  36.140034  39.954783\n",
       "m      39.227399  0.974373  37.317628  41.137171"
      ]
     },
     "execution_count": 24,
     "metadata": {},
     "output_type": "execute_result"
    }
   ],
   "source": [
    "dfg_tools.estimate_proportion(\n",
    "    tmp,\n",
    "    responses,\n",
    "    [\"GENRE\"]\n",
    ")"
   ]
  },
  {
   "cell_type": "markdown",
   "metadata": {},
   "source": [
    "### By age"
   ]
  },
  {
   "cell_type": "code",
   "execution_count": 27,
   "metadata": {},
   "outputs": [
    {
     "name": "stderr",
     "output_type": "stream",
     "text": [
      "/home/kantundpeterpan/projects/dataforgood/13_stopcyberviolence/repo/data_analyse/comparables/tools.py:74: FutureWarning: The default of observed=False is deprecated and will be changed to True in a future version of pandas. Pass observed=False to retain current behavior or observed=True to adopt the future default and silence this warning.\n",
      "  return data \\\n",
      "/home/kantundpeterpan/projects/dataforgood/13_stopcyberviolence/repo/data_analyse/comparables/tools.py:39: FutureWarning: The default of observed=False is deprecated and will be changed to True in a future version of pandas. Pass observed=False to retain current behavior or observed=True to adopt the future default and silence this warning.\n",
      "  return data \\\n"
     ]
    },
    {
     "data": {
      "text/html": [
       "<div>\n",
       "<style scoped>\n",
       "    .dataframe tbody tr th:only-of-type {\n",
       "        vertical-align: middle;\n",
       "    }\n",
       "\n",
       "    .dataframe tbody tr th {\n",
       "        vertical-align: top;\n",
       "    }\n",
       "\n",
       "    .dataframe thead th {\n",
       "        text-align: right;\n",
       "    }\n",
       "</style>\n",
       "<table border=\"1\" class=\"dataframe\">\n",
       "  <thead>\n",
       "    <tr style=\"text-align: right;\">\n",
       "      <th></th>\n",
       "      <th>phat</th>\n",
       "      <th>std</th>\n",
       "      <th>LL</th>\n",
       "      <th>UL</th>\n",
       "    </tr>\n",
       "    <tr>\n",
       "      <th>age_group</th>\n",
       "      <th></th>\n",
       "      <th></th>\n",
       "      <th></th>\n",
       "      <th></th>\n",
       "    </tr>\n",
       "  </thead>\n",
       "  <tbody>\n",
       "    <tr>\n",
       "      <th>11-14</th>\n",
       "      <td>38.426763</td>\n",
       "      <td>1.034238</td>\n",
       "      <td>36.399657</td>\n",
       "      <td>40.453869</td>\n",
       "    </tr>\n",
       "    <tr>\n",
       "      <th>15-17</th>\n",
       "      <td>39.192825</td>\n",
       "      <td>1.461986</td>\n",
       "      <td>36.327332</td>\n",
       "      <td>42.058318</td>\n",
       "    </tr>\n",
       "  </tbody>\n",
       "</table>\n",
       "</div>"
      ],
      "text/plain": [
       "                phat       std         LL         UL\n",
       "age_group                                           \n",
       "11-14      38.426763  1.034238  36.399657  40.453869\n",
       "15-17      39.192825  1.461986  36.327332  42.058318"
      ]
     },
     "execution_count": 27,
     "metadata": {},
     "output_type": "execute_result"
    }
   ],
   "source": [
    "dfg_tools.estimate_proportion(\n",
    "    tmp,\n",
    "    responses,\n",
    "    ['age_group']\n",
    ").loc[['11-14', '15-17']]"
   ]
  },
  {
   "cell_type": "markdown",
   "metadata": {},
   "source": [
    "## Cyberaggression"
   ]
  },
  {
   "cell_type": "markdown",
   "metadata": {},
   "source": [
    "Definition cyberhate victimization: Avoir repondu au moins un des items suivants:\n",
    "\n",
    "- `C_1_2_a`\n",
    "- `C_1_2_b`"
   ]
  },
  {
   "cell_type": "code",
   "execution_count": 29,
   "metadata": {},
   "outputs": [],
   "source": [
    "responses = [\n",
    "    'C_1_2_a',\n",
    "    'C_1_2_b' \n",
    "]"
   ]
  },
  {
   "cell_type": "markdown",
   "metadata": {},
   "source": [
    "### Marginal proportion"
   ]
  },
  {
   "cell_type": "code",
   "execution_count": 30,
   "metadata": {},
   "outputs": [
    {
     "data": {
      "text/plain": [
       "0"
      ]
     },
     "execution_count": 30,
     "metadata": {},
     "output_type": "execute_result"
    }
   ],
   "source": [
    "merged.query(\"KEY_REPONSE in @responses\").ID_REPONDANT.unique().shape[0]"
   ]
  },
  {
   "cell_type": "code",
   "execution_count": 31,
   "metadata": {},
   "outputs": [
    {
     "data": {
      "text/plain": [
       "0.0"
      ]
     },
     "execution_count": 31,
     "metadata": {},
     "output_type": "execute_result"
    }
   ],
   "source": [
    "merged.query(\"KEY_REPONSE in @responses\").ID_REPONDANT.unique().shape[0] / n_repondant"
   ]
  },
  {
   "cell_type": "markdown",
   "metadata": {},
   "source": [
    "### Stratified analysis"
   ]
  },
  {
   "cell_type": "code",
   "execution_count": 32,
   "metadata": {},
   "outputs": [],
   "source": [
    "tmp = merged.copy()\n",
    "\n",
    "# discretize age with different bins\n",
    "bins =  [0, 11, 15, 17, 99]\n",
    "labels = ['0-11', '11-14', '15-17', '>17']\n",
    "\n",
    "tmp['age_group'] = dfg_tools.discretize_age(\n",
    "    tmp, bins = bins, labels = labels\n",
    ")"
   ]
  },
  {
   "cell_type": "markdown",
   "metadata": {},
   "source": [
    "#### By gender"
   ]
  },
  {
   "cell_type": "code",
   "execution_count": 33,
   "metadata": {},
   "outputs": [
    {
     "data": {
      "text/html": [
       "<div>\n",
       "<style scoped>\n",
       "    .dataframe tbody tr th:only-of-type {\n",
       "        vertical-align: middle;\n",
       "    }\n",
       "\n",
       "    .dataframe tbody tr th {\n",
       "        vertical-align: top;\n",
       "    }\n",
       "\n",
       "    .dataframe thead th {\n",
       "        text-align: right;\n",
       "    }\n",
       "</style>\n",
       "<table border=\"1\" class=\"dataframe\">\n",
       "  <thead>\n",
       "    <tr style=\"text-align: right;\">\n",
       "      <th></th>\n",
       "      <th>phat</th>\n",
       "      <th>std</th>\n",
       "      <th>LL</th>\n",
       "      <th>UL</th>\n",
       "    </tr>\n",
       "    <tr>\n",
       "      <th>GENRE</th>\n",
       "      <th></th>\n",
       "      <th></th>\n",
       "      <th></th>\n",
       "      <th></th>\n",
       "    </tr>\n",
       "  </thead>\n",
       "  <tbody>\n",
       "    <tr>\n",
       "      <th>f</th>\n",
       "      <td>NaN</td>\n",
       "      <td>NaN</td>\n",
       "      <td>NaN</td>\n",
       "      <td>NaN</td>\n",
       "    </tr>\n",
       "    <tr>\n",
       "      <th>m</th>\n",
       "      <td>NaN</td>\n",
       "      <td>NaN</td>\n",
       "      <td>NaN</td>\n",
       "      <td>NaN</td>\n",
       "    </tr>\n",
       "  </tbody>\n",
       "</table>\n",
       "</div>"
      ],
      "text/plain": [
       "       phat  std  LL  UL\n",
       "GENRE                   \n",
       "f       NaN  NaN NaN NaN\n",
       "m       NaN  NaN NaN NaN"
      ]
     },
     "execution_count": 33,
     "metadata": {},
     "output_type": "execute_result"
    }
   ],
   "source": [
    "dfg_tools.estimate_proportion(\n",
    "    tmp,\n",
    "    responses,\n",
    "    [\"GENRE\"]\n",
    ")"
   ]
  },
  {
   "cell_type": "markdown",
   "metadata": {},
   "source": [
    "### By age"
   ]
  },
  {
   "cell_type": "code",
   "execution_count": null,
   "metadata": {},
   "outputs": [
    {
     "name": "stderr",
     "output_type": "stream",
     "text": [
      "/home/kantundpeterpan/projects/dataforgood/13_stopcyberviolence/repo/data_analyse/comparables/tools.py:74: FutureWarning: The default of observed=False is deprecated and will be changed to True in a future version of pandas. Pass observed=False to retain current behavior or observed=True to adopt the future default and silence this warning.\n",
      "  return data \\\n",
      "/home/kantundpeterpan/projects/dataforgood/13_stopcyberviolence/repo/data_analyse/comparables/tools.py:39: FutureWarning: The default of observed=False is deprecated and will be changed to True in a future version of pandas. Pass observed=False to retain current behavior or observed=True to adopt the future default and silence this warning.\n",
      "  return data \\\n"
     ]
    },
    {
     "data": {
      "text/html": [
       "<div>\n",
       "<style scoped>\n",
       "    .dataframe tbody tr th:only-of-type {\n",
       "        vertical-align: middle;\n",
       "    }\n",
       "\n",
       "    .dataframe tbody tr th {\n",
       "        vertical-align: top;\n",
       "    }\n",
       "\n",
       "    .dataframe thead th {\n",
       "        text-align: right;\n",
       "    }\n",
       "</style>\n",
       "<table border=\"1\" class=\"dataframe\">\n",
       "  <thead>\n",
       "    <tr style=\"text-align: right;\">\n",
       "      <th></th>\n",
       "      <th>phat</th>\n",
       "      <th>std</th>\n",
       "      <th>LL</th>\n",
       "      <th>UL</th>\n",
       "    </tr>\n",
       "    <tr>\n",
       "      <th>age_group</th>\n",
       "      <th></th>\n",
       "      <th></th>\n",
       "      <th></th>\n",
       "      <th></th>\n",
       "    </tr>\n",
       "  </thead>\n",
       "  <tbody>\n",
       "    <tr>\n",
       "      <th>11-14</th>\n",
       "      <td>38.426763</td>\n",
       "      <td>1.034238</td>\n",
       "      <td>36.399657</td>\n",
       "      <td>40.453869</td>\n",
       "    </tr>\n",
       "    <tr>\n",
       "      <th>15-17</th>\n",
       "      <td>39.192825</td>\n",
       "      <td>1.461986</td>\n",
       "      <td>36.327332</td>\n",
       "      <td>42.058318</td>\n",
       "    </tr>\n",
       "  </tbody>\n",
       "</table>\n",
       "</div>"
      ],
      "text/plain": [
       "                phat       std         LL         UL\n",
       "age_group                                           \n",
       "11-14      38.426763  1.034238  36.399657  40.453869\n",
       "15-17      39.192825  1.461986  36.327332  42.058318"
      ]
     },
     "metadata": {},
     "output_type": "display_data"
    }
   ],
   "source": [
    "dfg_tools.estimate_proportion(\n",
    "    tmp,\n",
    "    responses,\n",
    "    ['age_group']\n",
    ").loc[['11-14', '15-17']]"
   ]
  }
 ],
 "metadata": {
  "kernelspec": {
   "display_name": "frugalai",
   "language": "python",
   "name": "python3"
  },
  "language_info": {
   "codemirror_mode": {
    "name": "ipython",
    "version": 3
   },
   "file_extension": ".py",
   "mimetype": "text/x-python",
   "name": "python",
   "nbconvert_exporter": "python",
   "pygments_lexer": "ipython3",
   "version": "3.9.21"
  }
 },
 "nbformat": 4,
 "nbformat_minor": 4
}
