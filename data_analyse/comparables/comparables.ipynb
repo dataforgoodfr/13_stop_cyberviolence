{
 "cells": [
  {
   "cell_type": "code",
   "execution_count": 43,
   "metadata": {},
   "outputs": [],
   "source": [
    "import pandas as pd\n",
    "import datetime as dt"
   ]
  },
  {
   "cell_type": "code",
   "execution_count": 37,
   "metadata": {},
   "outputs": [],
   "source": [
    "eleves = pd.read_csv('../data/DIM_ELEVE.csv', parse_dates=['DATE_NAISSANCE'])"
   ]
  },
  {
   "cell_type": "code",
   "execution_count": 38,
   "metadata": {},
   "outputs": [
    {
     "name": "stdout",
     "output_type": "stream",
     "text": [
      "Index(['ID_ELEVE', 'GENRE', 'DATE_NAISSANCE', 'ID_CLASSE'], dtype='object')\n",
      "(10000, 4)\n",
      "['m' 'f']\n"
     ]
    }
   ],
   "source": [
    "print(eleves.columns)\n",
    "print(eleves.shape)\n",
    "print(eleves.GENRE.unique())"
   ]
  },
  {
   "cell_type": "code",
   "execution_count": 34,
   "metadata": {},
   "outputs": [],
   "source": [
    "dist_genre = eleves.groupby('GENRE').count()['ID_ELEVE']"
   ]
  },
  {
   "cell_type": "code",
   "execution_count": 56,
   "metadata": {},
   "outputs": [],
   "source": [
    "reponses = pd.read_csv('../data/FACT_REPONSE.csv', parse_dates=['DATE_TIME'])"
   ]
  },
  {
   "cell_type": "code",
   "execution_count": 57,
   "metadata": {},
   "outputs": [
    {
     "name": "stdout",
     "output_type": "stream",
     "text": [
      "Index(['ID_LOG', 'DATE_TIME', 'KEY_REPONSE', 'ID_REPONDANT'], dtype='object')\n",
      "(100000, 4)\n"
     ]
    }
   ],
   "source": [
    "print(reponses.columns)\n",
    "print(reponses.shape)"
   ]
  },
  {
   "cell_type": "code",
   "execution_count": 61,
   "metadata": {},
   "outputs": [
    {
     "data": {
      "text/plain": [
       "Index(['ID_LOG', 'DATE_TIME', 'KEY_REPONSE', 'ID_REPONDANT'], dtype='object')"
      ]
     },
     "execution_count": 61,
     "metadata": {},
     "output_type": "execute_result"
    }
   ],
   "source": [
    "reponses.columns"
   ]
  },
  {
   "cell_type": "code",
   "execution_count": 62,
   "metadata": {},
   "outputs": [],
   "source": [
    "merged = reponses.merge(\n",
    "    eleves, left_on = \"ID_REPONDANT\", right_on = \"ID_ELEVE\"\n",
    "    )"
   ]
  },
  {
   "cell_type": "code",
   "execution_count": 76,
   "metadata": {},
   "outputs": [],
   "source": [
    "merged['age_group'] = pd.cut(\n",
    "    # delta t annees\n",
    "    (merged.DATE_TIME - merged.DATE_NAISSANCE).dt.days // 365.2425,\n",
    "    bins = [0, 11, 13, 15, 17, 99],\n",
    "    labels = ['0-11', '11-12', '13-14', '15-17', '>17'],\n",
    "    right = False\n",
    ")"
   ]
  },
  {
   "cell_type": "code",
   "execution_count": 77,
   "metadata": {},
   "outputs": [
    {
     "name": "stderr",
     "output_type": "stream",
     "text": [
      "/tmp/ipykernel_1528263/2799898231.py:1: FutureWarning: The default of observed=False is deprecated and will be changed to True in a future version of pandas. Pass observed=False to retain current behavior or observed=True to adopt the future default and silence this warning.\n",
      "  merged.groupby(\"age_group\").count()\n"
     ]
    },
    {
     "data": {
      "text/html": [
       "<div>\n",
       "<style scoped>\n",
       "    .dataframe tbody tr th:only-of-type {\n",
       "        vertical-align: middle;\n",
       "    }\n",
       "\n",
       "    .dataframe tbody tr th {\n",
       "        vertical-align: top;\n",
       "    }\n",
       "\n",
       "    .dataframe thead th {\n",
       "        text-align: right;\n",
       "    }\n",
       "</style>\n",
       "<table border=\"1\" class=\"dataframe\">\n",
       "  <thead>\n",
       "    <tr style=\"text-align: right;\">\n",
       "      <th></th>\n",
       "      <th>ID_LOG</th>\n",
       "      <th>DATE_TIME</th>\n",
       "      <th>KEY_REPONSE</th>\n",
       "      <th>ID_REPONDANT</th>\n",
       "      <th>ID_ELEVE</th>\n",
       "      <th>GENRE</th>\n",
       "      <th>DATE_NAISSANCE</th>\n",
       "      <th>ID_CLASSE</th>\n",
       "    </tr>\n",
       "    <tr>\n",
       "      <th>age_group</th>\n",
       "      <th></th>\n",
       "      <th></th>\n",
       "      <th></th>\n",
       "      <th></th>\n",
       "      <th></th>\n",
       "      <th></th>\n",
       "      <th></th>\n",
       "      <th></th>\n",
       "    </tr>\n",
       "  </thead>\n",
       "  <tbody>\n",
       "    <tr>\n",
       "      <th>0-11</th>\n",
       "      <td>10788</td>\n",
       "      <td>10788</td>\n",
       "      <td>10788</td>\n",
       "      <td>10788</td>\n",
       "      <td>10788</td>\n",
       "      <td>10788</td>\n",
       "      <td>10788</td>\n",
       "      <td>10788</td>\n",
       "    </tr>\n",
       "    <tr>\n",
       "      <th>11-12</th>\n",
       "      <td>15713</td>\n",
       "      <td>15713</td>\n",
       "      <td>15713</td>\n",
       "      <td>15713</td>\n",
       "      <td>15713</td>\n",
       "      <td>15713</td>\n",
       "      <td>15713</td>\n",
       "      <td>15713</td>\n",
       "    </tr>\n",
       "    <tr>\n",
       "      <th>13-14</th>\n",
       "      <td>17369</td>\n",
       "      <td>17369</td>\n",
       "      <td>17369</td>\n",
       "      <td>17369</td>\n",
       "      <td>17369</td>\n",
       "      <td>17369</td>\n",
       "      <td>17369</td>\n",
       "      <td>17369</td>\n",
       "    </tr>\n",
       "    <tr>\n",
       "      <th>15-17</th>\n",
       "      <td>17598</td>\n",
       "      <td>17598</td>\n",
       "      <td>17598</td>\n",
       "      <td>17598</td>\n",
       "      <td>17598</td>\n",
       "      <td>17598</td>\n",
       "      <td>17598</td>\n",
       "      <td>17598</td>\n",
       "    </tr>\n",
       "    <tr>\n",
       "      <th>&gt;17</th>\n",
       "      <td>38532</td>\n",
       "      <td>38532</td>\n",
       "      <td>38532</td>\n",
       "      <td>38532</td>\n",
       "      <td>38532</td>\n",
       "      <td>38532</td>\n",
       "      <td>38532</td>\n",
       "      <td>38532</td>\n",
       "    </tr>\n",
       "  </tbody>\n",
       "</table>\n",
       "</div>"
      ],
      "text/plain": [
       "           ID_LOG  DATE_TIME  KEY_REPONSE  ID_REPONDANT  ID_ELEVE  GENRE  \\\n",
       "age_group                                                                  \n",
       "0-11        10788      10788        10788         10788     10788  10788   \n",
       "11-12       15713      15713        15713         15713     15713  15713   \n",
       "13-14       17369      17369        17369         17369     17369  17369   \n",
       "15-17       17598      17598        17598         17598     17598  17598   \n",
       ">17         38532      38532        38532         38532     38532  38532   \n",
       "\n",
       "           DATE_NAISSANCE  ID_CLASSE  \n",
       "age_group                             \n",
       "0-11                10788      10788  \n",
       "11-12               15713      15713  \n",
       "13-14               17369      17369  \n",
       "15-17               17598      17598  \n",
       ">17                 38532      38532  "
      ]
     },
     "execution_count": 77,
     "metadata": {},
     "output_type": "execute_result"
    }
   ],
   "source": [
    "merged.groupby(\"age_group\").count()"
   ]
  },
  {
   "cell_type": "code",
   "execution_count": 27,
   "metadata": {},
   "outputs": [],
   "source": [
    "n_eleves = eleves.shape[0]"
   ]
  },
  {
   "cell_type": "code",
   "execution_count": 28,
   "metadata": {},
   "outputs": [
    {
     "data": {
      "text/plain": [
       "0.0605"
      ]
     },
     "execution_count": 28,
     "metadata": {},
     "output_type": "execute_result"
    }
   ],
   "source": [
    "responses.KEY_REPONSE.value_counts()['B_2_1_d'] / n_eleves"
   ]
  },
  {
   "cell_type": "code",
   "execution_count": 35,
   "metadata": {},
   "outputs": [
    {
     "data": {
      "text/plain": [
       "GENRE\n",
       "f    0.055634\n",
       "m    0.065326\n",
       "dtype: float64"
      ]
     },
     "execution_count": 35,
     "metadata": {},
     "output_type": "execute_result"
    }
   ],
   "source": [
    "merged.loc[merged.KEY_REPONSE == 'B_2_1_d'].groupby(\"GENRE\").count()['ID_LOG'] / dist_genre"
   ]
  }
 ],
 "metadata": {
  "kernelspec": {
   "display_name": "frugalai",
   "language": "python",
   "name": "python3"
  },
  "language_info": {
   "codemirror_mode": {
    "name": "ipython",
    "version": 3
   },
   "file_extension": ".py",
   "mimetype": "text/x-python",
   "name": "python",
   "nbconvert_exporter": "python",
   "pygments_lexer": "ipython3",
   "version": "3.9.21"
  }
 },
 "nbformat": 4,
 "nbformat_minor": 2
}
