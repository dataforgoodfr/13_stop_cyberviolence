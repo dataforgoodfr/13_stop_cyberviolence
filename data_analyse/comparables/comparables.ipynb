{
 "cells": [
  {
   "cell_type": "markdown",
   "metadata": {},
   "source": [
    "# Imports"
   ]
  },
  {
   "cell_type": "code",
   "execution_count": 1,
   "metadata": {},
   "outputs": [],
   "source": [
    "import pandas as pd\n",
    "import numpy as np\n",
    "import datetime as dt\n",
    "import sys"
   ]
  },
  {
   "cell_type": "code",
   "execution_count": 2,
   "metadata": {},
   "outputs": [],
   "source": [
    "pd.set_option(\"display.precision\", 3)"
   ]
  },
  {
   "cell_type": "code",
   "execution_count": 3,
   "metadata": {},
   "outputs": [],
   "source": [
    "sys.path.append('.')"
   ]
  },
  {
   "cell_type": "code",
   "execution_count": 4,
   "metadata": {},
   "outputs": [],
   "source": [
    "import tools as dfg_tools"
   ]
  },
  {
   "cell_type": "code",
   "execution_count": 5,
   "metadata": {},
   "outputs": [],
   "source": [
    "from importlib import reload\n",
    "dfg_tools = reload(dfg_tools)"
   ]
  },
  {
   "cell_type": "markdown",
   "metadata": {},
   "source": [
    "# Load data"
   ]
  },
  {
   "cell_type": "code",
   "execution_count": 6,
   "metadata": {},
   "outputs": [],
   "source": [
    "eleves = pd.read_csv('../data/DIM_ELEVE.csv')"
   ]
  },
  {
   "cell_type": "code",
   "execution_count": 7,
   "metadata": {},
   "outputs": [
    {
     "name": "stdout",
     "output_type": "stream",
     "text": [
      "Index(['ID_ELEVE', 'GENRE', 'AGE', 'NIVEAU', 'ID_PARENT'], dtype='object')\n",
      "(10000, 5)\n",
      "['m' 'f']\n"
     ]
    }
   ],
   "source": [
    "print(eleves.columns)\n",
    "print(eleves.shape)\n",
    "print(eleves.GENRE.unique())"
   ]
  },
  {
   "cell_type": "code",
   "execution_count": 8,
   "metadata": {},
   "outputs": [],
   "source": [
    "reponses = pd.read_csv('../data/FACT_REPONSE.csv', parse_dates=['DATE_TIME'])"
   ]
  },
  {
   "cell_type": "code",
   "execution_count": 9,
   "metadata": {},
   "outputs": [
    {
     "name": "stdout",
     "output_type": "stream",
     "text": [
      "Index(['ID_LOG', 'KEY_REPONSE', 'ID_REPONDANT', 'DATE_TIME'], dtype='object')\n",
      "(100000, 4)\n"
     ]
    }
   ],
   "source": [
    "print(reponses.columns)\n",
    "print(reponses.shape)"
   ]
  },
  {
   "cell_type": "markdown",
   "metadata": {},
   "source": [
    "# Data preparation"
   ]
  },
  {
   "cell_type": "code",
   "execution_count": 10,
   "metadata": {},
   "outputs": [],
   "source": [
    "merged = reponses.merge(\n",
    "    eleves, left_on = \"ID_REPONDANT\", right_on = \"ID_ELEVE\"\n",
    "    )"
   ]
  },
  {
   "cell_type": "code",
   "execution_count": 11,
   "metadata": {},
   "outputs": [],
   "source": [
    "merged['age_group'] = dfg_tools.discretize_age(merged)"
   ]
  },
  {
   "cell_type": "markdown",
   "metadata": {},
   "source": [
    "# Comparative data analysis"
   ]
  },
  {
   "cell_type": "markdown",
   "metadata": {},
   "source": [
    "## Cyberhate exposure - `M1_2` *vs.* `B_2_1_d`"
   ]
  },
  {
   "cell_type": "code",
   "execution_count": 12,
   "metadata": {},
   "outputs": [],
   "source": [
    "response = 'B_2_1_d'"
   ]
  },
  {
   "cell_type": "markdown",
   "metadata": {},
   "source": [
    "### Marginal exposure (Percentage of respondents)"
   ]
  },
  {
   "cell_type": "code",
   "execution_count": 13,
   "metadata": {},
   "outputs": [],
   "source": [
    "n_repondant = merged.ID_REPONDANT.unique().shape[0]"
   ]
  },
  {
   "cell_type": "code",
   "execution_count": 14,
   "metadata": {},
   "outputs": [
    {
     "data": {
      "text/plain": [
       "0.1222"
      ]
     },
     "execution_count": 14,
     "metadata": {},
     "output_type": "execute_result"
    }
   ],
   "source": [
    "tot_pct = reponses.KEY_REPONSE.value_counts()['B_2_1_d'] / n_repondant\n",
    "tot_pct"
   ]
  },
  {
   "cell_type": "code",
   "execution_count": 15,
   "metadata": {},
   "outputs": [
    {
     "data": {
      "text/plain": [
       "0.004631784969102085"
      ]
     },
     "execution_count": 15,
     "metadata": {},
     "output_type": "execute_result"
    }
   ],
   "source": [
    "std_tot_pct = np.sqrt((tot_pct * (1 - tot_pct)) / n_repondant)\n",
    "std_tot_pct"
   ]
  },
  {
   "cell_type": "code",
   "execution_count": 16,
   "metadata": {},
   "outputs": [],
   "source": [
    "ll, ul = tot_pct - 1.96 * std_tot_pct, tot_pct + 1.96 * std_tot_pct"
   ]
  },
  {
   "cell_type": "code",
   "execution_count": 17,
   "metadata": {},
   "outputs": [
    {
     "name": "stdout",
     "output_type": "stream",
     "text": [
      "12.22 [11.312, 13.128]\n"
     ]
    }
   ],
   "source": [
    "print(f\"{round(tot_pct*100, 3)} [{round(ll*100, 3)}, {round(ul*100, 3)}]\")"
   ]
  },
  {
   "cell_type": "code",
   "execution_count": 18,
   "metadata": {},
   "outputs": [],
   "source": [
    "import matplotlib.pyplot as plt"
   ]
  },
  {
   "cell_type": "code",
   "execution_count": 19,
   "metadata": {},
   "outputs": [],
   "source": [
    "import seaborn as sns"
   ]
  },
  {
   "cell_type": "code",
   "execution_count": 20,
   "metadata": {},
   "outputs": [],
   "source": [
    "sns.set()"
   ]
  },
  {
   "cell_type": "code",
   "execution_count": 21,
   "metadata": {},
   "outputs": [],
   "source": [
    "# plt.scatter(tot_pct, 1)\n",
    "# plt.scatter(0.24, 1)\n",
    "# plt.errorbar(tot_pct, 1, xerr=[(std_tot_pct,), (std_tot_pct,)])\n",
    "# plt.title(\"EUKO 2020 vs. STOPCyber\")"
   ]
  },
  {
   "cell_type": "markdown",
   "metadata": {},
   "source": [
    "### Stratified analysis"
   ]
  },
  {
   "cell_type": "markdown",
   "metadata": {},
   "source": [
    "#### By gender"
   ]
  },
  {
   "cell_type": "code",
   "execution_count": 22,
   "metadata": {},
   "outputs": [
    {
     "data": {
      "text/html": [
       "<div>\n",
       "<style scoped>\n",
       "    .dataframe tbody tr th:only-of-type {\n",
       "        vertical-align: middle;\n",
       "    }\n",
       "\n",
       "    .dataframe tbody tr th {\n",
       "        vertical-align: top;\n",
       "    }\n",
       "\n",
       "    .dataframe thead th {\n",
       "        text-align: right;\n",
       "    }\n",
       "</style>\n",
       "<table border=\"1\" class=\"dataframe\">\n",
       "  <thead>\n",
       "    <tr style=\"text-align: right;\">\n",
       "      <th></th>\n",
       "      <th>phat</th>\n",
       "      <th>std</th>\n",
       "      <th>LL</th>\n",
       "      <th>UL</th>\n",
       "    </tr>\n",
       "    <tr>\n",
       "      <th>GENRE</th>\n",
       "      <th></th>\n",
       "      <th></th>\n",
       "      <th></th>\n",
       "      <th></th>\n",
       "    </tr>\n",
       "  </thead>\n",
       "  <tbody>\n",
       "    <tr>\n",
       "      <th>f</th>\n",
       "      <td>23.047</td>\n",
       "      <td>0.834</td>\n",
       "      <td>21.411</td>\n",
       "      <td>24.682</td>\n",
       "    </tr>\n",
       "    <tr>\n",
       "      <th>m</th>\n",
       "      <td>21.239</td>\n",
       "      <td>0.826</td>\n",
       "      <td>19.621</td>\n",
       "      <td>22.858</td>\n",
       "    </tr>\n",
       "  </tbody>\n",
       "</table>\n",
       "</div>"
      ],
      "text/plain": [
       "         phat    std      LL      UL\n",
       "GENRE                               \n",
       "f      23.047  0.834  21.411  24.682\n",
       "m      21.239  0.826  19.621  22.858"
      ]
     },
     "execution_count": 22,
     "metadata": {},
     "output_type": "execute_result"
    }
   ],
   "source": [
    "hate_per_gender = dfg_tools.estimate_proportion(\n",
    "    merged,\n",
    "    [response, 'B_2_1_c'],\n",
    "    ['GENRE'], variance_est = 'clt'\n",
    ")\n",
    "hate_per_gender"
   ]
  },
  {
   "cell_type": "code",
   "execution_count": 23,
   "metadata": {},
   "outputs": [],
   "source": [
    "# plt.scatter(\n",
    "#     hate_per_gender.phat, [0.25, 0.75],\n",
    "#     c = [\"darkblue\", \"salmon\"], s = 100, zorder = 10\n",
    "#     )\n",
    "\n",
    "# plt.errorbar(\n",
    "#     hate_per_gender.phat,\n",
    "#     [.25, .75],\n",
    "#     color = \"black\",\n",
    "#     xerr=[hate_per_gender['std']*1.96]*2,\n",
    "#     linestyle = 'none'\n",
    "# )\n",
    "\n",
    "# plt.title(\"EUKO 2020 vs. STOPCyber\")"
   ]
  },
  {
   "cell_type": "markdown",
   "metadata": {},
   "source": [
    "#### By age"
   ]
  },
  {
   "cell_type": "code",
   "execution_count": 24,
   "metadata": {},
   "outputs": [
    {
     "name": "stderr",
     "output_type": "stream",
     "text": [
      "/home/kantundpeterpan/projects/dataforgood/13_stopcyberviolence/main_repo/data_analyse/comparables/tools.py:79: FutureWarning: The default of observed=False is deprecated and will be changed to True in a future version of pandas. Pass observed=False to retain current behavior or observed=True to adopt the future default and silence this warning.\n",
      "  return data \\\n",
      "/home/kantundpeterpan/projects/dataforgood/13_stopcyberviolence/main_repo/data_analyse/comparables/tools.py:41: FutureWarning: The default of observed=False is deprecated and will be changed to True in a future version of pandas. Pass observed=False to retain current behavior or observed=True to adopt the future default and silence this warning.\n",
      "  return data \\\n"
     ]
    },
    {
     "data": {
      "text/html": [
       "<div>\n",
       "<style scoped>\n",
       "    .dataframe tbody tr th:only-of-type {\n",
       "        vertical-align: middle;\n",
       "    }\n",
       "\n",
       "    .dataframe tbody tr th {\n",
       "        vertical-align: top;\n",
       "    }\n",
       "\n",
       "    .dataframe thead th {\n",
       "        text-align: right;\n",
       "    }\n",
       "</style>\n",
       "<table border=\"1\" class=\"dataframe\">\n",
       "  <thead>\n",
       "    <tr style=\"text-align: right;\">\n",
       "      <th></th>\n",
       "      <th>phat</th>\n",
       "      <th>std</th>\n",
       "      <th>LL</th>\n",
       "      <th>UL</th>\n",
       "    </tr>\n",
       "    <tr>\n",
       "      <th>age_group</th>\n",
       "      <th></th>\n",
       "      <th></th>\n",
       "      <th></th>\n",
       "      <th></th>\n",
       "    </tr>\n",
       "  </thead>\n",
       "  <tbody>\n",
       "    <tr>\n",
       "      <th>11-12</th>\n",
       "      <td>11.245</td>\n",
       "      <td>0.885</td>\n",
       "      <td>9.558</td>\n",
       "      <td>12.932</td>\n",
       "    </tr>\n",
       "    <tr>\n",
       "      <th>13-14</th>\n",
       "      <td>12.150</td>\n",
       "      <td>0.882</td>\n",
       "      <td>10.472</td>\n",
       "      <td>13.909</td>\n",
       "    </tr>\n",
       "    <tr>\n",
       "      <th>15-17</th>\n",
       "      <td>11.146</td>\n",
       "      <td>1.205</td>\n",
       "      <td>8.948</td>\n",
       "      <td>13.501</td>\n",
       "    </tr>\n",
       "  </tbody>\n",
       "</table>\n",
       "</div>"
      ],
      "text/plain": [
       "             phat    std      LL      UL\n",
       "age_group                               \n",
       "11-12      11.245  0.885   9.558  12.932\n",
       "13-14      12.150  0.882  10.472  13.909\n",
       "15-17      11.146  1.205   8.948  13.501"
      ]
     },
     "execution_count": 24,
     "metadata": {},
     "output_type": "execute_result"
    }
   ],
   "source": [
    "hate_per_age = dfg_tools.estimate_proportion(\n",
    "    merged,\n",
    "    response,\n",
    "    ['age_group'],\n",
    "    variance_est = 'bootstrap'\n",
    ").loc[['11-12', '13-14', '15-17']]\n",
    "hate_per_age"
   ]
  },
  {
   "cell_type": "code",
   "execution_count": 25,
   "metadata": {},
   "outputs": [],
   "source": [
    "# y = [i*0.5*(1/3) for i in range(3)]\n",
    "# plt.scatter(\n",
    "#     hate_per_age.phat, y,\n",
    "#     c = [\"darkblue\", \"salmon\", \"chartreuse\"], s = 100,\n",
    "#     zorder = 10\n",
    "#     )\n",
    "\n",
    "# plt.errorbar(\n",
    "#     hate_per_age.phat,\n",
    "#     y,\n",
    "#     color = \"black\",\n",
    "#     xerr=[hate_per_age['std']*1.96]*2,\n",
    "#     linestyle = 'none', capsize = 4\n",
    "# )\n",
    "\n",
    "# plt.title(\"EUKO 2020 vs. STOPCyber\")\n",
    "# plt.yticks(y,\n",
    "#            hate_per_age.index)\n",
    "# # plt.ylabel([])\n",
    "# plt.grid([])"
   ]
  },
  {
   "cell_type": "markdown",
   "metadata": {},
   "source": [
    "#### By gender and age"
   ]
  },
  {
   "cell_type": "code",
   "execution_count": 26,
   "metadata": {},
   "outputs": [],
   "source": [
    "tmp = merged.copy()\n",
    "\n",
    "# discretize age with different bins\n",
    "bins =  [0, 11, 15, 17, 99]\n",
    "labels = ['0-11', '11-14', '15-17', '>17']\n",
    "\n",
    "tmp['age_group'] = dfg_tools.discretize_age(\n",
    "    tmp, bins = bins, labels = labels\n",
    ")"
   ]
  },
  {
   "cell_type": "code",
   "execution_count": 27,
   "metadata": {},
   "outputs": [
    {
     "name": "stderr",
     "output_type": "stream",
     "text": [
      "/home/kantundpeterpan/projects/dataforgood/13_stopcyberviolence/main_repo/data_analyse/comparables/tools.py:79: FutureWarning: The default of observed=False is deprecated and will be changed to True in a future version of pandas. Pass observed=False to retain current behavior or observed=True to adopt the future default and silence this warning.\n",
      "  return data \\\n",
      "/home/kantundpeterpan/projects/dataforgood/13_stopcyberviolence/main_repo/data_analyse/comparables/tools.py:41: FutureWarning: The default of observed=False is deprecated and will be changed to True in a future version of pandas. Pass observed=False to retain current behavior or observed=True to adopt the future default and silence this warning.\n",
      "  return data \\\n"
     ]
    },
    {
     "data": {
      "text/html": [
       "<div>\n",
       "<style scoped>\n",
       "    .dataframe tbody tr th:only-of-type {\n",
       "        vertical-align: middle;\n",
       "    }\n",
       "\n",
       "    .dataframe tbody tr th {\n",
       "        vertical-align: top;\n",
       "    }\n",
       "\n",
       "    .dataframe thead th {\n",
       "        text-align: right;\n",
       "    }\n",
       "</style>\n",
       "<table border=\"1\" class=\"dataframe\">\n",
       "  <thead>\n",
       "    <tr style=\"text-align: right;\">\n",
       "      <th></th>\n",
       "      <th></th>\n",
       "      <th>phat</th>\n",
       "      <th>std</th>\n",
       "      <th>LL</th>\n",
       "      <th>UL</th>\n",
       "    </tr>\n",
       "    <tr>\n",
       "      <th>age_group</th>\n",
       "      <th>GENRE</th>\n",
       "      <th></th>\n",
       "      <th></th>\n",
       "      <th></th>\n",
       "      <th></th>\n",
       "    </tr>\n",
       "  </thead>\n",
       "  <tbody>\n",
       "    <tr>\n",
       "      <th rowspan=\"2\" valign=\"top\">11-14</th>\n",
       "      <th>f</th>\n",
       "      <td>11.937</td>\n",
       "      <td>0.910</td>\n",
       "      <td>10.198</td>\n",
       "      <td>13.755</td>\n",
       "    </tr>\n",
       "    <tr>\n",
       "      <th>m</th>\n",
       "      <td>11.454</td>\n",
       "      <td>0.927</td>\n",
       "      <td>9.667</td>\n",
       "      <td>13.241</td>\n",
       "    </tr>\n",
       "    <tr>\n",
       "      <th rowspan=\"2\" valign=\"top\">15-17</th>\n",
       "      <th>f</th>\n",
       "      <td>13.084</td>\n",
       "      <td>1.997</td>\n",
       "      <td>9.338</td>\n",
       "      <td>17.134</td>\n",
       "    </tr>\n",
       "    <tr>\n",
       "      <th>m</th>\n",
       "      <td>9.177</td>\n",
       "      <td>1.606</td>\n",
       "      <td>6.013</td>\n",
       "      <td>12.342</td>\n",
       "    </tr>\n",
       "  </tbody>\n",
       "</table>\n",
       "</div>"
      ],
      "text/plain": [
       "                   phat    std      LL      UL\n",
       "age_group GENRE                               \n",
       "11-14     f      11.937  0.910  10.198  13.755\n",
       "          m      11.454  0.927   9.667  13.241\n",
       "15-17     f      13.084  1.997   9.338  17.134\n",
       "          m       9.177  1.606   6.013  12.342"
      ]
     },
     "execution_count": 27,
     "metadata": {},
     "output_type": "execute_result"
    }
   ],
   "source": [
    "dfg_tools.estimate_proportion(\n",
    "    tmp,\n",
    "    response,\n",
    "    ['age_group', 'GENRE'], variance_est = \"bootstrap\"\n",
    ").loc[['11-14', '15-17']]"
   ]
  },
  {
   "cell_type": "markdown",
   "metadata": {},
   "source": [
    "## Cyberhate victimization"
   ]
  },
  {
   "cell_type": "markdown",
   "metadata": {},
   "source": [
    "Definition cyberhate victimization: Avoir repondu au moins un des items suivants:\n",
    "\n",
    "- `C_2_1_a`\n",
    "- `C_2_1_b`\n",
    "- `C_2_1_d`\n",
    "- `C_2_1_e`"
   ]
  },
  {
   "cell_type": "code",
   "execution_count": 28,
   "metadata": {},
   "outputs": [],
   "source": [
    "responses = [\n",
    "    'C_2_1_a',\n",
    "    'C_2_1_b',\n",
    "    'C_2_1_d',\n",
    "    'C_2_1_e' \n",
    "]"
   ]
  },
  {
   "cell_type": "markdown",
   "metadata": {},
   "source": [
    "### Marginal proportion"
   ]
  },
  {
   "cell_type": "code",
   "execution_count": 29,
   "metadata": {},
   "outputs": [
    {
     "data": {
      "text/plain": [
       "1952"
      ]
     },
     "execution_count": 29,
     "metadata": {},
     "output_type": "execute_result"
    }
   ],
   "source": [
    "merged.query(\"KEY_REPONSE in @responses\").ID_REPONDANT.unique().shape[0]"
   ]
  },
  {
   "cell_type": "code",
   "execution_count": 30,
   "metadata": {},
   "outputs": [
    {
     "data": {
      "text/plain": [
       "0.3904"
      ]
     },
     "execution_count": 30,
     "metadata": {},
     "output_type": "execute_result"
    }
   ],
   "source": [
    "merged.query(\"KEY_REPONSE in @responses\").ID_REPONDANT.unique().shape[0] / n_repondant"
   ]
  },
  {
   "cell_type": "markdown",
   "metadata": {},
   "source": [
    "### Stratified analysis"
   ]
  },
  {
   "cell_type": "code",
   "execution_count": 31,
   "metadata": {},
   "outputs": [],
   "source": [
    "tmp = merged.copy()\n",
    "\n",
    "# discretize age with different bins\n",
    "bins =  [0, 11, 15, 17, 99]\n",
    "labels = ['0-11', '11-14', '15-17', '>17']\n",
    "\n",
    "tmp['age_group'] = dfg_tools.discretize_age(\n",
    "    tmp, bins = bins, labels = labels\n",
    ")"
   ]
  },
  {
   "cell_type": "markdown",
   "metadata": {},
   "source": [
    "#### By gender"
   ]
  },
  {
   "cell_type": "code",
   "execution_count": 32,
   "metadata": {},
   "outputs": [
    {
     "data": {
      "text/html": [
       "<div>\n",
       "<style scoped>\n",
       "    .dataframe tbody tr th:only-of-type {\n",
       "        vertical-align: middle;\n",
       "    }\n",
       "\n",
       "    .dataframe tbody tr th {\n",
       "        vertical-align: top;\n",
       "    }\n",
       "\n",
       "    .dataframe thead th {\n",
       "        text-align: right;\n",
       "    }\n",
       "</style>\n",
       "<table border=\"1\" class=\"dataframe\">\n",
       "  <thead>\n",
       "    <tr style=\"text-align: right;\">\n",
       "      <th></th>\n",
       "      <th>phat</th>\n",
       "      <th>std</th>\n",
       "      <th>LL</th>\n",
       "      <th>UL</th>\n",
       "    </tr>\n",
       "    <tr>\n",
       "      <th>GENRE</th>\n",
       "      <th></th>\n",
       "      <th></th>\n",
       "      <th></th>\n",
       "      <th></th>\n",
       "    </tr>\n",
       "  </thead>\n",
       "  <tbody>\n",
       "    <tr>\n",
       "      <th>f</th>\n",
       "      <td>38.045</td>\n",
       "      <td>0.962</td>\n",
       "      <td>36.159</td>\n",
       "      <td>39.930</td>\n",
       "    </tr>\n",
       "    <tr>\n",
       "      <th>m</th>\n",
       "      <td>40.073</td>\n",
       "      <td>0.989</td>\n",
       "      <td>38.134</td>\n",
       "      <td>42.013</td>\n",
       "    </tr>\n",
       "  </tbody>\n",
       "</table>\n",
       "</div>"
      ],
      "text/plain": [
       "         phat    std      LL      UL\n",
       "GENRE                               \n",
       "f      38.045  0.962  36.159  39.930\n",
       "m      40.073  0.989  38.134  42.013"
      ]
     },
     "execution_count": 32,
     "metadata": {},
     "output_type": "execute_result"
    }
   ],
   "source": [
    "dfg_tools.estimate_proportion(\n",
    "    tmp,\n",
    "    responses,\n",
    "    [\"GENRE\"]\n",
    ")"
   ]
  },
  {
   "cell_type": "markdown",
   "metadata": {},
   "source": [
    "### By age"
   ]
  },
  {
   "cell_type": "code",
   "execution_count": 33,
   "metadata": {},
   "outputs": [
    {
     "name": "stderr",
     "output_type": "stream",
     "text": [
      "/home/kantundpeterpan/projects/dataforgood/13_stopcyberviolence/main_repo/data_analyse/comparables/tools.py:79: FutureWarning: The default of observed=False is deprecated and will be changed to True in a future version of pandas. Pass observed=False to retain current behavior or observed=True to adopt the future default and silence this warning.\n",
      "  return data \\\n",
      "/home/kantundpeterpan/projects/dataforgood/13_stopcyberviolence/main_repo/data_analyse/comparables/tools.py:41: FutureWarning: The default of observed=False is deprecated and will be changed to True in a future version of pandas. Pass observed=False to retain current behavior or observed=True to adopt the future default and silence this warning.\n",
      "  return data \\\n"
     ]
    },
    {
     "data": {
      "text/html": [
       "<div>\n",
       "<style scoped>\n",
       "    .dataframe tbody tr th:only-of-type {\n",
       "        vertical-align: middle;\n",
       "    }\n",
       "\n",
       "    .dataframe tbody tr th {\n",
       "        vertical-align: top;\n",
       "    }\n",
       "\n",
       "    .dataframe thead th {\n",
       "        text-align: right;\n",
       "    }\n",
       "</style>\n",
       "<table border=\"1\" class=\"dataframe\">\n",
       "  <thead>\n",
       "    <tr style=\"text-align: right;\">\n",
       "      <th></th>\n",
       "      <th>phat</th>\n",
       "      <th>std</th>\n",
       "      <th>LL</th>\n",
       "      <th>UL</th>\n",
       "    </tr>\n",
       "    <tr>\n",
       "      <th>age_group</th>\n",
       "      <th></th>\n",
       "      <th></th>\n",
       "      <th></th>\n",
       "      <th></th>\n",
       "    </tr>\n",
       "  </thead>\n",
       "  <tbody>\n",
       "    <tr>\n",
       "      <th>11-14</th>\n",
       "      <td>39.503</td>\n",
       "      <td>0.978</td>\n",
       "      <td>37.585</td>\n",
       "      <td>41.421</td>\n",
       "    </tr>\n",
       "    <tr>\n",
       "      <th>15-17</th>\n",
       "      <td>40.502</td>\n",
       "      <td>1.945</td>\n",
       "      <td>36.690</td>\n",
       "      <td>44.315</td>\n",
       "    </tr>\n",
       "  </tbody>\n",
       "</table>\n",
       "</div>"
      ],
      "text/plain": [
       "             phat    std      LL      UL\n",
       "age_group                               \n",
       "11-14      39.503  0.978  37.585  41.421\n",
       "15-17      40.502  1.945  36.690  44.315"
      ]
     },
     "execution_count": 33,
     "metadata": {},
     "output_type": "execute_result"
    }
   ],
   "source": [
    "dfg_tools.estimate_proportion(\n",
    "    tmp,\n",
    "    responses,\n",
    "    ['age_group']\n",
    ").loc[['11-14', '15-17']]"
   ]
  },
  {
   "cell_type": "markdown",
   "metadata": {},
   "source": [
    "## Cyberaggression"
   ]
  },
  {
   "cell_type": "markdown",
   "metadata": {},
   "source": [
    "Definition cyberhate victimization: Avoir repondu au moins un des items suivants:\n",
    "\n",
    "- `C_1_2_a`\n",
    "- `C_1_2_b`"
   ]
  },
  {
   "cell_type": "code",
   "execution_count": 34,
   "metadata": {},
   "outputs": [],
   "source": [
    "responses = [\n",
    "    'C_1_2_a',\n",
    "    'C_1_2_b' \n",
    "]"
   ]
  },
  {
   "cell_type": "markdown",
   "metadata": {},
   "source": [
    "### Marginal proportion"
   ]
  },
  {
   "cell_type": "code",
   "execution_count": 35,
   "metadata": {},
   "outputs": [
    {
     "data": {
      "text/plain": [
       "1041"
      ]
     },
     "execution_count": 35,
     "metadata": {},
     "output_type": "execute_result"
    }
   ],
   "source": [
    "merged.query(\"KEY_REPONSE in @responses\").ID_REPONDANT.unique().shape[0]"
   ]
  },
  {
   "cell_type": "code",
   "execution_count": 36,
   "metadata": {},
   "outputs": [
    {
     "data": {
      "text/plain": [
       "0.2082"
      ]
     },
     "execution_count": 36,
     "metadata": {},
     "output_type": "execute_result"
    }
   ],
   "source": [
    "merged.query(\"KEY_REPONSE in @responses\").ID_REPONDANT.unique().shape[0] / n_repondant"
   ]
  },
  {
   "cell_type": "markdown",
   "metadata": {},
   "source": [
    "### Stratified analysis"
   ]
  },
  {
   "cell_type": "code",
   "execution_count": 37,
   "metadata": {},
   "outputs": [],
   "source": [
    "tmp = merged.copy()\n",
    "\n",
    "# discretize age with different bins\n",
    "bins =  [0, 11, 15, 17, 99]\n",
    "labels = ['0-11', '11-14', '15-17', '>17']\n",
    "\n",
    "tmp['age_group'] = dfg_tools.discretize_age(\n",
    "    tmp, bins = bins, labels = labels\n",
    ")"
   ]
  },
  {
   "cell_type": "markdown",
   "metadata": {},
   "source": [
    "#### By gender"
   ]
  },
  {
   "cell_type": "code",
   "execution_count": 38,
   "metadata": {},
   "outputs": [
    {
     "data": {
      "text/html": [
       "<div>\n",
       "<style scoped>\n",
       "    .dataframe tbody tr th:only-of-type {\n",
       "        vertical-align: middle;\n",
       "    }\n",
       "\n",
       "    .dataframe tbody tr th {\n",
       "        vertical-align: top;\n",
       "    }\n",
       "\n",
       "    .dataframe thead th {\n",
       "        text-align: right;\n",
       "    }\n",
       "</style>\n",
       "<table border=\"1\" class=\"dataframe\">\n",
       "  <thead>\n",
       "    <tr style=\"text-align: right;\">\n",
       "      <th></th>\n",
       "      <th>phat</th>\n",
       "      <th>std</th>\n",
       "      <th>LL</th>\n",
       "      <th>UL</th>\n",
       "    </tr>\n",
       "    <tr>\n",
       "      <th>GENRE</th>\n",
       "      <th></th>\n",
       "      <th></th>\n",
       "      <th></th>\n",
       "      <th></th>\n",
       "    </tr>\n",
       "  </thead>\n",
       "  <tbody>\n",
       "    <tr>\n",
       "      <th>f</th>\n",
       "      <td>20.927</td>\n",
       "      <td>0.806</td>\n",
       "      <td>19.347</td>\n",
       "      <td>22.506</td>\n",
       "    </tr>\n",
       "    <tr>\n",
       "      <th>m</th>\n",
       "      <td>20.709</td>\n",
       "      <td>0.818</td>\n",
       "      <td>19.106</td>\n",
       "      <td>22.313</td>\n",
       "    </tr>\n",
       "  </tbody>\n",
       "</table>\n",
       "</div>"
      ],
      "text/plain": [
       "         phat    std      LL      UL\n",
       "GENRE                               \n",
       "f      20.927  0.806  19.347  22.506\n",
       "m      20.709  0.818  19.106  22.313"
      ]
     },
     "execution_count": 38,
     "metadata": {},
     "output_type": "execute_result"
    }
   ],
   "source": [
    "dfg_tools.estimate_proportion(\n",
    "    tmp,\n",
    "    responses,\n",
    "    [\"GENRE\"]\n",
    ")"
   ]
  },
  {
   "cell_type": "markdown",
   "metadata": {},
   "source": [
    "### By age"
   ]
  },
  {
   "cell_type": "code",
   "execution_count": 39,
   "metadata": {},
   "outputs": [
    {
     "name": "stderr",
     "output_type": "stream",
     "text": [
      "/home/kantundpeterpan/projects/dataforgood/13_stopcyberviolence/main_repo/data_analyse/comparables/tools.py:79: FutureWarning: The default of observed=False is deprecated and will be changed to True in a future version of pandas. Pass observed=False to retain current behavior or observed=True to adopt the future default and silence this warning.\n",
      "  return data \\\n",
      "/home/kantundpeterpan/projects/dataforgood/13_stopcyberviolence/main_repo/data_analyse/comparables/tools.py:41: FutureWarning: The default of observed=False is deprecated and will be changed to True in a future version of pandas. Pass observed=False to retain current behavior or observed=True to adopt the future default and silence this warning.\n",
      "  return data \\\n"
     ]
    },
    {
     "data": {
      "text/html": [
       "<div>\n",
       "<style scoped>\n",
       "    .dataframe tbody tr th:only-of-type {\n",
       "        vertical-align: middle;\n",
       "    }\n",
       "\n",
       "    .dataframe tbody tr th {\n",
       "        vertical-align: top;\n",
       "    }\n",
       "\n",
       "    .dataframe thead th {\n",
       "        text-align: right;\n",
       "    }\n",
       "</style>\n",
       "<table border=\"1\" class=\"dataframe\">\n",
       "  <thead>\n",
       "    <tr style=\"text-align: right;\">\n",
       "      <th></th>\n",
       "      <th>phat</th>\n",
       "      <th>std</th>\n",
       "      <th>LL</th>\n",
       "      <th>UL</th>\n",
       "    </tr>\n",
       "    <tr>\n",
       "      <th>age_group</th>\n",
       "      <th></th>\n",
       "      <th></th>\n",
       "      <th></th>\n",
       "      <th></th>\n",
       "    </tr>\n",
       "  </thead>\n",
       "  <tbody>\n",
       "    <tr>\n",
       "      <th>11-14</th>\n",
       "      <td>20.553</td>\n",
       "      <td>0.809</td>\n",
       "      <td>18.968</td>\n",
       "      <td>22.138</td>\n",
       "    </tr>\n",
       "    <tr>\n",
       "      <th>15-17</th>\n",
       "      <td>20.251</td>\n",
       "      <td>1.592</td>\n",
       "      <td>17.130</td>\n",
       "      <td>23.372</td>\n",
       "    </tr>\n",
       "  </tbody>\n",
       "</table>\n",
       "</div>"
      ],
      "text/plain": [
       "             phat    std      LL      UL\n",
       "age_group                               \n",
       "11-14      20.553  0.809  18.968  22.138\n",
       "15-17      20.251  1.592  17.130  23.372"
      ]
     },
     "execution_count": 39,
     "metadata": {},
     "output_type": "execute_result"
    }
   ],
   "source": [
    "dfg_tools.estimate_proportion(\n",
    "    tmp,\n",
    "    responses,\n",
    "    ['age_group']\n",
    ").loc[['11-14', '15-17']]"
   ]
  }
 ],
 "metadata": {
  "kernelspec": {
   "display_name": "frugalai",
   "language": "python",
   "name": "python3"
  },
  "language_info": {
   "codemirror_mode": {
    "name": "ipython",
    "version": 3
   },
   "file_extension": ".py",
   "mimetype": "text/x-python",
   "name": "python",
   "nbconvert_exporter": "python",
   "pygments_lexer": "ipython3",
   "version": "3.9.21"
  }
 },
 "nbformat": 4,
 "nbformat_minor": 4
}
