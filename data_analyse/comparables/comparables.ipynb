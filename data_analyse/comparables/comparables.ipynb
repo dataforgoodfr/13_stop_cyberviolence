{
 "cells": [
  {
   "cell_type": "markdown",
   "metadata": {},
   "source": [
    "# Imports"
   ]
  },
  {
   "cell_type": "code",
   "execution_count": 2,
   "metadata": {},
   "outputs": [],
   "source": [
    "import pandas as pd\n",
    "import numpy as np\n",
    "import datetime as dt\n",
    "import sys"
   ]
  },
  {
   "cell_type": "code",
   "execution_count": 3,
   "metadata": {},
   "outputs": [],
   "source": [
    "pd.set_option(\"display.precision\", 3)"
   ]
  },
  {
   "cell_type": "code",
   "execution_count": 4,
   "metadata": {},
   "outputs": [],
   "source": [
    "sys.path.append('.')"
   ]
  },
  {
   "cell_type": "code",
   "execution_count": 5,
   "metadata": {},
   "outputs": [],
   "source": [
    "import tools as dfg_tools"
   ]
  },
  {
   "cell_type": "code",
   "execution_count": 6,
   "metadata": {},
   "outputs": [],
   "source": [
    "from importlib import reload\n",
    "dfg_tools = reload(dfg_tools)"
   ]
  },
  {
   "cell_type": "markdown",
   "metadata": {},
   "source": [
    "# Load data"
   ]
  },
  {
   "cell_type": "code",
   "execution_count": 7,
   "metadata": {},
   "outputs": [],
   "source": [
    "eleves = pd.read_csv('../data/DIM_ELEVE.csv', parse_dates=['DATE_NAISSANCE'])"
   ]
  },
  {
   "cell_type": "code",
   "execution_count": 8,
   "metadata": {},
   "outputs": [
    {
     "name": "stdout",
     "output_type": "stream",
     "text": [
      "Index(['ID_ELEVE', 'GENRE', 'DATE_NAISSANCE'], dtype='object')\n",
      "(10000, 3)\n",
      "['f' 'm']\n"
     ]
    }
   ],
   "source": [
    "print(eleves.columns)\n",
    "print(eleves.shape)\n",
    "print(eleves.GENRE.unique())"
   ]
  },
  {
   "cell_type": "code",
   "execution_count": 9,
   "metadata": {},
   "outputs": [],
   "source": [
    "reponses = pd.read_csv('../data/FACT_REPONSE.csv', parse_dates=['DATE_TIME'])"
   ]
  },
  {
   "cell_type": "code",
   "execution_count": 10,
   "metadata": {},
   "outputs": [
    {
     "name": "stdout",
     "output_type": "stream",
     "text": [
      "Index(['ID_LOG', 'KEY_REPONSE', 'ID_REPONDANT', 'DATE_TIME'], dtype='object')\n",
      "(100000, 4)\n"
     ]
    }
   ],
   "source": [
    "print(reponses.columns)\n",
    "print(reponses.shape)"
   ]
  },
  {
   "cell_type": "markdown",
   "metadata": {},
   "source": [
    "# Data preparation"
   ]
  },
  {
   "cell_type": "code",
   "execution_count": 11,
   "metadata": {},
   "outputs": [],
   "source": [
    "merged = reponses.merge(\n",
    "    eleves, left_on = \"ID_REPONDANT\", right_on = \"ID_ELEVE\"\n",
    "    )"
   ]
  },
  {
   "cell_type": "code",
   "execution_count": 12,
   "metadata": {},
   "outputs": [],
   "source": [
    "merged['age_group'] = dfg_tools.discretize_age(merged)"
   ]
  },
  {
   "cell_type": "markdown",
   "metadata": {},
   "source": [
    "# Comparative data analysis"
   ]
  },
  {
   "cell_type": "markdown",
   "metadata": {},
   "source": [
    "## Cyberhate exposure - `M1_2` *vs.* `B_2_1_d`"
   ]
  },
  {
   "cell_type": "code",
   "execution_count": 13,
   "metadata": {},
   "outputs": [],
   "source": [
    "response = 'B_2_1_d'"
   ]
  },
  {
   "cell_type": "markdown",
   "metadata": {},
   "source": [
    "### Marginal exposure (Percentage of respondents)"
   ]
  },
  {
   "cell_type": "code",
   "execution_count": 14,
   "metadata": {},
   "outputs": [],
   "source": [
    "n_repondant = merged.ID_REPONDANT.unique().shape[0]"
   ]
  },
  {
   "cell_type": "code",
   "execution_count": 15,
   "metadata": {},
   "outputs": [
    {
     "data": {
      "text/plain": [
       "0.1298"
      ]
     },
     "execution_count": 15,
     "metadata": {},
     "output_type": "execute_result"
    }
   ],
   "source": [
    "tot_pct = reponses.KEY_REPONSE.value_counts()['B_2_1_d'] / n_repondant\n",
    "tot_pct"
   ]
  },
  {
   "cell_type": "code",
   "execution_count": 16,
   "metadata": {},
   "outputs": [
    {
     "data": {
      "text/plain": [
       "0.004752935093181896"
      ]
     },
     "execution_count": 16,
     "metadata": {},
     "output_type": "execute_result"
    }
   ],
   "source": [
    "std_tot_pct = np.sqrt((tot_pct * (1 - tot_pct)) / n_repondant)\n",
    "std_tot_pct"
   ]
  },
  {
   "cell_type": "code",
   "execution_count": 17,
   "metadata": {},
   "outputs": [],
   "source": [
    "ll, ul = tot_pct - 1.96 * std_tot_pct, tot_pct + 1.96 * std_tot_pct"
   ]
  },
  {
   "cell_type": "code",
   "execution_count": 18,
   "metadata": {},
   "outputs": [
    {
     "name": "stdout",
     "output_type": "stream",
     "text": [
      "12.98 [12.048, 13.912]\n"
     ]
    }
   ],
   "source": [
    "print(f\"{round(tot_pct*100, 3)} [{round(ll*100, 3)}, {round(ul*100, 3)}]\")"
   ]
  },
  {
   "cell_type": "code",
   "execution_count": 19,
   "metadata": {},
   "outputs": [],
   "source": [
    "import matplotlib.pyplot as plt"
   ]
  },
  {
   "cell_type": "code",
   "execution_count": 20,
   "metadata": {},
   "outputs": [],
   "source": [
    "import seaborn as sns"
   ]
  },
  {
   "cell_type": "code",
   "execution_count": 21,
   "metadata": {},
   "outputs": [],
   "source": [
    "sns.set()"
   ]
  },
  {
   "cell_type": "code",
   "execution_count": 22,
   "metadata": {},
   "outputs": [],
   "source": [
    "# plt.scatter(tot_pct, 1)\n",
    "# plt.scatter(0.24, 1)\n",
    "# plt.errorbar(tot_pct, 1, xerr=[(std_tot_pct,), (std_tot_pct,)])\n",
    "# plt.title(\"EUKO 2020 vs. STOPCyber\")"
   ]
  },
  {
   "cell_type": "markdown",
   "metadata": {},
   "source": [
    "### Stratified analysis"
   ]
  },
  {
   "cell_type": "markdown",
   "metadata": {},
   "source": [
    "#### By gender"
   ]
  },
  {
   "cell_type": "code",
   "execution_count": 23,
   "metadata": {},
   "outputs": [
    {
     "data": {
      "text/html": [
       "<div>\n",
       "<style scoped>\n",
       "    .dataframe tbody tr th:only-of-type {\n",
       "        vertical-align: middle;\n",
       "    }\n",
       "\n",
       "    .dataframe tbody tr th {\n",
       "        vertical-align: top;\n",
       "    }\n",
       "\n",
       "    .dataframe thead th {\n",
       "        text-align: right;\n",
       "    }\n",
       "</style>\n",
       "<table border=\"1\" class=\"dataframe\">\n",
       "  <thead>\n",
       "    <tr style=\"text-align: right;\">\n",
       "      <th></th>\n",
       "      <th>phat</th>\n",
       "      <th>std</th>\n",
       "      <th>LL</th>\n",
       "      <th>UL</th>\n",
       "    </tr>\n",
       "    <tr>\n",
       "      <th>GENRE</th>\n",
       "      <th></th>\n",
       "      <th></th>\n",
       "      <th></th>\n",
       "      <th></th>\n",
       "    </tr>\n",
       "  </thead>\n",
       "  <tbody>\n",
       "    <tr>\n",
       "      <th>f</th>\n",
       "      <td>22.245</td>\n",
       "      <td>0.842</td>\n",
       "      <td>20.595</td>\n",
       "      <td>23.895</td>\n",
       "    </tr>\n",
       "    <tr>\n",
       "      <th>m</th>\n",
       "      <td>22.118</td>\n",
       "      <td>0.820</td>\n",
       "      <td>20.510</td>\n",
       "      <td>23.726</td>\n",
       "    </tr>\n",
       "  </tbody>\n",
       "</table>\n",
       "</div>"
      ],
      "text/plain": [
       "         phat    std      LL      UL\n",
       "GENRE                               \n",
       "f      22.245  0.842  20.595  23.895\n",
       "m      22.118  0.820  20.510  23.726"
      ]
     },
     "execution_count": 23,
     "metadata": {},
     "output_type": "execute_result"
    }
   ],
   "source": [
    "hate_per_gender = dfg_tools.estimate_proportion(\n",
    "    merged,\n",
    "    [response, 'B_2_1_c'],\n",
    "    ['GENRE'], variance_est = 'clt'\n",
    ")\n",
    "hate_per_gender"
   ]
  },
  {
   "cell_type": "code",
   "execution_count": 24,
   "metadata": {},
   "outputs": [],
   "source": [
    "# plt.scatter(\n",
    "#     hate_per_gender.phat, [0.25, 0.75],\n",
    "#     c = [\"darkblue\", \"salmon\"], s = 100, zorder = 10\n",
    "#     )\n",
    "\n",
    "# plt.errorbar(\n",
    "#     hate_per_gender.phat,\n",
    "#     [.25, .75],\n",
    "#     color = \"black\",\n",
    "#     xerr=[hate_per_gender['std']*1.96]*2,\n",
    "#     linestyle = 'none'\n",
    "# )\n",
    "\n",
    "# plt.title(\"EUKO 2020 vs. STOPCyber\")"
   ]
  },
  {
   "cell_type": "markdown",
   "metadata": {},
   "source": [
    "#### By age"
   ]
  },
  {
   "cell_type": "code",
   "execution_count": 25,
   "metadata": {},
   "outputs": [
    {
     "name": "stderr",
     "output_type": "stream",
     "text": [
      "/home/kantundpeterpan/projects/dataforgood/13_stopcyberviolence/repo/data_analyse/comparables/tools.py:81: FutureWarning: The default of observed=False is deprecated and will be changed to True in a future version of pandas. Pass observed=False to retain current behavior or observed=True to adopt the future default and silence this warning.\n",
      "  return data \\\n",
      "/home/kantundpeterpan/projects/dataforgood/13_stopcyberviolence/repo/data_analyse/comparables/tools.py:43: FutureWarning: The default of observed=False is deprecated and will be changed to True in a future version of pandas. Pass observed=False to retain current behavior or observed=True to adopt the future default and silence this warning.\n",
      "  return data \\\n"
     ]
    },
    {
     "data": {
      "text/html": [
       "<div>\n",
       "<style scoped>\n",
       "    .dataframe tbody tr th:only-of-type {\n",
       "        vertical-align: middle;\n",
       "    }\n",
       "\n",
       "    .dataframe tbody tr th {\n",
       "        vertical-align: top;\n",
       "    }\n",
       "\n",
       "    .dataframe thead th {\n",
       "        text-align: right;\n",
       "    }\n",
       "</style>\n",
       "<table border=\"1\" class=\"dataframe\">\n",
       "  <thead>\n",
       "    <tr style=\"text-align: right;\">\n",
       "      <th></th>\n",
       "      <th>phat</th>\n",
       "      <th>std</th>\n",
       "      <th>LL</th>\n",
       "      <th>UL</th>\n",
       "    </tr>\n",
       "    <tr>\n",
       "      <th>age_group</th>\n",
       "      <th></th>\n",
       "      <th></th>\n",
       "      <th></th>\n",
       "      <th></th>\n",
       "    </tr>\n",
       "  </thead>\n",
       "  <tbody>\n",
       "    <tr>\n",
       "      <th>11-12</th>\n",
       "      <td>12.313</td>\n",
       "      <td>0.948</td>\n",
       "      <td>10.554</td>\n",
       "      <td>14.248</td>\n",
       "    </tr>\n",
       "    <tr>\n",
       "      <th>13-14</th>\n",
       "      <td>11.060</td>\n",
       "      <td>1.003</td>\n",
       "      <td>9.124</td>\n",
       "      <td>13.180</td>\n",
       "    </tr>\n",
       "    <tr>\n",
       "      <th>15-17</th>\n",
       "      <td>11.797</td>\n",
       "      <td>0.994</td>\n",
       "      <td>9.862</td>\n",
       "      <td>13.825</td>\n",
       "    </tr>\n",
       "  </tbody>\n",
       "</table>\n",
       "</div>"
      ],
      "text/plain": [
       "             phat    std      LL      UL\n",
       "age_group                               \n",
       "11-12      12.313  0.948  10.554  14.248\n",
       "13-14      11.060  1.003   9.124  13.180\n",
       "15-17      11.797  0.994   9.862  13.825"
      ]
     },
     "execution_count": 25,
     "metadata": {},
     "output_type": "execute_result"
    }
   ],
   "source": [
    "hate_per_age = dfg_tools.estimate_proportion(\n",
    "    merged,\n",
    "    response,\n",
    "    ['age_group'],\n",
    "    variance_est = 'bootstrap'\n",
    ").loc[['11-12', '13-14', '15-17']]\n",
    "hate_per_age"
   ]
  },
  {
   "cell_type": "code",
   "execution_count": 26,
   "metadata": {},
   "outputs": [],
   "source": [
    "# y = [i*0.5*(1/3) for i in range(3)]\n",
    "# plt.scatter(\n",
    "#     hate_per_age.phat, y,\n",
    "#     c = [\"darkblue\", \"salmon\", \"chartreuse\"], s = 100,\n",
    "#     zorder = 10\n",
    "#     )\n",
    "\n",
    "# plt.errorbar(\n",
    "#     hate_per_age.phat,\n",
    "#     y,\n",
    "#     color = \"black\",\n",
    "#     xerr=[hate_per_age['std']*1.96]*2,\n",
    "#     linestyle = 'none', capsize = 4\n",
    "# )\n",
    "\n",
    "# plt.title(\"EUKO 2020 vs. STOPCyber\")\n",
    "# plt.yticks(y,\n",
    "#            hate_per_age.index)\n",
    "# # plt.ylabel([])\n",
    "# plt.grid([])"
   ]
  },
  {
   "cell_type": "markdown",
   "metadata": {},
   "source": [
    "#### By gender and age"
   ]
  },
  {
   "cell_type": "code",
   "execution_count": 27,
   "metadata": {},
   "outputs": [],
   "source": [
    "tmp = merged.copy()\n",
    "\n",
    "# discretize age with different bins\n",
    "bins =  [0, 11, 15, 17, 99]\n",
    "labels = ['0-11', '11-14', '15-17', '>17']\n",
    "\n",
    "tmp['age_group'] = dfg_tools.discretize_age(\n",
    "    tmp, bins = bins, labels = labels\n",
    ")"
   ]
  },
  {
   "cell_type": "code",
   "execution_count": 28,
   "metadata": {},
   "outputs": [
    {
     "name": "stderr",
     "output_type": "stream",
     "text": [
      "/home/kantundpeterpan/projects/dataforgood/13_stopcyberviolence/repo/data_analyse/comparables/tools.py:81: FutureWarning: The default of observed=False is deprecated and will be changed to True in a future version of pandas. Pass observed=False to retain current behavior or observed=True to adopt the future default and silence this warning.\n",
      "  return data \\\n",
      "/home/kantundpeterpan/projects/dataforgood/13_stopcyberviolence/repo/data_analyse/comparables/tools.py:43: FutureWarning: The default of observed=False is deprecated and will be changed to True in a future version of pandas. Pass observed=False to retain current behavior or observed=True to adopt the future default and silence this warning.\n",
      "  return data \\\n"
     ]
    },
    {
     "data": {
      "text/html": [
       "<div>\n",
       "<style scoped>\n",
       "    .dataframe tbody tr th:only-of-type {\n",
       "        vertical-align: middle;\n",
       "    }\n",
       "\n",
       "    .dataframe tbody tr th {\n",
       "        vertical-align: top;\n",
       "    }\n",
       "\n",
       "    .dataframe thead th {\n",
       "        text-align: right;\n",
       "    }\n",
       "</style>\n",
       "<table border=\"1\" class=\"dataframe\">\n",
       "  <thead>\n",
       "    <tr style=\"text-align: right;\">\n",
       "      <th></th>\n",
       "      <th></th>\n",
       "      <th>phat</th>\n",
       "      <th>std</th>\n",
       "      <th>LL</th>\n",
       "      <th>UL</th>\n",
       "    </tr>\n",
       "    <tr>\n",
       "      <th>age_group</th>\n",
       "      <th>GENRE</th>\n",
       "      <th></th>\n",
       "      <th></th>\n",
       "      <th></th>\n",
       "      <th></th>\n",
       "    </tr>\n",
       "  </thead>\n",
       "  <tbody>\n",
       "    <tr>\n",
       "      <th rowspan=\"2\" valign=\"top\">11-14</th>\n",
       "      <th>f</th>\n",
       "      <td>12.071</td>\n",
       "      <td>0.999</td>\n",
       "      <td>10.211</td>\n",
       "      <td>14.020</td>\n",
       "    </tr>\n",
       "    <tr>\n",
       "      <th>m</th>\n",
       "      <td>11.354</td>\n",
       "      <td>0.918</td>\n",
       "      <td>9.605</td>\n",
       "      <td>13.275</td>\n",
       "    </tr>\n",
       "    <tr>\n",
       "      <th rowspan=\"2\" valign=\"top\">15-17</th>\n",
       "      <th>f</th>\n",
       "      <td>11.324</td>\n",
       "      <td>1.373</td>\n",
       "      <td>8.637</td>\n",
       "      <td>14.203</td>\n",
       "    </tr>\n",
       "    <tr>\n",
       "      <th>m</th>\n",
       "      <td>12.234</td>\n",
       "      <td>1.357</td>\n",
       "      <td>9.752</td>\n",
       "      <td>14.894</td>\n",
       "    </tr>\n",
       "  </tbody>\n",
       "</table>\n",
       "</div>"
      ],
      "text/plain": [
       "                   phat    std      LL      UL\n",
       "age_group GENRE                               \n",
       "11-14     f      12.071  0.999  10.211  14.020\n",
       "          m      11.354  0.918   9.605  13.275\n",
       "15-17     f      11.324  1.373   8.637  14.203\n",
       "          m      12.234  1.357   9.752  14.894"
      ]
     },
     "execution_count": 28,
     "metadata": {},
     "output_type": "execute_result"
    }
   ],
   "source": [
    "dfg_tools.estimate_proportion(\n",
    "    tmp,\n",
    "    response,\n",
    "    ['age_group', 'GENRE'], variance_est = \"bootstrap\"\n",
    ").loc[['11-14', '15-17']]"
   ]
  },
  {
   "cell_type": "markdown",
   "metadata": {},
   "source": [
    "## Cyberhate victimization"
   ]
  },
  {
   "cell_type": "markdown",
   "metadata": {},
   "source": [
    "Definition cyberhate victimization: Avoir repondu au moins un des items suivants:\n",
    "\n",
    "- `C_2_1_a`\n",
    "- `C_2_1_b`\n",
    "- `C_2_1_d`\n",
    "- `C_2_1_e`"
   ]
  },
  {
   "cell_type": "code",
   "execution_count": 29,
   "metadata": {},
   "outputs": [],
   "source": [
    "responses = [\n",
    "    'C_2_1_a',\n",
    "    'C_2_1_b',\n",
    "    'C_2_1_d',\n",
    "    'C_2_1_e' \n",
    "]"
   ]
  },
  {
   "cell_type": "markdown",
   "metadata": {},
   "source": [
    "### Marginal proportion"
   ]
  },
  {
   "cell_type": "code",
   "execution_count": 30,
   "metadata": {},
   "outputs": [
    {
     "data": {
      "text/plain": [
       "1871"
      ]
     },
     "execution_count": 30,
     "metadata": {},
     "output_type": "execute_result"
    }
   ],
   "source": [
    "merged.query(\"KEY_REPONSE in @responses\").ID_REPONDANT.unique().shape[0]"
   ]
  },
  {
   "cell_type": "code",
   "execution_count": 31,
   "metadata": {},
   "outputs": [
    {
     "data": {
      "text/plain": [
       "0.3742"
      ]
     },
     "execution_count": 31,
     "metadata": {},
     "output_type": "execute_result"
    }
   ],
   "source": [
    "merged.query(\"KEY_REPONSE in @responses\").ID_REPONDANT.unique().shape[0] / n_repondant"
   ]
  },
  {
   "cell_type": "markdown",
   "metadata": {},
   "source": [
    "### Stratified analysis"
   ]
  },
  {
   "cell_type": "code",
   "execution_count": 32,
   "metadata": {},
   "outputs": [],
   "source": [
    "tmp = merged.copy()\n",
    "\n",
    "# discretize age with different bins\n",
    "bins =  [0, 11, 15, 17, 99]\n",
    "labels = ['0-11', '11-14', '15-17', '>17']\n",
    "\n",
    "tmp['age_group'] = dfg_tools.discretize_age(\n",
    "    tmp, bins = bins, labels = labels\n",
    ")"
   ]
  },
  {
   "cell_type": "markdown",
   "metadata": {},
   "source": [
    "#### By gender"
   ]
  },
  {
   "cell_type": "code",
   "execution_count": 33,
   "metadata": {},
   "outputs": [
    {
     "data": {
      "text/html": [
       "<div>\n",
       "<style scoped>\n",
       "    .dataframe tbody tr th:only-of-type {\n",
       "        vertical-align: middle;\n",
       "    }\n",
       "\n",
       "    .dataframe tbody tr th {\n",
       "        vertical-align: top;\n",
       "    }\n",
       "\n",
       "    .dataframe thead th {\n",
       "        text-align: right;\n",
       "    }\n",
       "</style>\n",
       "<table border=\"1\" class=\"dataframe\">\n",
       "  <thead>\n",
       "    <tr style=\"text-align: right;\">\n",
       "      <th></th>\n",
       "      <th>phat</th>\n",
       "      <th>std</th>\n",
       "      <th>LL</th>\n",
       "      <th>UL</th>\n",
       "    </tr>\n",
       "    <tr>\n",
       "      <th>GENRE</th>\n",
       "      <th></th>\n",
       "      <th></th>\n",
       "      <th></th>\n",
       "      <th></th>\n",
       "    </tr>\n",
       "  </thead>\n",
       "  <tbody>\n",
       "    <tr>\n",
       "      <th>f</th>\n",
       "      <td>39.041</td>\n",
       "      <td>0.987</td>\n",
       "      <td>37.106</td>\n",
       "      <td>40.977</td>\n",
       "    </tr>\n",
       "    <tr>\n",
       "      <th>m</th>\n",
       "      <td>35.873</td>\n",
       "      <td>0.948</td>\n",
       "      <td>34.015</td>\n",
       "      <td>37.732</td>\n",
       "    </tr>\n",
       "  </tbody>\n",
       "</table>\n",
       "</div>"
      ],
      "text/plain": [
       "         phat    std      LL      UL\n",
       "GENRE                               \n",
       "f      39.041  0.987  37.106  40.977\n",
       "m      35.873  0.948  34.015  37.732"
      ]
     },
     "execution_count": 33,
     "metadata": {},
     "output_type": "execute_result"
    }
   ],
   "source": [
    "dfg_tools.estimate_proportion(\n",
    "    tmp,\n",
    "    responses,\n",
    "    [\"GENRE\"]\n",
    ")"
   ]
  },
  {
   "cell_type": "markdown",
   "metadata": {},
   "source": [
    "### By age"
   ]
  },
  {
   "cell_type": "code",
   "execution_count": 34,
   "metadata": {},
   "outputs": [
    {
     "name": "stderr",
     "output_type": "stream",
     "text": [
      "/home/kantundpeterpan/projects/dataforgood/13_stopcyberviolence/repo/data_analyse/comparables/tools.py:81: FutureWarning: The default of observed=False is deprecated and will be changed to True in a future version of pandas. Pass observed=False to retain current behavior or observed=True to adopt the future default and silence this warning.\n",
      "  return data \\\n",
      "/home/kantundpeterpan/projects/dataforgood/13_stopcyberviolence/repo/data_analyse/comparables/tools.py:43: FutureWarning: The default of observed=False is deprecated and will be changed to True in a future version of pandas. Pass observed=False to retain current behavior or observed=True to adopt the future default and silence this warning.\n",
      "  return data \\\n"
     ]
    },
    {
     "data": {
      "text/html": [
       "<div>\n",
       "<style scoped>\n",
       "    .dataframe tbody tr th:only-of-type {\n",
       "        vertical-align: middle;\n",
       "    }\n",
       "\n",
       "    .dataframe tbody tr th {\n",
       "        vertical-align: top;\n",
       "    }\n",
       "\n",
       "    .dataframe thead th {\n",
       "        text-align: right;\n",
       "    }\n",
       "</style>\n",
       "<table border=\"1\" class=\"dataframe\">\n",
       "  <thead>\n",
       "    <tr style=\"text-align: right;\">\n",
       "      <th></th>\n",
       "      <th>phat</th>\n",
       "      <th>std</th>\n",
       "      <th>LL</th>\n",
       "      <th>UL</th>\n",
       "    </tr>\n",
       "    <tr>\n",
       "      <th>age_group</th>\n",
       "      <th></th>\n",
       "      <th></th>\n",
       "      <th></th>\n",
       "      <th></th>\n",
       "    </tr>\n",
       "  </thead>\n",
       "  <tbody>\n",
       "    <tr>\n",
       "      <th>11-14</th>\n",
       "      <td>37.714</td>\n",
       "      <td>1.028</td>\n",
       "      <td>35.699</td>\n",
       "      <td>39.729</td>\n",
       "    </tr>\n",
       "    <tr>\n",
       "      <th>15-17</th>\n",
       "      <td>35.300</td>\n",
       "      <td>1.451</td>\n",
       "      <td>32.456</td>\n",
       "      <td>38.143</td>\n",
       "    </tr>\n",
       "  </tbody>\n",
       "</table>\n",
       "</div>"
      ],
      "text/plain": [
       "             phat    std      LL      UL\n",
       "age_group                               \n",
       "11-14      37.714  1.028  35.699  39.729\n",
       "15-17      35.300  1.451  32.456  38.143"
      ]
     },
     "execution_count": 34,
     "metadata": {},
     "output_type": "execute_result"
    }
   ],
   "source": [
    "dfg_tools.estimate_proportion(\n",
    "    tmp,\n",
    "    responses,\n",
    "    ['age_group']\n",
    ").loc[['11-14', '15-17']]"
   ]
  },
  {
   "cell_type": "markdown",
   "metadata": {},
   "source": [
    "## Cyberaggression"
   ]
  },
  {
   "cell_type": "markdown",
   "metadata": {},
   "source": [
    "Definition cyberhate victimization: Avoir repondu au moins un des items suivants:\n",
    "\n",
    "- `C_1_2_a`\n",
    "- `C_1_2_b`"
   ]
  },
  {
   "cell_type": "code",
   "execution_count": 35,
   "metadata": {},
   "outputs": [],
   "source": [
    "responses = [\n",
    "    'C_1_2_a',\n",
    "    'C_1_2_b' \n",
    "]"
   ]
  },
  {
   "cell_type": "markdown",
   "metadata": {},
   "source": [
    "### Marginal proportion"
   ]
  },
  {
   "cell_type": "code",
   "execution_count": 36,
   "metadata": {},
   "outputs": [
    {
     "data": {
      "text/plain": [
       "1048"
      ]
     },
     "execution_count": 36,
     "metadata": {},
     "output_type": "execute_result"
    }
   ],
   "source": [
    "merged.query(\"KEY_REPONSE in @responses\").ID_REPONDANT.unique().shape[0]"
   ]
  },
  {
   "cell_type": "code",
   "execution_count": 37,
   "metadata": {},
   "outputs": [
    {
     "data": {
      "text/plain": [
       "0.2096"
      ]
     },
     "execution_count": 37,
     "metadata": {},
     "output_type": "execute_result"
    }
   ],
   "source": [
    "merged.query(\"KEY_REPONSE in @responses\").ID_REPONDANT.unique().shape[0] / n_repondant"
   ]
  },
  {
   "cell_type": "markdown",
   "metadata": {},
   "source": [
    "### Stratified analysis"
   ]
  },
  {
   "cell_type": "code",
   "execution_count": 38,
   "metadata": {},
   "outputs": [],
   "source": [
    "tmp = merged.copy()\n",
    "\n",
    "# discretize age with different bins\n",
    "bins =  [0, 11, 15, 17, 99]\n",
    "labels = ['0-11', '11-14', '15-17', '>17']\n",
    "\n",
    "tmp['age_group'] = dfg_tools.discretize_age(\n",
    "    tmp, bins = bins, labels = labels\n",
    ")"
   ]
  },
  {
   "cell_type": "markdown",
   "metadata": {},
   "source": [
    "#### By gender"
   ]
  },
  {
   "cell_type": "code",
   "execution_count": 39,
   "metadata": {},
   "outputs": [
    {
     "data": {
      "text/html": [
       "<div>\n",
       "<style scoped>\n",
       "    .dataframe tbody tr th:only-of-type {\n",
       "        vertical-align: middle;\n",
       "    }\n",
       "\n",
       "    .dataframe tbody tr th {\n",
       "        vertical-align: top;\n",
       "    }\n",
       "\n",
       "    .dataframe thead th {\n",
       "        text-align: right;\n",
       "    }\n",
       "</style>\n",
       "<table border=\"1\" class=\"dataframe\">\n",
       "  <thead>\n",
       "    <tr style=\"text-align: right;\">\n",
       "      <th></th>\n",
       "      <th>phat</th>\n",
       "      <th>std</th>\n",
       "      <th>LL</th>\n",
       "      <th>UL</th>\n",
       "    </tr>\n",
       "    <tr>\n",
       "      <th>GENRE</th>\n",
       "      <th></th>\n",
       "      <th></th>\n",
       "      <th></th>\n",
       "      <th></th>\n",
       "    </tr>\n",
       "  </thead>\n",
       "  <tbody>\n",
       "    <tr>\n",
       "      <th>f</th>\n",
       "      <td>21.59</td>\n",
       "      <td>0.833</td>\n",
       "      <td>19.957</td>\n",
       "      <td>23.222</td>\n",
       "    </tr>\n",
       "    <tr>\n",
       "      <th>m</th>\n",
       "      <td>20.36</td>\n",
       "      <td>0.796</td>\n",
       "      <td>18.799</td>\n",
       "      <td>21.920</td>\n",
       "    </tr>\n",
       "  </tbody>\n",
       "</table>\n",
       "</div>"
      ],
      "text/plain": [
       "        phat    std      LL      UL\n",
       "GENRE                              \n",
       "f      21.59  0.833  19.957  23.222\n",
       "m      20.36  0.796  18.799  21.920"
      ]
     },
     "execution_count": 39,
     "metadata": {},
     "output_type": "execute_result"
    }
   ],
   "source": [
    "dfg_tools.estimate_proportion(\n",
    "    tmp,\n",
    "    responses,\n",
    "    [\"GENRE\"]\n",
    ")"
   ]
  },
  {
   "cell_type": "markdown",
   "metadata": {},
   "source": [
    "### By age"
   ]
  },
  {
   "cell_type": "code",
   "execution_count": 40,
   "metadata": {},
   "outputs": [
    {
     "name": "stderr",
     "output_type": "stream",
     "text": [
      "/home/kantundpeterpan/projects/dataforgood/13_stopcyberviolence/repo/data_analyse/comparables/tools.py:81: FutureWarning: The default of observed=False is deprecated and will be changed to True in a future version of pandas. Pass observed=False to retain current behavior or observed=True to adopt the future default and silence this warning.\n",
      "  return data \\\n",
      "/home/kantundpeterpan/projects/dataforgood/13_stopcyberviolence/repo/data_analyse/comparables/tools.py:43: FutureWarning: The default of observed=False is deprecated and will be changed to True in a future version of pandas. Pass observed=False to retain current behavior or observed=True to adopt the future default and silence this warning.\n",
      "  return data \\\n"
     ]
    },
    {
     "data": {
      "text/html": [
       "<div>\n",
       "<style scoped>\n",
       "    .dataframe tbody tr th:only-of-type {\n",
       "        vertical-align: middle;\n",
       "    }\n",
       "\n",
       "    .dataframe tbody tr th {\n",
       "        vertical-align: top;\n",
       "    }\n",
       "\n",
       "    .dataframe thead th {\n",
       "        text-align: right;\n",
       "    }\n",
       "</style>\n",
       "<table border=\"1\" class=\"dataframe\">\n",
       "  <thead>\n",
       "    <tr style=\"text-align: right;\">\n",
       "      <th></th>\n",
       "      <th>phat</th>\n",
       "      <th>std</th>\n",
       "      <th>LL</th>\n",
       "      <th>UL</th>\n",
       "    </tr>\n",
       "    <tr>\n",
       "      <th>age_group</th>\n",
       "      <th></th>\n",
       "      <th></th>\n",
       "      <th></th>\n",
       "      <th></th>\n",
       "    </tr>\n",
       "  </thead>\n",
       "  <tbody>\n",
       "    <tr>\n",
       "      <th>11-14</th>\n",
       "      <td>20.612</td>\n",
       "      <td>0.858</td>\n",
       "      <td>18.930</td>\n",
       "      <td>22.294</td>\n",
       "    </tr>\n",
       "    <tr>\n",
       "      <th>15-17</th>\n",
       "      <td>22.396</td>\n",
       "      <td>1.266</td>\n",
       "      <td>19.916</td>\n",
       "      <td>24.877</td>\n",
       "    </tr>\n",
       "  </tbody>\n",
       "</table>\n",
       "</div>"
      ],
      "text/plain": [
       "             phat    std      LL      UL\n",
       "age_group                               \n",
       "11-14      20.612  0.858  18.930  22.294\n",
       "15-17      22.396  1.266  19.916  24.877"
      ]
     },
     "execution_count": 40,
     "metadata": {},
     "output_type": "execute_result"
    }
   ],
   "source": [
    "dfg_tools.estimate_proportion(\n",
    "    tmp,\n",
    "    responses,\n",
    "    ['age_group']\n",
    ").loc[['11-14', '15-17']]"
   ]
  }
 ],
 "metadata": {
  "kernelspec": {
   "display_name": "frugalai",
   "language": "python",
   "name": "python3"
  },
  "language_info": {
   "codemirror_mode": {
    "name": "ipython",
    "version": 3
   },
   "file_extension": ".py",
   "mimetype": "text/x-python",
   "name": "python",
   "nbconvert_exporter": "python",
   "pygments_lexer": "ipython3",
   "version": "3.9.21"
  }
 },
 "nbformat": 4,
 "nbformat_minor": 4
}
