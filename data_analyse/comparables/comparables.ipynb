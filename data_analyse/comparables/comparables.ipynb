{
 "cells": [
  {
   "cell_type": "code",
   "execution_count": 24,
   "metadata": {},
   "outputs": [],
   "source": [
    "import pandas as pd\n",
    "import datetime as dt"
   ]
  },
  {
   "cell_type": "code",
   "execution_count": 25,
   "metadata": {},
   "outputs": [],
   "source": [
    "eleves = pd.read_csv('../data/DIM_ELEVE.csv', parse_dates=['DATE_NAISSANCE'])"
   ]
  },
  {
   "cell_type": "code",
   "execution_count": 26,
   "metadata": {},
   "outputs": [
    {
     "name": "stdout",
     "output_type": "stream",
     "text": [
      "Index(['ID_ELEVE', 'GENRE', 'DATE_NAISSANCE', 'ID_CLASSE'], dtype='object')\n",
      "(10000, 4)\n",
      "['m' 'f']\n"
     ]
    }
   ],
   "source": [
    "print(eleves.columns)\n",
    "print(eleves.shape)\n",
    "print(eleves.GENRE.unique())"
   ]
  },
  {
   "cell_type": "code",
   "execution_count": 27,
   "metadata": {},
   "outputs": [],
   "source": [
    "dist_genre = eleves.groupby('GENRE').count()['ID_ELEVE']"
   ]
  },
  {
   "cell_type": "code",
   "execution_count": 28,
   "metadata": {},
   "outputs": [],
   "source": [
    "reponses = pd.read_csv('../data/FACT_REPONSE.csv', parse_dates=['DATE_TIME'])"
   ]
  },
  {
   "cell_type": "code",
   "execution_count": 29,
   "metadata": {},
   "outputs": [
    {
     "name": "stdout",
     "output_type": "stream",
     "text": [
      "Index(['ID_LOG', 'KEY_REPONSE', 'ID_REPONDANT', 'DATE_TIME'], dtype='object')\n",
      "(100000, 4)\n"
     ]
    }
   ],
   "source": [
    "print(reponses.columns)\n",
    "print(reponses.shape)"
   ]
  },
  {
   "cell_type": "code",
   "execution_count": 30,
   "metadata": {},
   "outputs": [
    {
     "data": {
      "text/plain": [
       "Index(['ID_LOG', 'KEY_REPONSE', 'ID_REPONDANT', 'DATE_TIME'], dtype='object')"
      ]
     },
     "execution_count": 30,
     "metadata": {},
     "output_type": "execute_result"
    }
   ],
   "source": [
    "reponses.columns"
   ]
  },
  {
   "cell_type": "code",
   "execution_count": 31,
   "metadata": {},
   "outputs": [],
   "source": [
    "merged = reponses.merge(\n",
    "    eleves, left_on = \"ID_REPONDANT\", right_on = \"ID_ELEVE\"\n",
    "    )"
   ]
  },
  {
   "cell_type": "code",
   "execution_count": 32,
   "metadata": {},
   "outputs": [],
   "source": [
    "merged['age_group'] = pd.cut(\n",
    "    # delta t annees\n",
    "    (merged.DATE_TIME - merged.DATE_NAISSANCE).dt.days // 365.2425,\n",
    "    bins = [0, 11, 13, 15, 17, 99],\n",
    "    labels = ['0-11', '11-12', '13-14', '15-17', '>17'],\n",
    "    right = False\n",
    ")"
   ]
  },
  {
   "cell_type": "code",
   "execution_count": 33,
   "metadata": {},
   "outputs": [
    {
     "name": "stderr",
     "output_type": "stream",
     "text": [
      "/tmp/ipykernel_1670987/2799898231.py:1: FutureWarning: The default of observed=False is deprecated and will be changed to True in a future version of pandas. Pass observed=False to retain current behavior or observed=True to adopt the future default and silence this warning.\n",
      "  merged.groupby(\"age_group\").count()\n"
     ]
    },
    {
     "data": {
      "text/html": [
       "<div>\n",
       "<style scoped>\n",
       "    .dataframe tbody tr th:only-of-type {\n",
       "        vertical-align: middle;\n",
       "    }\n",
       "\n",
       "    .dataframe tbody tr th {\n",
       "        vertical-align: top;\n",
       "    }\n",
       "\n",
       "    .dataframe thead th {\n",
       "        text-align: right;\n",
       "    }\n",
       "</style>\n",
       "<table border=\"1\" class=\"dataframe\">\n",
       "  <thead>\n",
       "    <tr style=\"text-align: right;\">\n",
       "      <th></th>\n",
       "      <th>ID_LOG</th>\n",
       "      <th>KEY_REPONSE</th>\n",
       "      <th>ID_REPONDANT</th>\n",
       "      <th>DATE_TIME</th>\n",
       "      <th>ID_ELEVE</th>\n",
       "      <th>GENRE</th>\n",
       "      <th>DATE_NAISSANCE</th>\n",
       "      <th>ID_CLASSE</th>\n",
       "    </tr>\n",
       "    <tr>\n",
       "      <th>age_group</th>\n",
       "      <th></th>\n",
       "      <th></th>\n",
       "      <th></th>\n",
       "      <th></th>\n",
       "      <th></th>\n",
       "      <th></th>\n",
       "      <th></th>\n",
       "      <th></th>\n",
       "    </tr>\n",
       "  </thead>\n",
       "  <tbody>\n",
       "    <tr>\n",
       "      <th>0-11</th>\n",
       "      <td>34211</td>\n",
       "      <td>34211</td>\n",
       "      <td>34211</td>\n",
       "      <td>34211</td>\n",
       "      <td>34211</td>\n",
       "      <td>34211</td>\n",
       "      <td>34211</td>\n",
       "      <td>34211</td>\n",
       "    </tr>\n",
       "    <tr>\n",
       "      <th>11-12</th>\n",
       "      <td>21915</td>\n",
       "      <td>21915</td>\n",
       "      <td>21915</td>\n",
       "      <td>21915</td>\n",
       "      <td>21915</td>\n",
       "      <td>21915</td>\n",
       "      <td>21915</td>\n",
       "      <td>21915</td>\n",
       "    </tr>\n",
       "    <tr>\n",
       "      <th>13-14</th>\n",
       "      <td>21440</td>\n",
       "      <td>21440</td>\n",
       "      <td>21440</td>\n",
       "      <td>21440</td>\n",
       "      <td>21440</td>\n",
       "      <td>21440</td>\n",
       "      <td>21440</td>\n",
       "      <td>21440</td>\n",
       "    </tr>\n",
       "    <tr>\n",
       "      <th>15-17</th>\n",
       "      <td>22434</td>\n",
       "      <td>22434</td>\n",
       "      <td>22434</td>\n",
       "      <td>22434</td>\n",
       "      <td>22434</td>\n",
       "      <td>22434</td>\n",
       "      <td>22434</td>\n",
       "      <td>22434</td>\n",
       "    </tr>\n",
       "    <tr>\n",
       "      <th>&gt;17</th>\n",
       "      <td>0</td>\n",
       "      <td>0</td>\n",
       "      <td>0</td>\n",
       "      <td>0</td>\n",
       "      <td>0</td>\n",
       "      <td>0</td>\n",
       "      <td>0</td>\n",
       "      <td>0</td>\n",
       "    </tr>\n",
       "  </tbody>\n",
       "</table>\n",
       "</div>"
      ],
      "text/plain": [
       "           ID_LOG  KEY_REPONSE  ID_REPONDANT  DATE_TIME  ID_ELEVE  GENRE  \\\n",
       "age_group                                                                  \n",
       "0-11        34211        34211         34211      34211     34211  34211   \n",
       "11-12       21915        21915         21915      21915     21915  21915   \n",
       "13-14       21440        21440         21440      21440     21440  21440   \n",
       "15-17       22434        22434         22434      22434     22434  22434   \n",
       ">17             0            0             0          0         0      0   \n",
       "\n",
       "           DATE_NAISSANCE  ID_CLASSE  \n",
       "age_group                             \n",
       "0-11                34211      34211  \n",
       "11-12               21915      21915  \n",
       "13-14               21440      21440  \n",
       "15-17               22434      22434  \n",
       ">17                     0          0  "
      ]
     },
     "execution_count": 33,
     "metadata": {},
     "output_type": "execute_result"
    }
   ],
   "source": [
    "merged.groupby(\"age_group\").count()"
   ]
  },
  {
   "cell_type": "code",
   "execution_count": 34,
   "metadata": {},
   "outputs": [],
   "source": [
    "n_eleves = eleves.shape[0]"
   ]
  },
  {
   "cell_type": "code",
   "execution_count": 35,
   "metadata": {},
   "outputs": [
    {
     "data": {
      "text/plain": [
       "0.0608"
      ]
     },
     "execution_count": 35,
     "metadata": {},
     "output_type": "execute_result"
    }
   ],
   "source": [
    "reponses.KEY_REPONSE.value_counts()['B_2_1_d'] / n_eleves"
   ]
  },
  {
   "cell_type": "code",
   "execution_count": 36,
   "metadata": {},
   "outputs": [
    {
     "data": {
      "text/plain": [
       "GENRE\n",
       "f    0.060870\n",
       "m    0.060732\n",
       "dtype: float64"
      ]
     },
     "execution_count": 36,
     "metadata": {},
     "output_type": "execute_result"
    }
   ],
   "source": [
    "merged.loc[merged.KEY_REPONSE == 'B_2_1_d'].groupby(\"GENRE\").count()['ID_LOG'] / dist_genre"
   ]
  },
  {
   "cell_type": "code",
   "execution_count": 37,
   "metadata": {},
   "outputs": [],
   "source": [
    "# use distinct ID_ELEVE per age_group to get age_group distributions"
   ]
  },
  {
   "cell_type": "code",
   "execution_count": 38,
   "metadata": {},
   "outputs": [
    {
     "name": "stderr",
     "output_type": "stream",
     "text": [
      "/tmp/ipykernel_1670987/1569251425.py:1: FutureWarning: The default of observed=False is deprecated and will be changed to True in a future version of pandas. Pass observed=False to retain current behavior or observed=True to adopt the future default and silence this warning.\n",
      "  merged.loc[merged.KEY_REPONSE == 'B_2_1_d'].groupby(\"age_group\")['ID_LOG'].count()\n"
     ]
    },
    {
     "data": {
      "text/plain": [
       "age_group\n",
       "0-11     203\n",
       "11-12    135\n",
       "13-14    148\n",
       "15-17    122\n",
       ">17        0\n",
       "Name: ID_LOG, dtype: int64"
      ]
     },
     "execution_count": 38,
     "metadata": {},
     "output_type": "execute_result"
    }
   ],
   "source": [
    "merged.loc[merged.KEY_REPONSE == 'B_2_1_d'].groupby(\"age_group\")['ID_LOG'].count()"
   ]
  },
  {
   "cell_type": "code",
   "execution_count": 39,
   "metadata": {},
   "outputs": [
    {
     "name": "stderr",
     "output_type": "stream",
     "text": [
      "/tmp/ipykernel_1670987/4267255461.py:1: FutureWarning: The default of observed=False is deprecated and will be changed to True in a future version of pandas. Pass observed=False to retain current behavior or observed=True to adopt the future default and silence this warning.\n",
      "  merged.groupby(\"age_group\").apply(lambda x: x.ID_REPONDANT.unique().shape[0])\n",
      "/tmp/ipykernel_1670987/4267255461.py:1: DeprecationWarning: DataFrameGroupBy.apply operated on the grouping columns. This behavior is deprecated, and in a future version of pandas the grouping columns will be excluded from the operation. Either pass `include_groups=False` to exclude the groupings or explicitly select the grouping columns after groupby to silence this warning.\n",
      "  merged.groupby(\"age_group\").apply(lambda x: x.ID_REPONDANT.unique().shape[0])\n"
     ]
    },
    {
     "data": {
      "text/plain": [
       "age_group\n",
       "0-11     1704\n",
       "11-12    1103\n",
       "13-14    1070\n",
       "15-17    1123\n",
       ">17         0\n",
       "dtype: int64"
      ]
     },
     "execution_count": 39,
     "metadata": {},
     "output_type": "execute_result"
    }
   ],
   "source": [
    "merged.groupby(\"age_group\").apply(lambda x: x.ID_REPONDANT.unique().shape[0])"
   ]
  },
  {
   "cell_type": "code",
   "execution_count": 40,
   "metadata": {},
   "outputs": [
    {
     "data": {
      "text/html": [
       "<div>\n",
       "<style scoped>\n",
       "    .dataframe tbody tr th:only-of-type {\n",
       "        vertical-align: middle;\n",
       "    }\n",
       "\n",
       "    .dataframe tbody tr th {\n",
       "        vertical-align: top;\n",
       "    }\n",
       "\n",
       "    .dataframe thead th {\n",
       "        text-align: right;\n",
       "    }\n",
       "</style>\n",
       "<table border=\"1\" class=\"dataframe\">\n",
       "  <thead>\n",
       "    <tr style=\"text-align: right;\">\n",
       "      <th></th>\n",
       "      <th>ID_REPONDANT</th>\n",
       "      <th>ID_ELEVE</th>\n",
       "      <th>DATE_NAISSANCE</th>\n",
       "      <th>DATE_TIME</th>\n",
       "      <th>age_group</th>\n",
       "    </tr>\n",
       "  </thead>\n",
       "  <tbody>\n",
       "    <tr>\n",
       "      <th>1411</th>\n",
       "      <td>E00001</td>\n",
       "      <td>E00001</td>\n",
       "      <td>2013-01-01</td>\n",
       "      <td>2025-02-01</td>\n",
       "      <td>11-12</td>\n",
       "    </tr>\n",
       "    <tr>\n",
       "      <th>2746</th>\n",
       "      <td>E00001</td>\n",
       "      <td>E00001</td>\n",
       "      <td>2013-01-01</td>\n",
       "      <td>2025-02-01</td>\n",
       "      <td>11-12</td>\n",
       "    </tr>\n",
       "    <tr>\n",
       "      <th>3813</th>\n",
       "      <td>E00001</td>\n",
       "      <td>E00001</td>\n",
       "      <td>2013-01-01</td>\n",
       "      <td>2025-02-01</td>\n",
       "      <td>11-12</td>\n",
       "    </tr>\n",
       "    <tr>\n",
       "      <th>14647</th>\n",
       "      <td>E00001</td>\n",
       "      <td>E00001</td>\n",
       "      <td>2013-01-01</td>\n",
       "      <td>2025-02-01</td>\n",
       "      <td>11-12</td>\n",
       "    </tr>\n",
       "    <tr>\n",
       "      <th>16098</th>\n",
       "      <td>E00001</td>\n",
       "      <td>E00001</td>\n",
       "      <td>2013-01-01</td>\n",
       "      <td>2025-02-01</td>\n",
       "      <td>11-12</td>\n",
       "    </tr>\n",
       "    <tr>\n",
       "      <th>...</th>\n",
       "      <td>...</td>\n",
       "      <td>...</td>\n",
       "      <td>...</td>\n",
       "      <td>...</td>\n",
       "      <td>...</td>\n",
       "    </tr>\n",
       "    <tr>\n",
       "      <th>83470</th>\n",
       "      <td>E05000</td>\n",
       "      <td>E05000</td>\n",
       "      <td>2015-01-01</td>\n",
       "      <td>2025-01-24</td>\n",
       "      <td>0-11</td>\n",
       "    </tr>\n",
       "    <tr>\n",
       "      <th>90780</th>\n",
       "      <td>E05000</td>\n",
       "      <td>E05000</td>\n",
       "      <td>2015-01-01</td>\n",
       "      <td>2025-01-24</td>\n",
       "      <td>0-11</td>\n",
       "    </tr>\n",
       "    <tr>\n",
       "      <th>91124</th>\n",
       "      <td>E05000</td>\n",
       "      <td>E05000</td>\n",
       "      <td>2015-01-01</td>\n",
       "      <td>2025-01-24</td>\n",
       "      <td>0-11</td>\n",
       "    </tr>\n",
       "    <tr>\n",
       "      <th>94532</th>\n",
       "      <td>E05000</td>\n",
       "      <td>E05000</td>\n",
       "      <td>2015-01-01</td>\n",
       "      <td>2025-01-24</td>\n",
       "      <td>0-11</td>\n",
       "    </tr>\n",
       "    <tr>\n",
       "      <th>98163</th>\n",
       "      <td>E05000</td>\n",
       "      <td>E05000</td>\n",
       "      <td>2015-01-01</td>\n",
       "      <td>2025-01-24</td>\n",
       "      <td>0-11</td>\n",
       "    </tr>\n",
       "  </tbody>\n",
       "</table>\n",
       "<p>100000 rows × 5 columns</p>\n",
       "</div>"
      ],
      "text/plain": [
       "      ID_REPONDANT ID_ELEVE DATE_NAISSANCE  DATE_TIME age_group\n",
       "1411        E00001   E00001     2013-01-01 2025-02-01     11-12\n",
       "2746        E00001   E00001     2013-01-01 2025-02-01     11-12\n",
       "3813        E00001   E00001     2013-01-01 2025-02-01     11-12\n",
       "14647       E00001   E00001     2013-01-01 2025-02-01     11-12\n",
       "16098       E00001   E00001     2013-01-01 2025-02-01     11-12\n",
       "...            ...      ...            ...        ...       ...\n",
       "83470       E05000   E05000     2015-01-01 2025-01-24      0-11\n",
       "90780       E05000   E05000     2015-01-01 2025-01-24      0-11\n",
       "91124       E05000   E05000     2015-01-01 2025-01-24      0-11\n",
       "94532       E05000   E05000     2015-01-01 2025-01-24      0-11\n",
       "98163       E05000   E05000     2015-01-01 2025-01-24      0-11\n",
       "\n",
       "[100000 rows x 5 columns]"
      ]
     },
     "execution_count": 40,
     "metadata": {},
     "output_type": "execute_result"
    }
   ],
   "source": [
    "merged[['ID_REPONDANT', \"ID_ELEVE\", \"DATE_NAISSANCE\", \"DATE_TIME\", 'age_group']].loc[merged.DATE_TIME.dt.year < 2026].sort_values([\"ID_REPONDANT\", \"DATE_TIME\"])\n"
   ]
  },
  {
   "cell_type": "code",
   "execution_count": null,
   "metadata": {},
   "outputs": [],
   "source": []
  },
  {
   "cell_type": "code",
   "execution_count": 41,
   "metadata": {},
   "outputs": [
    {
     "data": {
      "text/plain": [
       "(100000, 9)"
      ]
     },
     "execution_count": 41,
     "metadata": {},
     "output_type": "execute_result"
    }
   ],
   "source": [
    "merged.shape"
   ]
  },
  {
   "cell_type": "code",
   "execution_count": 42,
   "metadata": {},
   "outputs": [
    {
     "data": {
      "text/plain": [
       "(100000, 4)"
      ]
     },
     "execution_count": 42,
     "metadata": {},
     "output_type": "execute_result"
    }
   ],
   "source": [
    "reponses.shape"
   ]
  },
  {
   "cell_type": "code",
   "execution_count": 43,
   "metadata": {},
   "outputs": [
    {
     "data": {
      "text/plain": [
       "(10000,)"
      ]
     },
     "execution_count": 43,
     "metadata": {},
     "output_type": "execute_result"
    }
   ],
   "source": [
    "eleves.ID_ELEVE.unique().shape"
   ]
  },
  {
   "cell_type": "code",
   "execution_count": 44,
   "metadata": {},
   "outputs": [
    {
     "data": {
      "text/plain": [
       "(5000,)"
      ]
     },
     "execution_count": 44,
     "metadata": {},
     "output_type": "execute_result"
    }
   ],
   "source": [
    "reponses.ID_REPONDANT.unique().shape"
   ]
  },
  {
   "cell_type": "code",
   "execution_count": 45,
   "metadata": {},
   "outputs": [
    {
     "data": {
      "text/plain": [
       "(5000,)"
      ]
     },
     "execution_count": 45,
     "metadata": {},
     "output_type": "execute_result"
    }
   ],
   "source": [
    "merged.ID_REPONDANT.unique().shape"
   ]
  },
  {
   "cell_type": "code",
   "execution_count": 46,
   "metadata": {},
   "outputs": [
    {
     "data": {
      "text/plain": [
       "(5000,)"
      ]
     },
     "execution_count": 46,
     "metadata": {},
     "output_type": "execute_result"
    }
   ],
   "source": [
    "merged.ID_ELEVE.unique().shape"
   ]
  }
 ],
 "metadata": {
  "kernelspec": {
   "display_name": "frugalai",
   "language": "python",
   "name": "python3"
  },
  "language_info": {
   "codemirror_mode": {
    "name": "ipython",
    "version": 3
   },
   "file_extension": ".py",
   "mimetype": "text/x-python",
   "name": "python",
   "nbconvert_exporter": "python",
   "pygments_lexer": "ipython3",
   "version": "3.9.21"
  }
 },
 "nbformat": 4,
 "nbformat_minor": 4
}
