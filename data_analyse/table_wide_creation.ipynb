{
 "cells": [
  {
   "cell_type": "code",
   "execution_count": 89,
   "id": "644ab469-aa11-42e5-8638-0b41816448ac",
   "metadata": {},
   "outputs": [],
   "source": [
    "import pandas as pd\n",
    "import numpy as np\n",
    "from datetime import datetime"
   ]
  },
  {
   "cell_type": "code",
   "execution_count": 2,
   "id": "a3b41b46-3e8c-4dc3-b601-9da7c618f48a",
   "metadata": {},
   "outputs": [],
   "source": [
    "pd.set_option('display.max_columns', None)"
   ]
  },
  {
   "cell_type": "code",
   "execution_count": 3,
   "id": "7795c7a7-368e-4ce9-841c-f9648fc2e05f",
   "metadata": {},
   "outputs": [
    {
     "name": "stderr",
     "output_type": "stream",
     "text": [
      "/var/folders/nm/mqx1s9256r3593p7fb917h1r0000gn/T/ipykernel_10657/32566966.py:3: DtypeWarning: Columns (0,11,17,18,19) have mixed types. Specify dtype option on import or set low_memory=False.\n",
      "  dim_commune = pd.read_csv('data/DIM_COMMUNE.csv')\n"
     ]
    }
   ],
   "source": [
    "# Load csv files\n",
    "dim_etablissement = pd.read_csv('data/DIM_ETABLISSEMENT.csv')\n",
    "dim_commune = pd.read_csv('data/DIM_COMMUNE.csv')\n",
    "dim_classe = pd.read_csv('data/DIM_CLASSE.csv')\n",
    "dim_enseignant = pd.read_csv('data/DIM_ENSEIGNANT.csv')\n",
    "dim_eleve = pd.read_csv('data/DIM_ELEVE.csv')\n",
    "fact_reponse = pd.read_csv('data/FACT_REPONSE.csv')\n",
    "dim_reponse = pd.read_csv('data/DIM_REPONSE.csv')\n",
    "dim_score = pd.read_csv('data/DIM_SCORE.csv')\n",
    "dim_question = pd.read_csv('data/DIM_QUESTION.csv')"
   ]
  },
  {
   "cell_type": "code",
   "execution_count": 4,
   "id": "ccc67ec9-e698-4ddb-aa40-5226243641b8",
   "metadata": {},
   "outputs": [
    {
     "data": {
      "text/html": [
       "<div>\n",
       "<style scoped>\n",
       "    .dataframe tbody tr th:only-of-type {\n",
       "        vertical-align: middle;\n",
       "    }\n",
       "\n",
       "    .dataframe tbody tr th {\n",
       "        vertical-align: top;\n",
       "    }\n",
       "\n",
       "    .dataframe thead th {\n",
       "        text-align: right;\n",
       "    }\n",
       "</style>\n",
       "<table border=\"1\" class=\"dataframe\">\n",
       "  <thead>\n",
       "    <tr style=\"text-align: right;\">\n",
       "      <th></th>\n",
       "      <th>ID_ETABLISSEMENT</th>\n",
       "      <th>TYPE</th>\n",
       "      <th>ZIPCODE</th>\n",
       "      <th>ACADEMIE</th>\n",
       "      <th>NB_ELEVES</th>\n",
       "    </tr>\n",
       "  </thead>\n",
       "  <tbody>\n",
       "    <tr>\n",
       "      <th>0</th>\n",
       "      <td>ETAB01</td>\n",
       "      <td>ecole</td>\n",
       "      <td>26875</td>\n",
       "      <td>Toulouse</td>\n",
       "      <td>371</td>\n",
       "    </tr>\n",
       "    <tr>\n",
       "      <th>1</th>\n",
       "      <td>ETAB02</td>\n",
       "      <td>college</td>\n",
       "      <td>84911</td>\n",
       "      <td>Lyon</td>\n",
       "      <td>685</td>\n",
       "    </tr>\n",
       "    <tr>\n",
       "      <th>2</th>\n",
       "      <td>ETAB03</td>\n",
       "      <td>lycee</td>\n",
       "      <td>14263</td>\n",
       "      <td>Lyon</td>\n",
       "      <td>278</td>\n",
       "    </tr>\n",
       "  </tbody>\n",
       "</table>\n",
       "</div>"
      ],
      "text/plain": [
       "  ID_ETABLISSEMENT     TYPE  ZIPCODE  ACADEMIE  NB_ELEVES\n",
       "0           ETAB01    ecole    26875  Toulouse        371\n",
       "1           ETAB02  college    84911      Lyon        685\n",
       "2           ETAB03    lycee    14263      Lyon        278"
      ]
     },
     "execution_count": 4,
     "metadata": {},
     "output_type": "execute_result"
    }
   ],
   "source": [
    "dim_etablissement.head(3)"
   ]
  },
  {
   "cell_type": "code",
   "execution_count": 5,
   "id": "2d5bca6e-db16-482d-a1cf-85e26ad70910",
   "metadata": {},
   "outputs": [
    {
     "data": {
      "text/html": [
       "<div>\n",
       "<style scoped>\n",
       "    .dataframe tbody tr th:only-of-type {\n",
       "        vertical-align: middle;\n",
       "    }\n",
       "\n",
       "    .dataframe tbody tr th {\n",
       "        vertical-align: top;\n",
       "    }\n",
       "\n",
       "    .dataframe thead th {\n",
       "        text-align: right;\n",
       "    }\n",
       "</style>\n",
       "<table border=\"1\" class=\"dataframe\">\n",
       "  <thead>\n",
       "    <tr style=\"text-align: right;\">\n",
       "      <th></th>\n",
       "      <th>code_commune_INSEE</th>\n",
       "      <th>nom_commune_postal</th>\n",
       "      <th>code_postal</th>\n",
       "      <th>libelle_acheminement</th>\n",
       "      <th>ligne_5</th>\n",
       "      <th>latitude</th>\n",
       "      <th>longitude</th>\n",
       "      <th>code_commune</th>\n",
       "      <th>article</th>\n",
       "      <th>nom_commune</th>\n",
       "      <th>nom_commune_complet</th>\n",
       "      <th>code_departement</th>\n",
       "      <th>nom_departement</th>\n",
       "      <th>code_region</th>\n",
       "      <th>nom_region</th>\n",
       "      <th>objectid</th>\n",
       "      <th>reg</th>\n",
       "      <th>dep</th>\n",
       "      <th>cv</th>\n",
       "      <th>codgeo</th>\n",
       "      <th>libgeo</th>\n",
       "      <th>p13_pop</th>\n",
       "      <th>p14_pop</th>\n",
       "      <th>p15_pop</th>\n",
       "      <th>p16_pop</th>\n",
       "      <th>p17_pop</th>\n",
       "      <th>p18_pop</th>\n",
       "      <th>p19_pop</th>\n",
       "      <th>p20_pop</th>\n",
       "      <th>p21_pop</th>\n",
       "    </tr>\n",
       "  </thead>\n",
       "  <tbody>\n",
       "    <tr>\n",
       "      <th>0</th>\n",
       "      <td>10002</td>\n",
       "      <td>AILLEVILLE</td>\n",
       "      <td>10200</td>\n",
       "      <td>AILLEVILLE</td>\n",
       "      <td>NaN</td>\n",
       "      <td>48.255000</td>\n",
       "      <td>4.694493</td>\n",
       "      <td>2.0</td>\n",
       "      <td>NaN</td>\n",
       "      <td>Ailleville</td>\n",
       "      <td>Ailleville</td>\n",
       "      <td>10</td>\n",
       "      <td>Aube</td>\n",
       "      <td>44.0</td>\n",
       "      <td>Grand Est</td>\n",
       "      <td>123316</td>\n",
       "      <td>21</td>\n",
       "      <td>10</td>\n",
       "      <td>1003</td>\n",
       "      <td>10002</td>\n",
       "      <td>Ailleville</td>\n",
       "      <td>269.0</td>\n",
       "      <td>265.0</td>\n",
       "      <td>262.0</td>\n",
       "      <td>258.0</td>\n",
       "      <td>251</td>\n",
       "      <td>244.0</td>\n",
       "      <td>237.0</td>\n",
       "      <td>232.0</td>\n",
       "      <td>227.0</td>\n",
       "    </tr>\n",
       "    <tr>\n",
       "      <th>1</th>\n",
       "      <td>10003</td>\n",
       "      <td>AIX VILLEMAUR PALIS</td>\n",
       "      <td>10160</td>\n",
       "      <td>AIX VILLEMAUR PALIS</td>\n",
       "      <td>NaN</td>\n",
       "      <td>48.197575</td>\n",
       "      <td>3.736328</td>\n",
       "      <td>3.0</td>\n",
       "      <td>NaN</td>\n",
       "      <td>Aix-Villemaur-Pâlis</td>\n",
       "      <td>Aix-Villemaur-Pâlis</td>\n",
       "      <td>10</td>\n",
       "      <td>Aube</td>\n",
       "      <td>44.0</td>\n",
       "      <td>Grand Est</td>\n",
       "      <td>131609</td>\n",
       "      <td>21</td>\n",
       "      <td>10</td>\n",
       "      <td>1001</td>\n",
       "      <td>10003</td>\n",
       "      <td>Aix-en-Othe</td>\n",
       "      <td>2463.0</td>\n",
       "      <td>3600.0</td>\n",
       "      <td>3583.0</td>\n",
       "      <td>3569.0</td>\n",
       "      <td>3554</td>\n",
       "      <td>3547.0</td>\n",
       "      <td>3546.0</td>\n",
       "      <td>3537.0</td>\n",
       "      <td>3437.0</td>\n",
       "    </tr>\n",
       "    <tr>\n",
       "      <th>2</th>\n",
       "      <td>10003</td>\n",
       "      <td>AIX VILLEMAUR PALIS</td>\n",
       "      <td>10190</td>\n",
       "      <td>AIX VILLEMAUR PALIS</td>\n",
       "      <td>PALIS</td>\n",
       "      <td>48.197575</td>\n",
       "      <td>3.736328</td>\n",
       "      <td>3.0</td>\n",
       "      <td>NaN</td>\n",
       "      <td>Aix-Villemaur-Pâlis</td>\n",
       "      <td>Aix-Villemaur-Pâlis</td>\n",
       "      <td>10</td>\n",
       "      <td>Aube</td>\n",
       "      <td>44.0</td>\n",
       "      <td>Grand Est</td>\n",
       "      <td>131609</td>\n",
       "      <td>21</td>\n",
       "      <td>10</td>\n",
       "      <td>1001</td>\n",
       "      <td>10003</td>\n",
       "      <td>Aix-en-Othe</td>\n",
       "      <td>2463.0</td>\n",
       "      <td>3600.0</td>\n",
       "      <td>3583.0</td>\n",
       "      <td>3569.0</td>\n",
       "      <td>3554</td>\n",
       "      <td>3547.0</td>\n",
       "      <td>3546.0</td>\n",
       "      <td>3537.0</td>\n",
       "      <td>3437.0</td>\n",
       "    </tr>\n",
       "  </tbody>\n",
       "</table>\n",
       "</div>"
      ],
      "text/plain": [
       "  code_commune_INSEE   nom_commune_postal  code_postal libelle_acheminement  \\\n",
       "0              10002           AILLEVILLE        10200           AILLEVILLE   \n",
       "1              10003  AIX VILLEMAUR PALIS        10160  AIX VILLEMAUR PALIS   \n",
       "2              10003  AIX VILLEMAUR PALIS        10190  AIX VILLEMAUR PALIS   \n",
       "\n",
       "  ligne_5   latitude  longitude  code_commune article          nom_commune  \\\n",
       "0     NaN  48.255000   4.694493           2.0     NaN           Ailleville   \n",
       "1     NaN  48.197575   3.736328           3.0     NaN  Aix-Villemaur-Pâlis   \n",
       "2   PALIS  48.197575   3.736328           3.0     NaN  Aix-Villemaur-Pâlis   \n",
       "\n",
       "   nom_commune_complet code_departement nom_departement  code_region  \\\n",
       "0           Ailleville               10            Aube         44.0   \n",
       "1  Aix-Villemaur-Pâlis               10            Aube         44.0   \n",
       "2  Aix-Villemaur-Pâlis               10            Aube         44.0   \n",
       "\n",
       "  nom_region  objectid  reg dep    cv codgeo       libgeo  p13_pop  p14_pop  \\\n",
       "0  Grand Est    123316   21  10  1003  10002   Ailleville    269.0    265.0   \n",
       "1  Grand Est    131609   21  10  1001  10003  Aix-en-Othe   2463.0   3600.0   \n",
       "2  Grand Est    131609   21  10  1001  10003  Aix-en-Othe   2463.0   3600.0   \n",
       "\n",
       "   p15_pop  p16_pop  p17_pop  p18_pop  p19_pop  p20_pop  p21_pop  \n",
       "0    262.0    258.0      251    244.0    237.0    232.0    227.0  \n",
       "1   3583.0   3569.0     3554   3547.0   3546.0   3537.0   3437.0  \n",
       "2   3583.0   3569.0     3554   3547.0   3546.0   3537.0   3437.0  "
      ]
     },
     "execution_count": 5,
     "metadata": {},
     "output_type": "execute_result"
    }
   ],
   "source": [
    "dim_commune.head(3)"
   ]
  },
  {
   "cell_type": "code",
   "execution_count": 6,
   "id": "02a6fe55-fab4-4744-9fc4-4a8133c74e58",
   "metadata": {},
   "outputs": [
    {
     "data": {
      "text/html": [
       "<div>\n",
       "<style scoped>\n",
       "    .dataframe tbody tr th:only-of-type {\n",
       "        vertical-align: middle;\n",
       "    }\n",
       "\n",
       "    .dataframe tbody tr th {\n",
       "        vertical-align: top;\n",
       "    }\n",
       "\n",
       "    .dataframe thead th {\n",
       "        text-align: right;\n",
       "    }\n",
       "</style>\n",
       "<table border=\"1\" class=\"dataframe\">\n",
       "  <thead>\n",
       "    <tr style=\"text-align: right;\">\n",
       "      <th></th>\n",
       "      <th>ID_CLASSE</th>\n",
       "      <th>NB_ELEVES</th>\n",
       "      <th>NIVEAU</th>\n",
       "    </tr>\n",
       "  </thead>\n",
       "  <tbody>\n",
       "    <tr>\n",
       "      <th>0</th>\n",
       "      <td>C001</td>\n",
       "      <td>17</td>\n",
       "      <td>CM2</td>\n",
       "    </tr>\n",
       "    <tr>\n",
       "      <th>1</th>\n",
       "      <td>C002</td>\n",
       "      <td>19</td>\n",
       "      <td>CP</td>\n",
       "    </tr>\n",
       "    <tr>\n",
       "      <th>2</th>\n",
       "      <td>C003</td>\n",
       "      <td>10</td>\n",
       "      <td>CE1</td>\n",
       "    </tr>\n",
       "  </tbody>\n",
       "</table>\n",
       "</div>"
      ],
      "text/plain": [
       "  ID_CLASSE  NB_ELEVES NIVEAU\n",
       "0      C001         17    CM2\n",
       "1      C002         19     CP\n",
       "2      C003         10    CE1"
      ]
     },
     "execution_count": 6,
     "metadata": {},
     "output_type": "execute_result"
    }
   ],
   "source": [
    "dim_classe.head(3)"
   ]
  },
  {
   "cell_type": "code",
   "execution_count": 7,
   "id": "044cd883-df68-4741-9dcc-402931a4b53b",
   "metadata": {},
   "outputs": [
    {
     "data": {
      "text/html": [
       "<div>\n",
       "<style scoped>\n",
       "    .dataframe tbody tr th:only-of-type {\n",
       "        vertical-align: middle;\n",
       "    }\n",
       "\n",
       "    .dataframe tbody tr th {\n",
       "        vertical-align: top;\n",
       "    }\n",
       "\n",
       "    .dataframe thead th {\n",
       "        text-align: right;\n",
       "    }\n",
       "</style>\n",
       "<table border=\"1\" class=\"dataframe\">\n",
       "  <thead>\n",
       "    <tr style=\"text-align: right;\">\n",
       "      <th></th>\n",
       "      <th>ID_ENSEIGNANT</th>\n",
       "      <th>ID_ETABLISSEMENT</th>\n",
       "    </tr>\n",
       "  </thead>\n",
       "  <tbody>\n",
       "    <tr>\n",
       "      <th>0</th>\n",
       "      <td>ENS001</td>\n",
       "      <td>ETAB02</td>\n",
       "    </tr>\n",
       "    <tr>\n",
       "      <th>1</th>\n",
       "      <td>ENS002</td>\n",
       "      <td>ETAB01</td>\n",
       "    </tr>\n",
       "    <tr>\n",
       "      <th>2</th>\n",
       "      <td>ENS003</td>\n",
       "      <td>ETAB05</td>\n",
       "    </tr>\n",
       "  </tbody>\n",
       "</table>\n",
       "</div>"
      ],
      "text/plain": [
       "  ID_ENSEIGNANT ID_ETABLISSEMENT\n",
       "0        ENS001           ETAB02\n",
       "1        ENS002           ETAB01\n",
       "2        ENS003           ETAB05"
      ]
     },
     "execution_count": 7,
     "metadata": {},
     "output_type": "execute_result"
    }
   ],
   "source": [
    "dim_enseignant.head(3)"
   ]
  },
  {
   "cell_type": "code",
   "execution_count": 8,
   "id": "1a09e1cd-67ce-43a3-bab4-732f01ca0942",
   "metadata": {},
   "outputs": [
    {
     "data": {
      "text/html": [
       "<div>\n",
       "<style scoped>\n",
       "    .dataframe tbody tr th:only-of-type {\n",
       "        vertical-align: middle;\n",
       "    }\n",
       "\n",
       "    .dataframe tbody tr th {\n",
       "        vertical-align: top;\n",
       "    }\n",
       "\n",
       "    .dataframe thead th {\n",
       "        text-align: right;\n",
       "    }\n",
       "</style>\n",
       "<table border=\"1\" class=\"dataframe\">\n",
       "  <thead>\n",
       "    <tr style=\"text-align: right;\">\n",
       "      <th></th>\n",
       "      <th>ID_ELEVE</th>\n",
       "      <th>GENRE</th>\n",
       "      <th>AGE</th>\n",
       "      <th>NIVEAU</th>\n",
       "      <th>ID_PARENT</th>\n",
       "    </tr>\n",
       "  </thead>\n",
       "  <tbody>\n",
       "    <tr>\n",
       "      <th>0</th>\n",
       "      <td>E00001</td>\n",
       "      <td>m</td>\n",
       "      <td>14</td>\n",
       "      <td>2nde</td>\n",
       "      <td>P4647</td>\n",
       "    </tr>\n",
       "    <tr>\n",
       "      <th>1</th>\n",
       "      <td>E00002</td>\n",
       "      <td>f</td>\n",
       "      <td>12</td>\n",
       "      <td>6ème</td>\n",
       "      <td>P2149</td>\n",
       "    </tr>\n",
       "    <tr>\n",
       "      <th>2</th>\n",
       "      <td>E00003</td>\n",
       "      <td>f</td>\n",
       "      <td>11</td>\n",
       "      <td>1ère</td>\n",
       "      <td>P3650</td>\n",
       "    </tr>\n",
       "  </tbody>\n",
       "</table>\n",
       "</div>"
      ],
      "text/plain": [
       "  ID_ELEVE GENRE  AGE NIVEAU ID_PARENT\n",
       "0   E00001     m   14   2nde     P4647\n",
       "1   E00002     f   12   6ème     P2149\n",
       "2   E00003     f   11   1ère     P3650"
      ]
     },
     "execution_count": 8,
     "metadata": {},
     "output_type": "execute_result"
    }
   ],
   "source": [
    "dim_eleve.head(3)"
   ]
  },
  {
   "cell_type": "code",
   "execution_count": 9,
   "id": "fbe7ad30-07a7-4a6b-aafd-8f183b24ed98",
   "metadata": {},
   "outputs": [
    {
     "data": {
      "text/html": [
       "<div>\n",
       "<style scoped>\n",
       "    .dataframe tbody tr th:only-of-type {\n",
       "        vertical-align: middle;\n",
       "    }\n",
       "\n",
       "    .dataframe tbody tr th {\n",
       "        vertical-align: top;\n",
       "    }\n",
       "\n",
       "    .dataframe thead th {\n",
       "        text-align: right;\n",
       "    }\n",
       "</style>\n",
       "<table border=\"1\" class=\"dataframe\">\n",
       "  <thead>\n",
       "    <tr style=\"text-align: right;\">\n",
       "      <th></th>\n",
       "      <th>ID_LOG</th>\n",
       "      <th>KEY_REPONSE</th>\n",
       "      <th>ID_REPONDANT</th>\n",
       "      <th>DATE_TIME</th>\n",
       "    </tr>\n",
       "  </thead>\n",
       "  <tbody>\n",
       "    <tr>\n",
       "      <th>0</th>\n",
       "      <td>94865</td>\n",
       "      <td>B_3_1_h</td>\n",
       "      <td>E03616</td>\n",
       "      <td>2025-07-08</td>\n",
       "    </tr>\n",
       "    <tr>\n",
       "      <th>1</th>\n",
       "      <td>89205</td>\n",
       "      <td>A_1_3_b</td>\n",
       "      <td>E01099</td>\n",
       "      <td>2025-04-01</td>\n",
       "    </tr>\n",
       "    <tr>\n",
       "      <th>2</th>\n",
       "      <td>16560</td>\n",
       "      <td>D_2_2_c</td>\n",
       "      <td>E02115</td>\n",
       "      <td>2025-07-16</td>\n",
       "    </tr>\n",
       "  </tbody>\n",
       "</table>\n",
       "</div>"
      ],
      "text/plain": [
       "   ID_LOG KEY_REPONSE ID_REPONDANT   DATE_TIME\n",
       "0   94865     B_3_1_h       E03616  2025-07-08\n",
       "1   89205     A_1_3_b       E01099  2025-04-01\n",
       "2   16560     D_2_2_c       E02115  2025-07-16"
      ]
     },
     "execution_count": 9,
     "metadata": {},
     "output_type": "execute_result"
    }
   ],
   "source": [
    "fact_reponse.head(3)"
   ]
  },
  {
   "cell_type": "code",
   "execution_count": 10,
   "id": "c0ccfff9-bb58-4cba-9620-b76cdb170166",
   "metadata": {},
   "outputs": [
    {
     "data": {
      "text/html": [
       "<div>\n",
       "<style scoped>\n",
       "    .dataframe tbody tr th:only-of-type {\n",
       "        vertical-align: middle;\n",
       "    }\n",
       "\n",
       "    .dataframe tbody tr th {\n",
       "        vertical-align: top;\n",
       "    }\n",
       "\n",
       "    .dataframe thead th {\n",
       "        text-align: right;\n",
       "    }\n",
       "</style>\n",
       "<table border=\"1\" class=\"dataframe\">\n",
       "  <thead>\n",
       "    <tr style=\"text-align: right;\">\n",
       "      <th></th>\n",
       "      <th>KEY_QUESTION</th>\n",
       "      <th>KEY_REPONSE</th>\n",
       "      <th>ID_REPONSE</th>\n",
       "      <th>LB_REPONSE</th>\n",
       "      <th>TYPE_REPONSE</th>\n",
       "      <th>FLG_PRIMAIRE</th>\n",
       "      <th>FLG_SECONDAIRE</th>\n",
       "    </tr>\n",
       "  </thead>\n",
       "  <tbody>\n",
       "    <tr>\n",
       "      <th>0</th>\n",
       "      <td>A_1_1</td>\n",
       "      <td>A_1_1_a</td>\n",
       "      <td>a</td>\n",
       "      <td>Jouer à des jeux vidéos en solo</td>\n",
       "      <td>SOLO</td>\n",
       "      <td>oui</td>\n",
       "      <td>oui</td>\n",
       "    </tr>\n",
       "    <tr>\n",
       "      <th>1</th>\n",
       "      <td>A_1_1</td>\n",
       "      <td>A_1_1_b</td>\n",
       "      <td>b</td>\n",
       "      <td>Jouer à des jeux vidéos avec des amis ou d'aut...</td>\n",
       "      <td>SOCIAL</td>\n",
       "      <td>oui</td>\n",
       "      <td>oui</td>\n",
       "    </tr>\n",
       "    <tr>\n",
       "      <th>2</th>\n",
       "      <td>A_1_1</td>\n",
       "      <td>A_1_1_c</td>\n",
       "      <td>c</td>\n",
       "      <td>Regarder des vidéos (streaming)</td>\n",
       "      <td>SOLO</td>\n",
       "      <td>oui</td>\n",
       "      <td>oui</td>\n",
       "    </tr>\n",
       "  </tbody>\n",
       "</table>\n",
       "</div>"
      ],
      "text/plain": [
       "  KEY_QUESTION KEY_REPONSE ID_REPONSE  \\\n",
       "0        A_1_1     A_1_1_a          a   \n",
       "1        A_1_1     A_1_1_b          b   \n",
       "2        A_1_1     A_1_1_c          c   \n",
       "\n",
       "                                          LB_REPONSE TYPE_REPONSE  \\\n",
       "0                    Jouer à des jeux vidéos en solo         SOLO   \n",
       "1  Jouer à des jeux vidéos avec des amis ou d'aut...       SOCIAL   \n",
       "2                    Regarder des vidéos (streaming)         SOLO   \n",
       "\n",
       "  FLG_PRIMAIRE FLG_SECONDAIRE  \n",
       "0          oui            oui  \n",
       "1          oui            oui  \n",
       "2          oui            oui  "
      ]
     },
     "execution_count": 10,
     "metadata": {},
     "output_type": "execute_result"
    }
   ],
   "source": [
    "dim_reponse.head(3)"
   ]
  },
  {
   "cell_type": "code",
   "execution_count": 11,
   "id": "66e1b0ea-eaaa-4c18-b250-de2f74ac3976",
   "metadata": {},
   "outputs": [
    {
     "data": {
      "text/html": [
       "<div>\n",
       "<style scoped>\n",
       "    .dataframe tbody tr th:only-of-type {\n",
       "        vertical-align: middle;\n",
       "    }\n",
       "\n",
       "    .dataframe tbody tr th {\n",
       "        vertical-align: top;\n",
       "    }\n",
       "\n",
       "    .dataframe thead th {\n",
       "        text-align: right;\n",
       "    }\n",
       "</style>\n",
       "<table border=\"1\" class=\"dataframe\">\n",
       "  <thead>\n",
       "    <tr style=\"text-align: right;\">\n",
       "      <th></th>\n",
       "      <th>KEY_REPONSE</th>\n",
       "      <th>MACRO_SEGMENT</th>\n",
       "      <th>SEGMENT</th>\n",
       "      <th>SCORE_PRIMAIRE</th>\n",
       "      <th>SCORE_SECONDAIRE</th>\n",
       "    </tr>\n",
       "  </thead>\n",
       "  <tbody>\n",
       "    <tr>\n",
       "      <th>0</th>\n",
       "      <td>A_1_1_a</td>\n",
       "      <td>PRATIQUES ET PROFILS</td>\n",
       "      <td>UTILISATEUR vs NON-UTILISATEUR</td>\n",
       "      <td>1</td>\n",
       "      <td>1</td>\n",
       "    </tr>\n",
       "    <tr>\n",
       "      <th>1</th>\n",
       "      <td>A_1_1_ c</td>\n",
       "      <td>PRATIQUES ET PROFILS</td>\n",
       "      <td>UTILISATEUR vs NON-UTILISATEUR</td>\n",
       "      <td>1</td>\n",
       "      <td>1</td>\n",
       "    </tr>\n",
       "    <tr>\n",
       "      <th>2</th>\n",
       "      <td>A_1_1_g</td>\n",
       "      <td>PRATIQUES ET PROFILS</td>\n",
       "      <td>UTILISATEUR vs NON-UTILISATEUR</td>\n",
       "      <td>1</td>\n",
       "      <td>1</td>\n",
       "    </tr>\n",
       "  </tbody>\n",
       "</table>\n",
       "</div>"
      ],
      "text/plain": [
       "  KEY_REPONSE         MACRO_SEGMENT                         SEGMENT  \\\n",
       "0     A_1_1_a  PRATIQUES ET PROFILS  UTILISATEUR vs NON-UTILISATEUR   \n",
       "1    A_1_1_ c  PRATIQUES ET PROFILS  UTILISATEUR vs NON-UTILISATEUR   \n",
       "2     A_1_1_g  PRATIQUES ET PROFILS  UTILISATEUR vs NON-UTILISATEUR   \n",
       "\n",
       "   SCORE_PRIMAIRE  SCORE_SECONDAIRE  \n",
       "0               1                 1  \n",
       "1               1                 1  \n",
       "2               1                 1  "
      ]
     },
     "execution_count": 11,
     "metadata": {},
     "output_type": "execute_result"
    }
   ],
   "source": [
    "dim_score.head(3)"
   ]
  },
  {
   "cell_type": "code",
   "execution_count": 12,
   "id": "853caa0f-a103-4e86-9aec-b408094c551a",
   "metadata": {},
   "outputs": [
    {
     "data": {
      "text/html": [
       "<div>\n",
       "<style scoped>\n",
       "    .dataframe tbody tr th:only-of-type {\n",
       "        vertical-align: middle;\n",
       "    }\n",
       "\n",
       "    .dataframe tbody tr th {\n",
       "        vertical-align: top;\n",
       "    }\n",
       "\n",
       "    .dataframe thead th {\n",
       "        text-align: right;\n",
       "    }\n",
       "</style>\n",
       "<table border=\"1\" class=\"dataframe\">\n",
       "  <thead>\n",
       "    <tr style=\"text-align: right;\">\n",
       "      <th></th>\n",
       "      <th>KEY_QUESTION</th>\n",
       "      <th>MACRO_CATEGORIE</th>\n",
       "      <th>CATEGORIE</th>\n",
       "      <th>LB_QUESTION</th>\n",
       "      <th>TYPE_QUESTION</th>\n",
       "      <th>FLG_QUESTION_MULTIPLE</th>\n",
       "    </tr>\n",
       "  </thead>\n",
       "  <tbody>\n",
       "    <tr>\n",
       "      <th>0</th>\n",
       "      <td>A_1_1</td>\n",
       "      <td>MON COMPORTEMENT EN LIGNE</td>\n",
       "      <td>A1 - LES ECRANS</td>\n",
       "      <td>Quelle(s) activité(s) parmi les suivantes fais...</td>\n",
       "      <td>Pratiques</td>\n",
       "      <td>True</td>\n",
       "    </tr>\n",
       "    <tr>\n",
       "      <th>1</th>\n",
       "      <td>A_1_2</td>\n",
       "      <td>MON COMPORTEMENT EN LIGNE</td>\n",
       "      <td>A1 - LES ECRANS</td>\n",
       "      <td>Sur quels réseaux sociaux as-tu un profil ? Pl...</td>\n",
       "      <td>Pratiques</td>\n",
       "      <td>True</td>\n",
       "    </tr>\n",
       "    <tr>\n",
       "      <th>2</th>\n",
       "      <td>A_1_3</td>\n",
       "      <td>MON COMPORTEMENT EN LIGNE</td>\n",
       "      <td>A1 - LES ECRANS</td>\n",
       "      <td>Est-ce que ces situations s'appliquent à toi ?...</td>\n",
       "      <td>Risques</td>\n",
       "      <td>True</td>\n",
       "    </tr>\n",
       "  </tbody>\n",
       "</table>\n",
       "</div>"
      ],
      "text/plain": [
       "  KEY_QUESTION            MACRO_CATEGORIE        CATEGORIE  \\\n",
       "0        A_1_1  MON COMPORTEMENT EN LIGNE  A1 - LES ECRANS   \n",
       "1        A_1_2  MON COMPORTEMENT EN LIGNE  A1 - LES ECRANS   \n",
       "2        A_1_3  MON COMPORTEMENT EN LIGNE  A1 - LES ECRANS   \n",
       "\n",
       "                                         LB_QUESTION TYPE_QUESTION  \\\n",
       "0  Quelle(s) activité(s) parmi les suivantes fais...     Pratiques   \n",
       "1  Sur quels réseaux sociaux as-tu un profil ? Pl...     Pratiques   \n",
       "2  Est-ce que ces situations s'appliquent à toi ?...       Risques   \n",
       "\n",
       "   FLG_QUESTION_MULTIPLE  \n",
       "0                   True  \n",
       "1                   True  \n",
       "2                   True  "
      ]
     },
     "execution_count": 12,
     "metadata": {},
     "output_type": "execute_result"
    }
   ],
   "source": [
    "dim_question.head(3)"
   ]
  },
  {
   "cell_type": "code",
   "execution_count": 13,
   "id": "4f97426f-75fd-49c5-a677-e8ed83bfa50f",
   "metadata": {},
   "outputs": [],
   "source": [
    "tmp_df = fact_reponse.merge(dim_eleve, left_on='ID_REPONDANT',right_on='ID_ELEVE', how='inner').drop(columns=['ID_REPONDANT']).\\\n",
    "    merge(dim_reponse, on='KEY_REPONSE', how='inner'). \\\n",
    "    merge(dim_question, on='KEY_QUESTION', how='inner'). \\\n",
    "    merge(dim_score, on='KEY_REPONSE', how='left')"
   ]
  },
  {
   "cell_type": "code",
   "execution_count": 14,
   "id": "44c8aad1-91ac-43a6-b546-64e2f644776f",
   "metadata": {},
   "outputs": [
    {
     "data": {
      "text/plain": [
       "array(['B_3_1', 'A_1_3', 'D_2_2', 'A_2_1', 'C_3_2', 'A_1_2', 'D_3_2',\n",
       "       'D_2_1', 'D_3_1', 'D_1_1', 'A_3_2', 'D_1_2', 'A_1_1'], dtype=object)"
      ]
     },
     "execution_count": 14,
     "metadata": {},
     "output_type": "execute_result"
    }
   ],
   "source": [
    "tmp_df[tmp_df.MACRO_SEGMENT.isnull()].KEY_QUESTION.unique() "
   ]
  },
  {
   "cell_type": "markdown",
   "id": "189c78a5-e9db-41ee-bfe6-9b6ca1ff4ddb",
   "metadata": {},
   "source": [
    "Ce sont les questions qui ne font pas partie des critères `cyberviolence` identifiés dans l'Excel dans l'onglet `Critères Cyberviolence`.\n",
    "Pour ces questions, les champs associés à la table `dim_score` seront nulls."
   ]
  },
  {
   "cell_type": "code",
   "execution_count": 20,
   "id": "5cb7f79f-b975-403e-b925-bf5b62d1b73b",
   "metadata": {},
   "outputs": [
    {
     "name": "stdout",
     "output_type": "stream",
     "text": [
      "123030\n"
     ]
    }
   ],
   "source": [
    "print(tmp_df.shape[0])"
   ]
  },
  {
   "cell_type": "markdown",
   "id": "e4e86099-3fba-48f2-9c13-b64780a27a26",
   "metadata": {},
   "source": [
    "On récupère plus de lignes que les 100k initiales issues du data generation process puisque dans les `Critères Cyberviolences` certaines réponses attributent des points à plusieurs critères"
   ]
  },
  {
   "cell_type": "code",
   "execution_count": 16,
   "id": "af238fef-7bc7-4943-a56b-90d8a8389fbc",
   "metadata": {},
   "outputs": [],
   "source": [
    "#.merge(dim_classe, on='ID_CLASSE', how='inner') \\\n",
    "    #.merge(dim_etablissement, on='ID_ETABLISSEMENT', how='inner') \\\n",
    "    #.merge(dim_commune, on='ZIPCODE', how='inner') \\\n",
    "    #.merge(dim_enseignant, on='ID_CLASSE', how='inner') \\"
   ]
  },
  {
   "cell_type": "markdown",
   "id": "8ef4fecc-8c96-48ca-a0ae-11472c2925d2",
   "metadata": {},
   "source": [
    "`ID_CLASSE` n'est pas disponible dans la table `dim_eleve` et donc les jointures avec `dim-classe`, `dim_etablissement`,\n",
    "`dim_commune` et `dim_enseignant` ne sont pas réalisables pour l'instant"
   ]
  },
  {
   "cell_type": "code",
   "execution_count": 21,
   "id": "051f47ca-ab3f-479e-9dff-5dfa616c11fc",
   "metadata": {},
   "outputs": [],
   "source": [
    "# Jointures\n",
    "df = fact_reponse.merge(dim_eleve, left_on='ID_REPONDANT',right_on='ID_ELEVE', how='inner').drop(columns=['ID_REPONDANT']) \\\n",
    "    .merge(dim_reponse, on='KEY_REPONSE', how='inner') \\\n",
    "    .merge(dim_question, on='KEY_QUESTION', how='inner') \\\n",
    "    .merge(dim_score, on='KEY_REPONSE', how='left')"
   ]
  },
  {
   "cell_type": "code",
   "execution_count": 22,
   "id": "78d87ee3-ad57-4a9f-9a7f-b19725c4e13d",
   "metadata": {},
   "outputs": [
    {
     "data": {
      "text/html": [
       "<div>\n",
       "<style scoped>\n",
       "    .dataframe tbody tr th:only-of-type {\n",
       "        vertical-align: middle;\n",
       "    }\n",
       "\n",
       "    .dataframe tbody tr th {\n",
       "        vertical-align: top;\n",
       "    }\n",
       "\n",
       "    .dataframe thead th {\n",
       "        text-align: right;\n",
       "    }\n",
       "</style>\n",
       "<table border=\"1\" class=\"dataframe\">\n",
       "  <thead>\n",
       "    <tr style=\"text-align: right;\">\n",
       "      <th></th>\n",
       "      <th>ID_LOG</th>\n",
       "      <th>KEY_REPONSE</th>\n",
       "      <th>DATE_TIME</th>\n",
       "      <th>ID_ELEVE</th>\n",
       "      <th>GENRE</th>\n",
       "      <th>AGE</th>\n",
       "      <th>NIVEAU</th>\n",
       "      <th>ID_PARENT</th>\n",
       "      <th>KEY_QUESTION</th>\n",
       "      <th>ID_REPONSE</th>\n",
       "      <th>LB_REPONSE</th>\n",
       "      <th>TYPE_REPONSE</th>\n",
       "      <th>FLG_PRIMAIRE</th>\n",
       "      <th>FLG_SECONDAIRE</th>\n",
       "      <th>MACRO_CATEGORIE</th>\n",
       "      <th>CATEGORIE</th>\n",
       "      <th>LB_QUESTION</th>\n",
       "      <th>TYPE_QUESTION</th>\n",
       "      <th>FLG_QUESTION_MULTIPLE</th>\n",
       "      <th>MACRO_SEGMENT</th>\n",
       "      <th>SEGMENT</th>\n",
       "      <th>SCORE_PRIMAIRE</th>\n",
       "      <th>SCORE_SECONDAIRE</th>\n",
       "    </tr>\n",
       "  </thead>\n",
       "  <tbody>\n",
       "    <tr>\n",
       "      <th>0</th>\n",
       "      <td>94865</td>\n",
       "      <td>B_3_1_h</td>\n",
       "      <td>2025-07-08</td>\n",
       "      <td>E03616</td>\n",
       "      <td>m</td>\n",
       "      <td>10</td>\n",
       "      <td>1ère</td>\n",
       "      <td>P4212</td>\n",
       "      <td>B_3_1</td>\n",
       "      <td>h</td>\n",
       "      <td>mes données personnelles n'ont jamais été part...</td>\n",
       "      <td>AUCUN</td>\n",
       "      <td>oui</td>\n",
       "      <td>oui</td>\n",
       "      <td>LES PROBLEMATIQUES EN LIGNE</td>\n",
       "      <td>B3- ABUS</td>\n",
       "      <td>Si tes informations personnelles ont déjà été ...</td>\n",
       "      <td>Réactions</td>\n",
       "      <td>True</td>\n",
       "      <td>NaN</td>\n",
       "      <td>NaN</td>\n",
       "      <td>NaN</td>\n",
       "      <td>NaN</td>\n",
       "    </tr>\n",
       "    <tr>\n",
       "      <th>1</th>\n",
       "      <td>89205</td>\n",
       "      <td>A_1_3_b</td>\n",
       "      <td>2025-04-01</td>\n",
       "      <td>E01099</td>\n",
       "      <td>f</td>\n",
       "      <td>10</td>\n",
       "      <td>6ème</td>\n",
       "      <td>P2079</td>\n",
       "      <td>A_1_3</td>\n",
       "      <td>b</td>\n",
       "      <td>J'interromps souvent mes autres activités pour...</td>\n",
       "      <td>DÉPENDANCE</td>\n",
       "      <td>NaN</td>\n",
       "      <td>oui</td>\n",
       "      <td>MON COMPORTEMENT EN LIGNE</td>\n",
       "      <td>A1 - LES ECRANS</td>\n",
       "      <td>Est-ce que ces situations s'appliquent à toi ?...</td>\n",
       "      <td>Risques</td>\n",
       "      <td>True</td>\n",
       "      <td>NaN</td>\n",
       "      <td>NaN</td>\n",
       "      <td>NaN</td>\n",
       "      <td>NaN</td>\n",
       "    </tr>\n",
       "    <tr>\n",
       "      <th>2</th>\n",
       "      <td>16560</td>\n",
       "      <td>D_2_2_c</td>\n",
       "      <td>2025-07-16</td>\n",
       "      <td>E02115</td>\n",
       "      <td>f</td>\n",
       "      <td>8</td>\n",
       "      <td>2nde</td>\n",
       "      <td>P0642</td>\n",
       "      <td>D_2_2</td>\n",
       "      <td>c</td>\n",
       "      <td>Signaler les contenus et les commentaires en l...</td>\n",
       "      <td>NaN</td>\n",
       "      <td>oui</td>\n",
       "      <td>oui</td>\n",
       "      <td>D- EGALITE DES SEXES</td>\n",
       "      <td>D2 - LES STEREOTYPES</td>\n",
       "      <td>Quelles seraient les meilleures solutions pour...</td>\n",
       "      <td>Solutions</td>\n",
       "      <td>True</td>\n",
       "      <td>NaN</td>\n",
       "      <td>NaN</td>\n",
       "      <td>NaN</td>\n",
       "      <td>NaN</td>\n",
       "    </tr>\n",
       "    <tr>\n",
       "      <th>3</th>\n",
       "      <td>75703</td>\n",
       "      <td>B_2_2_a</td>\n",
       "      <td>2025-01-16</td>\n",
       "      <td>E00481</td>\n",
       "      <td>m</td>\n",
       "      <td>11</td>\n",
       "      <td>Terminale</td>\n",
       "      <td>P1825</td>\n",
       "      <td>B_2_2</td>\n",
       "      <td>a</td>\n",
       "      <td>troublé (surpris)</td>\n",
       "      <td>NÉGATIF</td>\n",
       "      <td>oui</td>\n",
       "      <td>oui</td>\n",
       "      <td>LES PROBLEMATIQUES EN LIGNE</td>\n",
       "      <td>B2-CONTENUS CHOQUANTS</td>\n",
       "      <td>Si tu as rencontré les contenus mentionnés pré...</td>\n",
       "      <td>Réactions</td>\n",
       "      <td>True</td>\n",
       "      <td>RÉACTIONS ET STRATÉGIES</td>\n",
       "      <td>SURPRISE</td>\n",
       "      <td>1.0</td>\n",
       "      <td>1.0</td>\n",
       "    </tr>\n",
       "    <tr>\n",
       "      <th>4</th>\n",
       "      <td>76145</td>\n",
       "      <td>A_2_1_e</td>\n",
       "      <td>2025-03-12</td>\n",
       "      <td>E03420</td>\n",
       "      <td>m</td>\n",
       "      <td>12</td>\n",
       "      <td>Terminale</td>\n",
       "      <td>P4520</td>\n",
       "      <td>A_2_1</td>\n",
       "      <td>e</td>\n",
       "      <td>Aucune de ces situations</td>\n",
       "      <td>NaN</td>\n",
       "      <td>oui</td>\n",
       "      <td>oui</td>\n",
       "      <td>MON COMPORTEMENT EN LIGNE</td>\n",
       "      <td>A2 - LA RÉPUTATION EN LIGNE</td>\n",
       "      <td>Est-ce que l'une des choses suivantes t’es arr...</td>\n",
       "      <td>Victimisation</td>\n",
       "      <td>True</td>\n",
       "      <td>NaN</td>\n",
       "      <td>NaN</td>\n",
       "      <td>NaN</td>\n",
       "      <td>NaN</td>\n",
       "    </tr>\n",
       "  </tbody>\n",
       "</table>\n",
       "</div>"
      ],
      "text/plain": [
       "   ID_LOG KEY_REPONSE   DATE_TIME ID_ELEVE GENRE  AGE     NIVEAU ID_PARENT  \\\n",
       "0   94865     B_3_1_h  2025-07-08   E03616     m   10       1ère     P4212   \n",
       "1   89205     A_1_3_b  2025-04-01   E01099     f   10       6ème     P2079   \n",
       "2   16560     D_2_2_c  2025-07-16   E02115     f    8       2nde     P0642   \n",
       "3   75703     B_2_2_a  2025-01-16   E00481     m   11  Terminale     P1825   \n",
       "4   76145     A_2_1_e  2025-03-12   E03420     m   12  Terminale     P4520   \n",
       "\n",
       "  KEY_QUESTION ID_REPONSE                                         LB_REPONSE  \\\n",
       "0        B_3_1          h  mes données personnelles n'ont jamais été part...   \n",
       "1        A_1_3          b  J'interromps souvent mes autres activités pour...   \n",
       "2        D_2_2          c  Signaler les contenus et les commentaires en l...   \n",
       "3        B_2_2          a                                  troublé (surpris)   \n",
       "4        A_2_1          e                           Aucune de ces situations   \n",
       "\n",
       "  TYPE_REPONSE FLG_PRIMAIRE FLG_SECONDAIRE              MACRO_CATEGORIE  \\\n",
       "0        AUCUN          oui            oui  LES PROBLEMATIQUES EN LIGNE   \n",
       "1   DÉPENDANCE          NaN            oui    MON COMPORTEMENT EN LIGNE   \n",
       "2          NaN          oui            oui         D- EGALITE DES SEXES   \n",
       "3      NÉGATIF          oui            oui  LES PROBLEMATIQUES EN LIGNE   \n",
       "4          NaN          oui            oui    MON COMPORTEMENT EN LIGNE   \n",
       "\n",
       "                     CATEGORIE  \\\n",
       "0                     B3- ABUS   \n",
       "1              A1 - LES ECRANS   \n",
       "2         D2 - LES STEREOTYPES   \n",
       "3       B2-CONTENUS CHOQUANTS    \n",
       "4  A2 - LA RÉPUTATION EN LIGNE   \n",
       "\n",
       "                                         LB_QUESTION  TYPE_QUESTION  \\\n",
       "0  Si tes informations personnelles ont déjà été ...      Réactions   \n",
       "1  Est-ce que ces situations s'appliquent à toi ?...        Risques   \n",
       "2  Quelles seraient les meilleures solutions pour...      Solutions   \n",
       "3  Si tu as rencontré les contenus mentionnés pré...      Réactions   \n",
       "4  Est-ce que l'une des choses suivantes t’es arr...  Victimisation   \n",
       "\n",
       "   FLG_QUESTION_MULTIPLE            MACRO_SEGMENT   SEGMENT  SCORE_PRIMAIRE  \\\n",
       "0                   True                      NaN       NaN             NaN   \n",
       "1                   True                      NaN       NaN             NaN   \n",
       "2                   True                      NaN       NaN             NaN   \n",
       "3                   True  RÉACTIONS ET STRATÉGIES  SURPRISE             1.0   \n",
       "4                   True                      NaN       NaN             NaN   \n",
       "\n",
       "   SCORE_SECONDAIRE  \n",
       "0               NaN  \n",
       "1               NaN  \n",
       "2               NaN  \n",
       "3               1.0  \n",
       "4               NaN  "
      ]
     },
     "execution_count": 22,
     "metadata": {},
     "output_type": "execute_result"
    }
   ],
   "source": [
    "df.head()"
   ]
  },
  {
   "cell_type": "code",
   "execution_count": 23,
   "id": "ecbb59e7-545e-458a-a576-bfe6cea40d3d",
   "metadata": {},
   "outputs": [
    {
     "data": {
      "text/plain": [
       "123030"
      ]
     },
     "execution_count": 23,
     "metadata": {},
     "output_type": "execute_result"
    }
   ],
   "source": [
    "df.shape[0]"
   ]
  },
  {
   "cell_type": "code",
   "execution_count": 90,
   "id": "4e4807ed-4a4d-46ad-9848-df44b7de887b",
   "metadata": {},
   "outputs": [],
   "source": [
    "# Format timestamp (e.g., 2025-02-19_17-45-00)\n",
    "timestamp = datetime.now().strftime(\"%Y-%m-%d_%H-%M-%S\")\n",
    "\n",
    "# Build the filename with timestamp\n",
    "filename = f\"data/table_wide_{timestamp}.csv\"\n",
    "\n",
    "# Save DataFrame to CSV\n",
    "df.to_csv(filename, index=False)"
   ]
  },
  {
   "cell_type": "code",
   "execution_count": 80,
   "id": "2cdc836a-8c10-48e6-9c0b-04177e6bff2b",
   "metadata": {},
   "outputs": [
    {
     "data": {
      "text/plain": [
       "array(['2nde', '6ème', '1ère', '3ème', 'CM1', 'Terminale', '5ème', '4ème',\n",
       "       'CM2'], dtype=object)"
      ]
     },
     "execution_count": 80,
     "metadata": {},
     "output_type": "execute_result"
    }
   ],
   "source": [
    "dim_eleve.NIVEAU.unique()"
   ]
  },
  {
   "cell_type": "code",
   "execution_count": 83,
   "id": "45ede5b4-9971-4055-af6f-03419e0972d7",
   "metadata": {},
   "outputs": [],
   "source": [
    "list_segments = df['SEGMENT'].unique().tolist()\n",
    "list_niveau_secondaire = ['2nde', '6ème', '1ère', '3ème', 'Terminale', '5ème', '4ème']\n",
    "list_niveau_primaire = ['CM1','CM2']"
   ]
  },
  {
   "cell_type": "code",
   "execution_count": 87,
   "id": "9dcece4a-3857-4209-b86f-c5956103d324",
   "metadata": {
    "scrolled": true
   },
   "outputs": [],
   "source": [
    "df_scored = df.groupby(['ID_ELEVE','MACRO_SEGMENT','SEGMENT']).sum()[['SCORE_PRIMAIRE','SCORE_SECONDAIRE']].reset_index()\n",
    "df_scored = dim_eleve[['ID_ELEVE','GENRE','AGE','NIVEAU']].merge(df_scored, on='ID_ELEVE', how='inner')\n",
    "df_scored['SCORE_APPLIQUABLE'] = np.where(\n",
    "    df_scored['NIVEAU'].isin(list_niveau_secondaire),\n",
    "    df_scored['SCORE_SECONDAIRE'],\n",
    "    df_scored['SCORE_PRIMAIRE']\n",
    ")"
   ]
  },
  {
   "cell_type": "code",
   "execution_count": 88,
   "id": "f351d68a-0d12-4a0d-9da9-3918b87e2cf3",
   "metadata": {},
   "outputs": [
    {
     "data": {
      "text/html": [
       "<div>\n",
       "<style scoped>\n",
       "    .dataframe tbody tr th:only-of-type {\n",
       "        vertical-align: middle;\n",
       "    }\n",
       "\n",
       "    .dataframe tbody tr th {\n",
       "        vertical-align: top;\n",
       "    }\n",
       "\n",
       "    .dataframe thead th {\n",
       "        text-align: right;\n",
       "    }\n",
       "</style>\n",
       "<table border=\"1\" class=\"dataframe\">\n",
       "  <thead>\n",
       "    <tr style=\"text-align: right;\">\n",
       "      <th></th>\n",
       "      <th>ID_ELEVE</th>\n",
       "      <th>GENRE</th>\n",
       "      <th>AGE</th>\n",
       "      <th>NIVEAU</th>\n",
       "      <th>MACRO_SEGMENT</th>\n",
       "      <th>SEGMENT</th>\n",
       "      <th>SCORE_PRIMAIRE</th>\n",
       "      <th>SCORE_SECONDAIRE</th>\n",
       "      <th>SCORE_APPLIQUABLE</th>\n",
       "    </tr>\n",
       "  </thead>\n",
       "  <tbody>\n",
       "    <tr>\n",
       "      <th>0</th>\n",
       "      <td>E00001</td>\n",
       "      <td>m</td>\n",
       "      <td>14</td>\n",
       "      <td>2nde</td>\n",
       "      <td>CYBERVICTIMISATION ET CYBERAGRESSION</td>\n",
       "      <td>EXPOSITION CONTENUS CHOQUANTS</td>\n",
       "      <td>0.0</td>\n",
       "      <td>1.0</td>\n",
       "      <td>1.0</td>\n",
       "    </tr>\n",
       "    <tr>\n",
       "      <th>1</th>\n",
       "      <td>E00001</td>\n",
       "      <td>m</td>\n",
       "      <td>14</td>\n",
       "      <td>2nde</td>\n",
       "      <td>CYBERVICTIMISATION ET CYBERAGRESSION</td>\n",
       "      <td>VICTIMISATION SUBIE</td>\n",
       "      <td>3.0</td>\n",
       "      <td>3.0</td>\n",
       "      <td>3.0</td>\n",
       "    </tr>\n",
       "    <tr>\n",
       "      <th>2</th>\n",
       "      <td>E00001</td>\n",
       "      <td>m</td>\n",
       "      <td>14</td>\n",
       "      <td>2nde</td>\n",
       "      <td>PRATIQUES ET PROFILS</td>\n",
       "      <td>CONTENU PARTAGÉ</td>\n",
       "      <td>0.0</td>\n",
       "      <td>1.0</td>\n",
       "      <td>1.0</td>\n",
       "    </tr>\n",
       "    <tr>\n",
       "      <th>3</th>\n",
       "      <td>E00001</td>\n",
       "      <td>m</td>\n",
       "      <td>14</td>\n",
       "      <td>2nde</td>\n",
       "      <td>PRATIQUES ET PROFILS</td>\n",
       "      <td>PRATIQUES SAINES</td>\n",
       "      <td>2.0</td>\n",
       "      <td>2.0</td>\n",
       "      <td>2.0</td>\n",
       "    </tr>\n",
       "    <tr>\n",
       "      <th>4</th>\n",
       "      <td>E00001</td>\n",
       "      <td>m</td>\n",
       "      <td>14</td>\n",
       "      <td>2nde</td>\n",
       "      <td>PRATIQUES ET PROFILS</td>\n",
       "      <td>PRATIQUES À RISQUE</td>\n",
       "      <td>1.0</td>\n",
       "      <td>1.0</td>\n",
       "      <td>1.0</td>\n",
       "    </tr>\n",
       "  </tbody>\n",
       "</table>\n",
       "</div>"
      ],
      "text/plain": [
       "  ID_ELEVE GENRE  AGE NIVEAU                         MACRO_SEGMENT  \\\n",
       "0   E00001     m   14   2nde  CYBERVICTIMISATION ET CYBERAGRESSION   \n",
       "1   E00001     m   14   2nde  CYBERVICTIMISATION ET CYBERAGRESSION   \n",
       "2   E00001     m   14   2nde                  PRATIQUES ET PROFILS   \n",
       "3   E00001     m   14   2nde                  PRATIQUES ET PROFILS   \n",
       "4   E00001     m   14   2nde                  PRATIQUES ET PROFILS   \n",
       "\n",
       "                         SEGMENT  SCORE_PRIMAIRE  SCORE_SECONDAIRE  \\\n",
       "0  EXPOSITION CONTENUS CHOQUANTS             0.0               1.0   \n",
       "1            VICTIMISATION SUBIE             3.0               3.0   \n",
       "2                CONTENU PARTAGÉ             0.0               1.0   \n",
       "3               PRATIQUES SAINES             2.0               2.0   \n",
       "4             PRATIQUES À RISQUE             1.0               1.0   \n",
       "\n",
       "   SCORE_APPLIQUABLE  \n",
       "0                1.0  \n",
       "1                3.0  \n",
       "2                1.0  \n",
       "3                2.0  \n",
       "4                1.0  "
      ]
     },
     "execution_count": 88,
     "metadata": {},
     "output_type": "execute_result"
    }
   ],
   "source": [
    "df_scored.head()"
   ]
  },
  {
   "cell_type": "code",
   "execution_count": 91,
   "id": "22944fad-34a9-4238-a28f-0b6f256ed69b",
   "metadata": {},
   "outputs": [],
   "source": [
    "# Format timestamp (e.g., 2025-02-19_17-45-00)\n",
    "timestamp = datetime.now().strftime(\"%Y-%m-%d_%H-%M-%S\")\n",
    "\n",
    "# Build the filename with timestamp\n",
    "filename = f\"data/data_score_by_eleve_{timestamp}.csv\"\n",
    "\n",
    "# Save DataFrame to CSV\n",
    "df_scored.to_csv(filename, index=False)"
   ]
  },
  {
   "cell_type": "code",
   "execution_count": 77,
   "id": "4753a194-1f5f-4235-99bf-13574f3f86a3",
   "metadata": {},
   "outputs": [
    {
     "data": {
      "text/plain": [
       "np.float64(12.3174)"
      ]
     },
     "execution_count": 77,
     "metadata": {},
     "output_type": "execute_result"
    }
   ],
   "source": [
    "df_scored.groupby('ID_ELEVE').count()['SEGMENT'].mean()"
   ]
  },
  {
   "cell_type": "code",
   "execution_count": 78,
   "id": "bbc3b6d1-8f9c-46d8-8ecf-e01989b82e40",
   "metadata": {},
   "outputs": [
    {
     "data": {
      "text/plain": [
       "140000"
      ]
     },
     "execution_count": 78,
     "metadata": {},
     "output_type": "execute_result"
    }
   ],
   "source": [
    "fact_reponse.ID_REPONDANT.nunique() * 28"
   ]
  },
  {
   "cell_type": "code",
   "execution_count": 79,
   "id": "4668dd57-bec7-4cb5-8376-8b77b83c999d",
   "metadata": {},
   "outputs": [
    {
     "data": {
      "text/plain": [
       "61587"
      ]
     },
     "execution_count": 79,
     "metadata": {},
     "output_type": "execute_result"
    }
   ],
   "source": [
    "df_scored.shape[0]"
   ]
  },
  {
   "cell_type": "code",
   "execution_count": 68,
   "id": "bde94e37-ea9a-4c40-8b08-f7ef21113483",
   "metadata": {},
   "outputs": [
    {
     "data": {
      "text/plain": [
       "5000"
      ]
     },
     "execution_count": 68,
     "metadata": {},
     "output_type": "execute_result"
    }
   ],
   "source": [
    "df_scored.ID_ELEVE.nunique()"
   ]
  },
  {
   "cell_type": "code",
   "execution_count": 69,
   "id": "b33be112-fcd3-46de-ba8b-703e05377492",
   "metadata": {},
   "outputs": [
    {
     "data": {
      "text/plain": [
       "10000"
      ]
     },
     "execution_count": 69,
     "metadata": {},
     "output_type": "execute_result"
    }
   ],
   "source": [
    "dim_eleve.ID_ELEVE.nunique()"
   ]
  },
  {
   "cell_type": "code",
   "execution_count": null,
   "id": "73e330ed-1aad-4448-86cc-9d522916d0af",
   "metadata": {},
   "outputs": [],
   "source": []
  },
  {
   "cell_type": "code",
   "execution_count": null,
   "id": "1aef5fa7-974e-441c-96bc-30a068ca89e3",
   "metadata": {},
   "outputs": [],
   "source": []
  }
 ],
 "metadata": {
  "kernelspec": {
   "display_name": "Python 3 (ipykernel)",
   "language": "python",
   "name": "python3"
  },
  "language_info": {
   "codemirror_mode": {
    "name": "ipython",
    "version": 3
   },
   "file_extension": ".py",
   "mimetype": "text/x-python",
   "name": "python",
   "nbconvert_exporter": "python",
   "pygments_lexer": "ipython3",
   "version": "3.13.1"
  }
 },
 "nbformat": 4,
 "nbformat_minor": 5
}
